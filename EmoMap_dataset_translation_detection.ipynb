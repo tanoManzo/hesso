{
  "nbformat": 4,
  "nbformat_minor": 0,
  "metadata": {
    "colab": {
      "provenance": [],
      "mount_file_id": "1ZX7QOaHMfeIhuo1UqPs1ZX0n3UlJF6a6",
      "authorship_tag": "ABX9TyPe0w12XguFsEmBrGc3EdrM",
      "include_colab_link": true
    },
    "kernelspec": {
      "name": "python3",
      "display_name": "Python 3"
    },
    "language_info": {
      "name": "python"
    },
    "widgets": {
      "application/vnd.jupyter.widget-state+json": {
        "5801828037ce4bbaa3499a9825d690b0": {
          "model_module": "@jupyter-widgets/controls",
          "model_name": "HBoxModel",
          "model_module_version": "1.5.0",
          "state": {
            "_dom_classes": [],
            "_model_module": "@jupyter-widgets/controls",
            "_model_module_version": "1.5.0",
            "_model_name": "HBoxModel",
            "_view_count": null,
            "_view_module": "@jupyter-widgets/controls",
            "_view_module_version": "1.5.0",
            "_view_name": "HBoxView",
            "box_style": "",
            "children": [
              "IPY_MODEL_b16200f8a43640b98d5a69d6bb65874e",
              "IPY_MODEL_33b1af1b117244d1876971e64ec9363d",
              "IPY_MODEL_0694632180c9456facb23110df80634f"
            ],
            "layout": "IPY_MODEL_8f5e6f2f46b749139bb5df407fc313ac"
          }
        },
        "b16200f8a43640b98d5a69d6bb65874e": {
          "model_module": "@jupyter-widgets/controls",
          "model_name": "HTMLModel",
          "model_module_version": "1.5.0",
          "state": {
            "_dom_classes": [],
            "_model_module": "@jupyter-widgets/controls",
            "_model_module_version": "1.5.0",
            "_model_name": "HTMLModel",
            "_view_count": null,
            "_view_module": "@jupyter-widgets/controls",
            "_view_module_version": "1.5.0",
            "_view_name": "HTMLView",
            "description": "",
            "description_tooltip": null,
            "layout": "IPY_MODEL_83e7792136b04884a49c7f333bc1aa0f",
            "placeholder": "​",
            "style": "IPY_MODEL_1dd525f196b3485597cd79d2bff67696",
            "value": "Downloading (…)lve/main/config.json: 100%"
          }
        },
        "33b1af1b117244d1876971e64ec9363d": {
          "model_module": "@jupyter-widgets/controls",
          "model_name": "FloatProgressModel",
          "model_module_version": "1.5.0",
          "state": {
            "_dom_classes": [],
            "_model_module": "@jupyter-widgets/controls",
            "_model_module_version": "1.5.0",
            "_model_name": "FloatProgressModel",
            "_view_count": null,
            "_view_module": "@jupyter-widgets/controls",
            "_view_module_version": "1.5.0",
            "_view_name": "ProgressView",
            "bar_style": "success",
            "description": "",
            "description_tooltip": null,
            "layout": "IPY_MODEL_5f7923861d2245cabc8fcbc02ac32218",
            "max": 1438,
            "min": 0,
            "orientation": "horizontal",
            "style": "IPY_MODEL_feb60f714e584913a797e1c5aa71c475",
            "value": 1438
          }
        },
        "0694632180c9456facb23110df80634f": {
          "model_module": "@jupyter-widgets/controls",
          "model_name": "HTMLModel",
          "model_module_version": "1.5.0",
          "state": {
            "_dom_classes": [],
            "_model_module": "@jupyter-widgets/controls",
            "_model_module_version": "1.5.0",
            "_model_name": "HTMLModel",
            "_view_count": null,
            "_view_module": "@jupyter-widgets/controls",
            "_view_module_version": "1.5.0",
            "_view_name": "HTMLView",
            "description": "",
            "description_tooltip": null,
            "layout": "IPY_MODEL_6c1cd79292b94295b445128fb22187fd",
            "placeholder": "​",
            "style": "IPY_MODEL_c0f77c663cdd4e20996e76592dddcceb",
            "value": " 1.44k/1.44k [00:00&lt;00:00, 40.3kB/s]"
          }
        },
        "8f5e6f2f46b749139bb5df407fc313ac": {
          "model_module": "@jupyter-widgets/base",
          "model_name": "LayoutModel",
          "model_module_version": "1.2.0",
          "state": {
            "_model_module": "@jupyter-widgets/base",
            "_model_module_version": "1.2.0",
            "_model_name": "LayoutModel",
            "_view_count": null,
            "_view_module": "@jupyter-widgets/base",
            "_view_module_version": "1.2.0",
            "_view_name": "LayoutView",
            "align_content": null,
            "align_items": null,
            "align_self": null,
            "border": null,
            "bottom": null,
            "display": null,
            "flex": null,
            "flex_flow": null,
            "grid_area": null,
            "grid_auto_columns": null,
            "grid_auto_flow": null,
            "grid_auto_rows": null,
            "grid_column": null,
            "grid_gap": null,
            "grid_row": null,
            "grid_template_areas": null,
            "grid_template_columns": null,
            "grid_template_rows": null,
            "height": null,
            "justify_content": null,
            "justify_items": null,
            "left": null,
            "margin": null,
            "max_height": null,
            "max_width": null,
            "min_height": null,
            "min_width": null,
            "object_fit": null,
            "object_position": null,
            "order": null,
            "overflow": null,
            "overflow_x": null,
            "overflow_y": null,
            "padding": null,
            "right": null,
            "top": null,
            "visibility": null,
            "width": null
          }
        },
        "83e7792136b04884a49c7f333bc1aa0f": {
          "model_module": "@jupyter-widgets/base",
          "model_name": "LayoutModel",
          "model_module_version": "1.2.0",
          "state": {
            "_model_module": "@jupyter-widgets/base",
            "_model_module_version": "1.2.0",
            "_model_name": "LayoutModel",
            "_view_count": null,
            "_view_module": "@jupyter-widgets/base",
            "_view_module_version": "1.2.0",
            "_view_name": "LayoutView",
            "align_content": null,
            "align_items": null,
            "align_self": null,
            "border": null,
            "bottom": null,
            "display": null,
            "flex": null,
            "flex_flow": null,
            "grid_area": null,
            "grid_auto_columns": null,
            "grid_auto_flow": null,
            "grid_auto_rows": null,
            "grid_column": null,
            "grid_gap": null,
            "grid_row": null,
            "grid_template_areas": null,
            "grid_template_columns": null,
            "grid_template_rows": null,
            "height": null,
            "justify_content": null,
            "justify_items": null,
            "left": null,
            "margin": null,
            "max_height": null,
            "max_width": null,
            "min_height": null,
            "min_width": null,
            "object_fit": null,
            "object_position": null,
            "order": null,
            "overflow": null,
            "overflow_x": null,
            "overflow_y": null,
            "padding": null,
            "right": null,
            "top": null,
            "visibility": null,
            "width": null
          }
        },
        "1dd525f196b3485597cd79d2bff67696": {
          "model_module": "@jupyter-widgets/controls",
          "model_name": "DescriptionStyleModel",
          "model_module_version": "1.5.0",
          "state": {
            "_model_module": "@jupyter-widgets/controls",
            "_model_module_version": "1.5.0",
            "_model_name": "DescriptionStyleModel",
            "_view_count": null,
            "_view_module": "@jupyter-widgets/base",
            "_view_module_version": "1.2.0",
            "_view_name": "StyleView",
            "description_width": ""
          }
        },
        "5f7923861d2245cabc8fcbc02ac32218": {
          "model_module": "@jupyter-widgets/base",
          "model_name": "LayoutModel",
          "model_module_version": "1.2.0",
          "state": {
            "_model_module": "@jupyter-widgets/base",
            "_model_module_version": "1.2.0",
            "_model_name": "LayoutModel",
            "_view_count": null,
            "_view_module": "@jupyter-widgets/base",
            "_view_module_version": "1.2.0",
            "_view_name": "LayoutView",
            "align_content": null,
            "align_items": null,
            "align_self": null,
            "border": null,
            "bottom": null,
            "display": null,
            "flex": null,
            "flex_flow": null,
            "grid_area": null,
            "grid_auto_columns": null,
            "grid_auto_flow": null,
            "grid_auto_rows": null,
            "grid_column": null,
            "grid_gap": null,
            "grid_row": null,
            "grid_template_areas": null,
            "grid_template_columns": null,
            "grid_template_rows": null,
            "height": null,
            "justify_content": null,
            "justify_items": null,
            "left": null,
            "margin": null,
            "max_height": null,
            "max_width": null,
            "min_height": null,
            "min_width": null,
            "object_fit": null,
            "object_position": null,
            "order": null,
            "overflow": null,
            "overflow_x": null,
            "overflow_y": null,
            "padding": null,
            "right": null,
            "top": null,
            "visibility": null,
            "width": null
          }
        },
        "feb60f714e584913a797e1c5aa71c475": {
          "model_module": "@jupyter-widgets/controls",
          "model_name": "ProgressStyleModel",
          "model_module_version": "1.5.0",
          "state": {
            "_model_module": "@jupyter-widgets/controls",
            "_model_module_version": "1.5.0",
            "_model_name": "ProgressStyleModel",
            "_view_count": null,
            "_view_module": "@jupyter-widgets/base",
            "_view_module_version": "1.2.0",
            "_view_name": "StyleView",
            "bar_color": null,
            "description_width": ""
          }
        },
        "6c1cd79292b94295b445128fb22187fd": {
          "model_module": "@jupyter-widgets/base",
          "model_name": "LayoutModel",
          "model_module_version": "1.2.0",
          "state": {
            "_model_module": "@jupyter-widgets/base",
            "_model_module_version": "1.2.0",
            "_model_name": "LayoutModel",
            "_view_count": null,
            "_view_module": "@jupyter-widgets/base",
            "_view_module_version": "1.2.0",
            "_view_name": "LayoutView",
            "align_content": null,
            "align_items": null,
            "align_self": null,
            "border": null,
            "bottom": null,
            "display": null,
            "flex": null,
            "flex_flow": null,
            "grid_area": null,
            "grid_auto_columns": null,
            "grid_auto_flow": null,
            "grid_auto_rows": null,
            "grid_column": null,
            "grid_gap": null,
            "grid_row": null,
            "grid_template_areas": null,
            "grid_template_columns": null,
            "grid_template_rows": null,
            "height": null,
            "justify_content": null,
            "justify_items": null,
            "left": null,
            "margin": null,
            "max_height": null,
            "max_width": null,
            "min_height": null,
            "min_width": null,
            "object_fit": null,
            "object_position": null,
            "order": null,
            "overflow": null,
            "overflow_x": null,
            "overflow_y": null,
            "padding": null,
            "right": null,
            "top": null,
            "visibility": null,
            "width": null
          }
        },
        "c0f77c663cdd4e20996e76592dddcceb": {
          "model_module": "@jupyter-widgets/controls",
          "model_name": "DescriptionStyleModel",
          "model_module_version": "1.5.0",
          "state": {
            "_model_module": "@jupyter-widgets/controls",
            "_model_module_version": "1.5.0",
            "_model_name": "DescriptionStyleModel",
            "_view_count": null,
            "_view_module": "@jupyter-widgets/base",
            "_view_module_version": "1.2.0",
            "_view_name": "StyleView",
            "description_width": ""
          }
        },
        "03eb9db884da4c579c8b30d35cd9697e": {
          "model_module": "@jupyter-widgets/controls",
          "model_name": "HBoxModel",
          "model_module_version": "1.5.0",
          "state": {
            "_dom_classes": [],
            "_model_module": "@jupyter-widgets/controls",
            "_model_module_version": "1.5.0",
            "_model_name": "HBoxModel",
            "_view_count": null,
            "_view_module": "@jupyter-widgets/controls",
            "_view_module_version": "1.5.0",
            "_view_name": "HBoxView",
            "box_style": "",
            "children": [
              "IPY_MODEL_196283964eac46a7b961966c9b4f4359",
              "IPY_MODEL_803ac69095f445ee8527cfa8b7419716",
              "IPY_MODEL_5b00c5a3b55a4261b2cd99b3db4d1496"
            ],
            "layout": "IPY_MODEL_bb2dd35fcc324f71b95917ca425f5deb"
          }
        },
        "196283964eac46a7b961966c9b4f4359": {
          "model_module": "@jupyter-widgets/controls",
          "model_name": "HTMLModel",
          "model_module_version": "1.5.0",
          "state": {
            "_dom_classes": [],
            "_model_module": "@jupyter-widgets/controls",
            "_model_module_version": "1.5.0",
            "_model_name": "HTMLModel",
            "_view_count": null,
            "_view_module": "@jupyter-widgets/controls",
            "_view_module_version": "1.5.0",
            "_view_name": "HTMLView",
            "description": "",
            "description_tooltip": null,
            "layout": "IPY_MODEL_6f3c57f4130f40808f9484c242bf1844",
            "placeholder": "​",
            "style": "IPY_MODEL_86ed85ca153e476499865c54d7d2e146",
            "value": "Downloading pytorch_model.bin: 100%"
          }
        },
        "803ac69095f445ee8527cfa8b7419716": {
          "model_module": "@jupyter-widgets/controls",
          "model_name": "FloatProgressModel",
          "model_module_version": "1.5.0",
          "state": {
            "_dom_classes": [],
            "_model_module": "@jupyter-widgets/controls",
            "_model_module_version": "1.5.0",
            "_model_name": "FloatProgressModel",
            "_view_count": null,
            "_view_module": "@jupyter-widgets/controls",
            "_view_module_version": "1.5.0",
            "_view_name": "ProgressView",
            "bar_style": "success",
            "description": "",
            "description_tooltip": null,
            "layout": "IPY_MODEL_e64321fe7e2b412fa093434d60a3a224",
            "max": 312087523,
            "min": 0,
            "orientation": "horizontal",
            "style": "IPY_MODEL_106e45bd836948929b9ca9b5e58bd9ed",
            "value": 312087523
          }
        },
        "5b00c5a3b55a4261b2cd99b3db4d1496": {
          "model_module": "@jupyter-widgets/controls",
          "model_name": "HTMLModel",
          "model_module_version": "1.5.0",
          "state": {
            "_dom_classes": [],
            "_model_module": "@jupyter-widgets/controls",
            "_model_module_version": "1.5.0",
            "_model_name": "HTMLModel",
            "_view_count": null,
            "_view_module": "@jupyter-widgets/controls",
            "_view_module_version": "1.5.0",
            "_view_name": "HTMLView",
            "description": "",
            "description_tooltip": null,
            "layout": "IPY_MODEL_038e9256fdf14a2f8c505559760f5ff5",
            "placeholder": "​",
            "style": "IPY_MODEL_7199d570073a429689425e539636bb70",
            "value": " 312M/312M [00:02&lt;00:00, 129MB/s]"
          }
        },
        "bb2dd35fcc324f71b95917ca425f5deb": {
          "model_module": "@jupyter-widgets/base",
          "model_name": "LayoutModel",
          "model_module_version": "1.2.0",
          "state": {
            "_model_module": "@jupyter-widgets/base",
            "_model_module_version": "1.2.0",
            "_model_name": "LayoutModel",
            "_view_count": null,
            "_view_module": "@jupyter-widgets/base",
            "_view_module_version": "1.2.0",
            "_view_name": "LayoutView",
            "align_content": null,
            "align_items": null,
            "align_self": null,
            "border": null,
            "bottom": null,
            "display": null,
            "flex": null,
            "flex_flow": null,
            "grid_area": null,
            "grid_auto_columns": null,
            "grid_auto_flow": null,
            "grid_auto_rows": null,
            "grid_column": null,
            "grid_gap": null,
            "grid_row": null,
            "grid_template_areas": null,
            "grid_template_columns": null,
            "grid_template_rows": null,
            "height": null,
            "justify_content": null,
            "justify_items": null,
            "left": null,
            "margin": null,
            "max_height": null,
            "max_width": null,
            "min_height": null,
            "min_width": null,
            "object_fit": null,
            "object_position": null,
            "order": null,
            "overflow": null,
            "overflow_x": null,
            "overflow_y": null,
            "padding": null,
            "right": null,
            "top": null,
            "visibility": null,
            "width": null
          }
        },
        "6f3c57f4130f40808f9484c242bf1844": {
          "model_module": "@jupyter-widgets/base",
          "model_name": "LayoutModel",
          "model_module_version": "1.2.0",
          "state": {
            "_model_module": "@jupyter-widgets/base",
            "_model_module_version": "1.2.0",
            "_model_name": "LayoutModel",
            "_view_count": null,
            "_view_module": "@jupyter-widgets/base",
            "_view_module_version": "1.2.0",
            "_view_name": "LayoutView",
            "align_content": null,
            "align_items": null,
            "align_self": null,
            "border": null,
            "bottom": null,
            "display": null,
            "flex": null,
            "flex_flow": null,
            "grid_area": null,
            "grid_auto_columns": null,
            "grid_auto_flow": null,
            "grid_auto_rows": null,
            "grid_column": null,
            "grid_gap": null,
            "grid_row": null,
            "grid_template_areas": null,
            "grid_template_columns": null,
            "grid_template_rows": null,
            "height": null,
            "justify_content": null,
            "justify_items": null,
            "left": null,
            "margin": null,
            "max_height": null,
            "max_width": null,
            "min_height": null,
            "min_width": null,
            "object_fit": null,
            "object_position": null,
            "order": null,
            "overflow": null,
            "overflow_x": null,
            "overflow_y": null,
            "padding": null,
            "right": null,
            "top": null,
            "visibility": null,
            "width": null
          }
        },
        "86ed85ca153e476499865c54d7d2e146": {
          "model_module": "@jupyter-widgets/controls",
          "model_name": "DescriptionStyleModel",
          "model_module_version": "1.5.0",
          "state": {
            "_model_module": "@jupyter-widgets/controls",
            "_model_module_version": "1.5.0",
            "_model_name": "DescriptionStyleModel",
            "_view_count": null,
            "_view_module": "@jupyter-widgets/base",
            "_view_module_version": "1.2.0",
            "_view_name": "StyleView",
            "description_width": ""
          }
        },
        "e64321fe7e2b412fa093434d60a3a224": {
          "model_module": "@jupyter-widgets/base",
          "model_name": "LayoutModel",
          "model_module_version": "1.2.0",
          "state": {
            "_model_module": "@jupyter-widgets/base",
            "_model_module_version": "1.2.0",
            "_model_name": "LayoutModel",
            "_view_count": null,
            "_view_module": "@jupyter-widgets/base",
            "_view_module_version": "1.2.0",
            "_view_name": "LayoutView",
            "align_content": null,
            "align_items": null,
            "align_self": null,
            "border": null,
            "bottom": null,
            "display": null,
            "flex": null,
            "flex_flow": null,
            "grid_area": null,
            "grid_auto_columns": null,
            "grid_auto_flow": null,
            "grid_auto_rows": null,
            "grid_column": null,
            "grid_gap": null,
            "grid_row": null,
            "grid_template_areas": null,
            "grid_template_columns": null,
            "grid_template_rows": null,
            "height": null,
            "justify_content": null,
            "justify_items": null,
            "left": null,
            "margin": null,
            "max_height": null,
            "max_width": null,
            "min_height": null,
            "min_width": null,
            "object_fit": null,
            "object_position": null,
            "order": null,
            "overflow": null,
            "overflow_x": null,
            "overflow_y": null,
            "padding": null,
            "right": null,
            "top": null,
            "visibility": null,
            "width": null
          }
        },
        "106e45bd836948929b9ca9b5e58bd9ed": {
          "model_module": "@jupyter-widgets/controls",
          "model_name": "ProgressStyleModel",
          "model_module_version": "1.5.0",
          "state": {
            "_model_module": "@jupyter-widgets/controls",
            "_model_module_version": "1.5.0",
            "_model_name": "ProgressStyleModel",
            "_view_count": null,
            "_view_module": "@jupyter-widgets/base",
            "_view_module_version": "1.2.0",
            "_view_name": "StyleView",
            "bar_color": null,
            "description_width": ""
          }
        },
        "038e9256fdf14a2f8c505559760f5ff5": {
          "model_module": "@jupyter-widgets/base",
          "model_name": "LayoutModel",
          "model_module_version": "1.2.0",
          "state": {
            "_model_module": "@jupyter-widgets/base",
            "_model_module_version": "1.2.0",
            "_model_name": "LayoutModel",
            "_view_count": null,
            "_view_module": "@jupyter-widgets/base",
            "_view_module_version": "1.2.0",
            "_view_name": "LayoutView",
            "align_content": null,
            "align_items": null,
            "align_self": null,
            "border": null,
            "bottom": null,
            "display": null,
            "flex": null,
            "flex_flow": null,
            "grid_area": null,
            "grid_auto_columns": null,
            "grid_auto_flow": null,
            "grid_auto_rows": null,
            "grid_column": null,
            "grid_gap": null,
            "grid_row": null,
            "grid_template_areas": null,
            "grid_template_columns": null,
            "grid_template_rows": null,
            "height": null,
            "justify_content": null,
            "justify_items": null,
            "left": null,
            "margin": null,
            "max_height": null,
            "max_width": null,
            "min_height": null,
            "min_width": null,
            "object_fit": null,
            "object_position": null,
            "order": null,
            "overflow": null,
            "overflow_x": null,
            "overflow_y": null,
            "padding": null,
            "right": null,
            "top": null,
            "visibility": null,
            "width": null
          }
        },
        "7199d570073a429689425e539636bb70": {
          "model_module": "@jupyter-widgets/controls",
          "model_name": "DescriptionStyleModel",
          "model_module_version": "1.5.0",
          "state": {
            "_model_module": "@jupyter-widgets/controls",
            "_model_module_version": "1.5.0",
            "_model_name": "DescriptionStyleModel",
            "_view_count": null,
            "_view_module": "@jupyter-widgets/base",
            "_view_module_version": "1.2.0",
            "_view_name": "StyleView",
            "description_width": ""
          }
        },
        "f3e6db725ce44f57aa985773ec3e5218": {
          "model_module": "@jupyter-widgets/controls",
          "model_name": "HBoxModel",
          "model_module_version": "1.5.0",
          "state": {
            "_dom_classes": [],
            "_model_module": "@jupyter-widgets/controls",
            "_model_module_version": "1.5.0",
            "_model_name": "HBoxModel",
            "_view_count": null,
            "_view_module": "@jupyter-widgets/controls",
            "_view_module_version": "1.5.0",
            "_view_name": "HBoxView",
            "box_style": "",
            "children": [
              "IPY_MODEL_3b4c741251c14ce08dc8019b138fe870",
              "IPY_MODEL_93d87bd787174c97abd6915d43d379df",
              "IPY_MODEL_8eab42eff8464694a5128cff0b9129a0"
            ],
            "layout": "IPY_MODEL_863b3f9c8d5b479e8f496ccbe1029b40"
          }
        },
        "3b4c741251c14ce08dc8019b138fe870": {
          "model_module": "@jupyter-widgets/controls",
          "model_name": "HTMLModel",
          "model_module_version": "1.5.0",
          "state": {
            "_dom_classes": [],
            "_model_module": "@jupyter-widgets/controls",
            "_model_module_version": "1.5.0",
            "_model_name": "HTMLModel",
            "_view_count": null,
            "_view_module": "@jupyter-widgets/controls",
            "_view_module_version": "1.5.0",
            "_view_name": "HTMLView",
            "description": "",
            "description_tooltip": null,
            "layout": "IPY_MODEL_e261ddbd56974d1e9b4e3feab83345e8",
            "placeholder": "​",
            "style": "IPY_MODEL_6b936581760845f98edce1fe968df9d7",
            "value": "Downloading (…)neration_config.json: 100%"
          }
        },
        "93d87bd787174c97abd6915d43d379df": {
          "model_module": "@jupyter-widgets/controls",
          "model_name": "FloatProgressModel",
          "model_module_version": "1.5.0",
          "state": {
            "_dom_classes": [],
            "_model_module": "@jupyter-widgets/controls",
            "_model_module_version": "1.5.0",
            "_model_name": "FloatProgressModel",
            "_view_count": null,
            "_view_module": "@jupyter-widgets/controls",
            "_view_module_version": "1.5.0",
            "_view_name": "ProgressView",
            "bar_style": "success",
            "description": "",
            "description_tooltip": null,
            "layout": "IPY_MODEL_037f4458d7e54fb4b3018b23612c5416",
            "max": 293,
            "min": 0,
            "orientation": "horizontal",
            "style": "IPY_MODEL_51f459d6dd7d441b909705c6595f0903",
            "value": 293
          }
        },
        "8eab42eff8464694a5128cff0b9129a0": {
          "model_module": "@jupyter-widgets/controls",
          "model_name": "HTMLModel",
          "model_module_version": "1.5.0",
          "state": {
            "_dom_classes": [],
            "_model_module": "@jupyter-widgets/controls",
            "_model_module_version": "1.5.0",
            "_model_name": "HTMLModel",
            "_view_count": null,
            "_view_module": "@jupyter-widgets/controls",
            "_view_module_version": "1.5.0",
            "_view_name": "HTMLView",
            "description": "",
            "description_tooltip": null,
            "layout": "IPY_MODEL_0ed463d50b484a1abf2fe30ffa1098c1",
            "placeholder": "​",
            "style": "IPY_MODEL_ee2fa1ae0314443fa561414a96ab5ccb",
            "value": " 293/293 [00:00&lt;00:00, 5.96kB/s]"
          }
        },
        "863b3f9c8d5b479e8f496ccbe1029b40": {
          "model_module": "@jupyter-widgets/base",
          "model_name": "LayoutModel",
          "model_module_version": "1.2.0",
          "state": {
            "_model_module": "@jupyter-widgets/base",
            "_model_module_version": "1.2.0",
            "_model_name": "LayoutModel",
            "_view_count": null,
            "_view_module": "@jupyter-widgets/base",
            "_view_module_version": "1.2.0",
            "_view_name": "LayoutView",
            "align_content": null,
            "align_items": null,
            "align_self": null,
            "border": null,
            "bottom": null,
            "display": null,
            "flex": null,
            "flex_flow": null,
            "grid_area": null,
            "grid_auto_columns": null,
            "grid_auto_flow": null,
            "grid_auto_rows": null,
            "grid_column": null,
            "grid_gap": null,
            "grid_row": null,
            "grid_template_areas": null,
            "grid_template_columns": null,
            "grid_template_rows": null,
            "height": null,
            "justify_content": null,
            "justify_items": null,
            "left": null,
            "margin": null,
            "max_height": null,
            "max_width": null,
            "min_height": null,
            "min_width": null,
            "object_fit": null,
            "object_position": null,
            "order": null,
            "overflow": null,
            "overflow_x": null,
            "overflow_y": null,
            "padding": null,
            "right": null,
            "top": null,
            "visibility": null,
            "width": null
          }
        },
        "e261ddbd56974d1e9b4e3feab83345e8": {
          "model_module": "@jupyter-widgets/base",
          "model_name": "LayoutModel",
          "model_module_version": "1.2.0",
          "state": {
            "_model_module": "@jupyter-widgets/base",
            "_model_module_version": "1.2.0",
            "_model_name": "LayoutModel",
            "_view_count": null,
            "_view_module": "@jupyter-widgets/base",
            "_view_module_version": "1.2.0",
            "_view_name": "LayoutView",
            "align_content": null,
            "align_items": null,
            "align_self": null,
            "border": null,
            "bottom": null,
            "display": null,
            "flex": null,
            "flex_flow": null,
            "grid_area": null,
            "grid_auto_columns": null,
            "grid_auto_flow": null,
            "grid_auto_rows": null,
            "grid_column": null,
            "grid_gap": null,
            "grid_row": null,
            "grid_template_areas": null,
            "grid_template_columns": null,
            "grid_template_rows": null,
            "height": null,
            "justify_content": null,
            "justify_items": null,
            "left": null,
            "margin": null,
            "max_height": null,
            "max_width": null,
            "min_height": null,
            "min_width": null,
            "object_fit": null,
            "object_position": null,
            "order": null,
            "overflow": null,
            "overflow_x": null,
            "overflow_y": null,
            "padding": null,
            "right": null,
            "top": null,
            "visibility": null,
            "width": null
          }
        },
        "6b936581760845f98edce1fe968df9d7": {
          "model_module": "@jupyter-widgets/controls",
          "model_name": "DescriptionStyleModel",
          "model_module_version": "1.5.0",
          "state": {
            "_model_module": "@jupyter-widgets/controls",
            "_model_module_version": "1.5.0",
            "_model_name": "DescriptionStyleModel",
            "_view_count": null,
            "_view_module": "@jupyter-widgets/base",
            "_view_module_version": "1.2.0",
            "_view_name": "StyleView",
            "description_width": ""
          }
        },
        "037f4458d7e54fb4b3018b23612c5416": {
          "model_module": "@jupyter-widgets/base",
          "model_name": "LayoutModel",
          "model_module_version": "1.2.0",
          "state": {
            "_model_module": "@jupyter-widgets/base",
            "_model_module_version": "1.2.0",
            "_model_name": "LayoutModel",
            "_view_count": null,
            "_view_module": "@jupyter-widgets/base",
            "_view_module_version": "1.2.0",
            "_view_name": "LayoutView",
            "align_content": null,
            "align_items": null,
            "align_self": null,
            "border": null,
            "bottom": null,
            "display": null,
            "flex": null,
            "flex_flow": null,
            "grid_area": null,
            "grid_auto_columns": null,
            "grid_auto_flow": null,
            "grid_auto_rows": null,
            "grid_column": null,
            "grid_gap": null,
            "grid_row": null,
            "grid_template_areas": null,
            "grid_template_columns": null,
            "grid_template_rows": null,
            "height": null,
            "justify_content": null,
            "justify_items": null,
            "left": null,
            "margin": null,
            "max_height": null,
            "max_width": null,
            "min_height": null,
            "min_width": null,
            "object_fit": null,
            "object_position": null,
            "order": null,
            "overflow": null,
            "overflow_x": null,
            "overflow_y": null,
            "padding": null,
            "right": null,
            "top": null,
            "visibility": null,
            "width": null
          }
        },
        "51f459d6dd7d441b909705c6595f0903": {
          "model_module": "@jupyter-widgets/controls",
          "model_name": "ProgressStyleModel",
          "model_module_version": "1.5.0",
          "state": {
            "_model_module": "@jupyter-widgets/controls",
            "_model_module_version": "1.5.0",
            "_model_name": "ProgressStyleModel",
            "_view_count": null,
            "_view_module": "@jupyter-widgets/base",
            "_view_module_version": "1.2.0",
            "_view_name": "StyleView",
            "bar_color": null,
            "description_width": ""
          }
        },
        "0ed463d50b484a1abf2fe30ffa1098c1": {
          "model_module": "@jupyter-widgets/base",
          "model_name": "LayoutModel",
          "model_module_version": "1.2.0",
          "state": {
            "_model_module": "@jupyter-widgets/base",
            "_model_module_version": "1.2.0",
            "_model_name": "LayoutModel",
            "_view_count": null,
            "_view_module": "@jupyter-widgets/base",
            "_view_module_version": "1.2.0",
            "_view_name": "LayoutView",
            "align_content": null,
            "align_items": null,
            "align_self": null,
            "border": null,
            "bottom": null,
            "display": null,
            "flex": null,
            "flex_flow": null,
            "grid_area": null,
            "grid_auto_columns": null,
            "grid_auto_flow": null,
            "grid_auto_rows": null,
            "grid_column": null,
            "grid_gap": null,
            "grid_row": null,
            "grid_template_areas": null,
            "grid_template_columns": null,
            "grid_template_rows": null,
            "height": null,
            "justify_content": null,
            "justify_items": null,
            "left": null,
            "margin": null,
            "max_height": null,
            "max_width": null,
            "min_height": null,
            "min_width": null,
            "object_fit": null,
            "object_position": null,
            "order": null,
            "overflow": null,
            "overflow_x": null,
            "overflow_y": null,
            "padding": null,
            "right": null,
            "top": null,
            "visibility": null,
            "width": null
          }
        },
        "ee2fa1ae0314443fa561414a96ab5ccb": {
          "model_module": "@jupyter-widgets/controls",
          "model_name": "DescriptionStyleModel",
          "model_module_version": "1.5.0",
          "state": {
            "_model_module": "@jupyter-widgets/controls",
            "_model_module_version": "1.5.0",
            "_model_name": "DescriptionStyleModel",
            "_view_count": null,
            "_view_module": "@jupyter-widgets/base",
            "_view_module_version": "1.2.0",
            "_view_name": "StyleView",
            "description_width": ""
          }
        },
        "5a1668f4377a49fcbc3b85119c55a672": {
          "model_module": "@jupyter-widgets/controls",
          "model_name": "HBoxModel",
          "model_module_version": "1.5.0",
          "state": {
            "_dom_classes": [],
            "_model_module": "@jupyter-widgets/controls",
            "_model_module_version": "1.5.0",
            "_model_name": "HBoxModel",
            "_view_count": null,
            "_view_module": "@jupyter-widgets/controls",
            "_view_module_version": "1.5.0",
            "_view_name": "HBoxView",
            "box_style": "",
            "children": [
              "IPY_MODEL_b022b4fb80c040dea5e7dc8400e57396",
              "IPY_MODEL_ea2f6a689fa842b084a40aa982720b06",
              "IPY_MODEL_d5d92dc944b947229c1ffef3ceff7872"
            ],
            "layout": "IPY_MODEL_340a28bc93d348a9ad4241fdc936a32b"
          }
        },
        "b022b4fb80c040dea5e7dc8400e57396": {
          "model_module": "@jupyter-widgets/controls",
          "model_name": "HTMLModel",
          "model_module_version": "1.5.0",
          "state": {
            "_dom_classes": [],
            "_model_module": "@jupyter-widgets/controls",
            "_model_module_version": "1.5.0",
            "_model_name": "HTMLModel",
            "_view_count": null,
            "_view_module": "@jupyter-widgets/controls",
            "_view_module_version": "1.5.0",
            "_view_name": "HTMLView",
            "description": "",
            "description_tooltip": null,
            "layout": "IPY_MODEL_4b1611e16b8a478b9fe0673cc3cd0fc8",
            "placeholder": "​",
            "style": "IPY_MODEL_9fc4153533e04bd8af90fe3e024fdc47",
            "value": "Downloading (…)okenizer_config.json: 100%"
          }
        },
        "ea2f6a689fa842b084a40aa982720b06": {
          "model_module": "@jupyter-widgets/controls",
          "model_name": "FloatProgressModel",
          "model_module_version": "1.5.0",
          "state": {
            "_dom_classes": [],
            "_model_module": "@jupyter-widgets/controls",
            "_model_module_version": "1.5.0",
            "_model_name": "FloatProgressModel",
            "_view_count": null,
            "_view_module": "@jupyter-widgets/controls",
            "_view_module_version": "1.5.0",
            "_view_name": "ProgressView",
            "bar_style": "success",
            "description": "",
            "description_tooltip": null,
            "layout": "IPY_MODEL_83c5d40c6a7e41d98d9a051ae7959896",
            "max": 44,
            "min": 0,
            "orientation": "horizontal",
            "style": "IPY_MODEL_c5a55c042a734a988fa3c6c7bb38579a",
            "value": 44
          }
        },
        "d5d92dc944b947229c1ffef3ceff7872": {
          "model_module": "@jupyter-widgets/controls",
          "model_name": "HTMLModel",
          "model_module_version": "1.5.0",
          "state": {
            "_dom_classes": [],
            "_model_module": "@jupyter-widgets/controls",
            "_model_module_version": "1.5.0",
            "_model_name": "HTMLModel",
            "_view_count": null,
            "_view_module": "@jupyter-widgets/controls",
            "_view_module_version": "1.5.0",
            "_view_name": "HTMLView",
            "description": "",
            "description_tooltip": null,
            "layout": "IPY_MODEL_c8c85a8230af4cfca1ce8aa91d6d5f7f",
            "placeholder": "​",
            "style": "IPY_MODEL_4efe7688905142ccb8616c14e406faa8",
            "value": " 44.0/44.0 [00:00&lt;00:00, 1.60kB/s]"
          }
        },
        "340a28bc93d348a9ad4241fdc936a32b": {
          "model_module": "@jupyter-widgets/base",
          "model_name": "LayoutModel",
          "model_module_version": "1.2.0",
          "state": {
            "_model_module": "@jupyter-widgets/base",
            "_model_module_version": "1.2.0",
            "_model_name": "LayoutModel",
            "_view_count": null,
            "_view_module": "@jupyter-widgets/base",
            "_view_module_version": "1.2.0",
            "_view_name": "LayoutView",
            "align_content": null,
            "align_items": null,
            "align_self": null,
            "border": null,
            "bottom": null,
            "display": null,
            "flex": null,
            "flex_flow": null,
            "grid_area": null,
            "grid_auto_columns": null,
            "grid_auto_flow": null,
            "grid_auto_rows": null,
            "grid_column": null,
            "grid_gap": null,
            "grid_row": null,
            "grid_template_areas": null,
            "grid_template_columns": null,
            "grid_template_rows": null,
            "height": null,
            "justify_content": null,
            "justify_items": null,
            "left": null,
            "margin": null,
            "max_height": null,
            "max_width": null,
            "min_height": null,
            "min_width": null,
            "object_fit": null,
            "object_position": null,
            "order": null,
            "overflow": null,
            "overflow_x": null,
            "overflow_y": null,
            "padding": null,
            "right": null,
            "top": null,
            "visibility": null,
            "width": null
          }
        },
        "4b1611e16b8a478b9fe0673cc3cd0fc8": {
          "model_module": "@jupyter-widgets/base",
          "model_name": "LayoutModel",
          "model_module_version": "1.2.0",
          "state": {
            "_model_module": "@jupyter-widgets/base",
            "_model_module_version": "1.2.0",
            "_model_name": "LayoutModel",
            "_view_count": null,
            "_view_module": "@jupyter-widgets/base",
            "_view_module_version": "1.2.0",
            "_view_name": "LayoutView",
            "align_content": null,
            "align_items": null,
            "align_self": null,
            "border": null,
            "bottom": null,
            "display": null,
            "flex": null,
            "flex_flow": null,
            "grid_area": null,
            "grid_auto_columns": null,
            "grid_auto_flow": null,
            "grid_auto_rows": null,
            "grid_column": null,
            "grid_gap": null,
            "grid_row": null,
            "grid_template_areas": null,
            "grid_template_columns": null,
            "grid_template_rows": null,
            "height": null,
            "justify_content": null,
            "justify_items": null,
            "left": null,
            "margin": null,
            "max_height": null,
            "max_width": null,
            "min_height": null,
            "min_width": null,
            "object_fit": null,
            "object_position": null,
            "order": null,
            "overflow": null,
            "overflow_x": null,
            "overflow_y": null,
            "padding": null,
            "right": null,
            "top": null,
            "visibility": null,
            "width": null
          }
        },
        "9fc4153533e04bd8af90fe3e024fdc47": {
          "model_module": "@jupyter-widgets/controls",
          "model_name": "DescriptionStyleModel",
          "model_module_version": "1.5.0",
          "state": {
            "_model_module": "@jupyter-widgets/controls",
            "_model_module_version": "1.5.0",
            "_model_name": "DescriptionStyleModel",
            "_view_count": null,
            "_view_module": "@jupyter-widgets/base",
            "_view_module_version": "1.2.0",
            "_view_name": "StyleView",
            "description_width": ""
          }
        },
        "83c5d40c6a7e41d98d9a051ae7959896": {
          "model_module": "@jupyter-widgets/base",
          "model_name": "LayoutModel",
          "model_module_version": "1.2.0",
          "state": {
            "_model_module": "@jupyter-widgets/base",
            "_model_module_version": "1.2.0",
            "_model_name": "LayoutModel",
            "_view_count": null,
            "_view_module": "@jupyter-widgets/base",
            "_view_module_version": "1.2.0",
            "_view_name": "LayoutView",
            "align_content": null,
            "align_items": null,
            "align_self": null,
            "border": null,
            "bottom": null,
            "display": null,
            "flex": null,
            "flex_flow": null,
            "grid_area": null,
            "grid_auto_columns": null,
            "grid_auto_flow": null,
            "grid_auto_rows": null,
            "grid_column": null,
            "grid_gap": null,
            "grid_row": null,
            "grid_template_areas": null,
            "grid_template_columns": null,
            "grid_template_rows": null,
            "height": null,
            "justify_content": null,
            "justify_items": null,
            "left": null,
            "margin": null,
            "max_height": null,
            "max_width": null,
            "min_height": null,
            "min_width": null,
            "object_fit": null,
            "object_position": null,
            "order": null,
            "overflow": null,
            "overflow_x": null,
            "overflow_y": null,
            "padding": null,
            "right": null,
            "top": null,
            "visibility": null,
            "width": null
          }
        },
        "c5a55c042a734a988fa3c6c7bb38579a": {
          "model_module": "@jupyter-widgets/controls",
          "model_name": "ProgressStyleModel",
          "model_module_version": "1.5.0",
          "state": {
            "_model_module": "@jupyter-widgets/controls",
            "_model_module_version": "1.5.0",
            "_model_name": "ProgressStyleModel",
            "_view_count": null,
            "_view_module": "@jupyter-widgets/base",
            "_view_module_version": "1.2.0",
            "_view_name": "StyleView",
            "bar_color": null,
            "description_width": ""
          }
        },
        "c8c85a8230af4cfca1ce8aa91d6d5f7f": {
          "model_module": "@jupyter-widgets/base",
          "model_name": "LayoutModel",
          "model_module_version": "1.2.0",
          "state": {
            "_model_module": "@jupyter-widgets/base",
            "_model_module_version": "1.2.0",
            "_model_name": "LayoutModel",
            "_view_count": null,
            "_view_module": "@jupyter-widgets/base",
            "_view_module_version": "1.2.0",
            "_view_name": "LayoutView",
            "align_content": null,
            "align_items": null,
            "align_self": null,
            "border": null,
            "bottom": null,
            "display": null,
            "flex": null,
            "flex_flow": null,
            "grid_area": null,
            "grid_auto_columns": null,
            "grid_auto_flow": null,
            "grid_auto_rows": null,
            "grid_column": null,
            "grid_gap": null,
            "grid_row": null,
            "grid_template_areas": null,
            "grid_template_columns": null,
            "grid_template_rows": null,
            "height": null,
            "justify_content": null,
            "justify_items": null,
            "left": null,
            "margin": null,
            "max_height": null,
            "max_width": null,
            "min_height": null,
            "min_width": null,
            "object_fit": null,
            "object_position": null,
            "order": null,
            "overflow": null,
            "overflow_x": null,
            "overflow_y": null,
            "padding": null,
            "right": null,
            "top": null,
            "visibility": null,
            "width": null
          }
        },
        "4efe7688905142ccb8616c14e406faa8": {
          "model_module": "@jupyter-widgets/controls",
          "model_name": "DescriptionStyleModel",
          "model_module_version": "1.5.0",
          "state": {
            "_model_module": "@jupyter-widgets/controls",
            "_model_module_version": "1.5.0",
            "_model_name": "DescriptionStyleModel",
            "_view_count": null,
            "_view_module": "@jupyter-widgets/base",
            "_view_module_version": "1.2.0",
            "_view_name": "StyleView",
            "description_width": ""
          }
        },
        "7791a9078d5343d1bafeba0c6d13abbb": {
          "model_module": "@jupyter-widgets/controls",
          "model_name": "HBoxModel",
          "model_module_version": "1.5.0",
          "state": {
            "_dom_classes": [],
            "_model_module": "@jupyter-widgets/controls",
            "_model_module_version": "1.5.0",
            "_model_name": "HBoxModel",
            "_view_count": null,
            "_view_module": "@jupyter-widgets/controls",
            "_view_module_version": "1.5.0",
            "_view_name": "HBoxView",
            "box_style": "",
            "children": [
              "IPY_MODEL_2bc00760f24949ce8fa3605ceefc1c8b",
              "IPY_MODEL_8052dec6448443d9bd818a48bbe48785",
              "IPY_MODEL_b0a5517a89854142b75b79bfbaea6b93"
            ],
            "layout": "IPY_MODEL_cbef7a13ec4d4c0ea5706ccd9f581ec4"
          }
        },
        "2bc00760f24949ce8fa3605ceefc1c8b": {
          "model_module": "@jupyter-widgets/controls",
          "model_name": "HTMLModel",
          "model_module_version": "1.5.0",
          "state": {
            "_dom_classes": [],
            "_model_module": "@jupyter-widgets/controls",
            "_model_module_version": "1.5.0",
            "_model_name": "HTMLModel",
            "_view_count": null,
            "_view_module": "@jupyter-widgets/controls",
            "_view_module_version": "1.5.0",
            "_view_name": "HTMLView",
            "description": "",
            "description_tooltip": null,
            "layout": "IPY_MODEL_a2469549649746f4a21f40bfd06e0199",
            "placeholder": "​",
            "style": "IPY_MODEL_abc5bb836f6e42b0bb1081e46e856f9d",
            "value": "Downloading (…)olve/main/source.spm: 100%"
          }
        },
        "8052dec6448443d9bd818a48bbe48785": {
          "model_module": "@jupyter-widgets/controls",
          "model_name": "FloatProgressModel",
          "model_module_version": "1.5.0",
          "state": {
            "_dom_classes": [],
            "_model_module": "@jupyter-widgets/controls",
            "_model_module_version": "1.5.0",
            "_model_name": "FloatProgressModel",
            "_view_count": null,
            "_view_module": "@jupyter-widgets/controls",
            "_view_module_version": "1.5.0",
            "_view_name": "ProgressView",
            "bar_style": "success",
            "description": "",
            "description_tooltip": null,
            "layout": "IPY_MODEL_f55974b36bc94f4ba843eca4ef7d37e1",
            "max": 825924,
            "min": 0,
            "orientation": "horizontal",
            "style": "IPY_MODEL_46d67c3c6f344055ba4a4d3ddc781583",
            "value": 825924
          }
        },
        "b0a5517a89854142b75b79bfbaea6b93": {
          "model_module": "@jupyter-widgets/controls",
          "model_name": "HTMLModel",
          "model_module_version": "1.5.0",
          "state": {
            "_dom_classes": [],
            "_model_module": "@jupyter-widgets/controls",
            "_model_module_version": "1.5.0",
            "_model_name": "HTMLModel",
            "_view_count": null,
            "_view_module": "@jupyter-widgets/controls",
            "_view_module_version": "1.5.0",
            "_view_name": "HTMLView",
            "description": "",
            "description_tooltip": null,
            "layout": "IPY_MODEL_156d36bdf98c4963864620ca6ef0e950",
            "placeholder": "​",
            "style": "IPY_MODEL_e5eb6640a30d49c5be6b895f701d239d",
            "value": " 826k/826k [00:00&lt;00:00, 1.02MB/s]"
          }
        },
        "cbef7a13ec4d4c0ea5706ccd9f581ec4": {
          "model_module": "@jupyter-widgets/base",
          "model_name": "LayoutModel",
          "model_module_version": "1.2.0",
          "state": {
            "_model_module": "@jupyter-widgets/base",
            "_model_module_version": "1.2.0",
            "_model_name": "LayoutModel",
            "_view_count": null,
            "_view_module": "@jupyter-widgets/base",
            "_view_module_version": "1.2.0",
            "_view_name": "LayoutView",
            "align_content": null,
            "align_items": null,
            "align_self": null,
            "border": null,
            "bottom": null,
            "display": null,
            "flex": null,
            "flex_flow": null,
            "grid_area": null,
            "grid_auto_columns": null,
            "grid_auto_flow": null,
            "grid_auto_rows": null,
            "grid_column": null,
            "grid_gap": null,
            "grid_row": null,
            "grid_template_areas": null,
            "grid_template_columns": null,
            "grid_template_rows": null,
            "height": null,
            "justify_content": null,
            "justify_items": null,
            "left": null,
            "margin": null,
            "max_height": null,
            "max_width": null,
            "min_height": null,
            "min_width": null,
            "object_fit": null,
            "object_position": null,
            "order": null,
            "overflow": null,
            "overflow_x": null,
            "overflow_y": null,
            "padding": null,
            "right": null,
            "top": null,
            "visibility": null,
            "width": null
          }
        },
        "a2469549649746f4a21f40bfd06e0199": {
          "model_module": "@jupyter-widgets/base",
          "model_name": "LayoutModel",
          "model_module_version": "1.2.0",
          "state": {
            "_model_module": "@jupyter-widgets/base",
            "_model_module_version": "1.2.0",
            "_model_name": "LayoutModel",
            "_view_count": null,
            "_view_module": "@jupyter-widgets/base",
            "_view_module_version": "1.2.0",
            "_view_name": "LayoutView",
            "align_content": null,
            "align_items": null,
            "align_self": null,
            "border": null,
            "bottom": null,
            "display": null,
            "flex": null,
            "flex_flow": null,
            "grid_area": null,
            "grid_auto_columns": null,
            "grid_auto_flow": null,
            "grid_auto_rows": null,
            "grid_column": null,
            "grid_gap": null,
            "grid_row": null,
            "grid_template_areas": null,
            "grid_template_columns": null,
            "grid_template_rows": null,
            "height": null,
            "justify_content": null,
            "justify_items": null,
            "left": null,
            "margin": null,
            "max_height": null,
            "max_width": null,
            "min_height": null,
            "min_width": null,
            "object_fit": null,
            "object_position": null,
            "order": null,
            "overflow": null,
            "overflow_x": null,
            "overflow_y": null,
            "padding": null,
            "right": null,
            "top": null,
            "visibility": null,
            "width": null
          }
        },
        "abc5bb836f6e42b0bb1081e46e856f9d": {
          "model_module": "@jupyter-widgets/controls",
          "model_name": "DescriptionStyleModel",
          "model_module_version": "1.5.0",
          "state": {
            "_model_module": "@jupyter-widgets/controls",
            "_model_module_version": "1.5.0",
            "_model_name": "DescriptionStyleModel",
            "_view_count": null,
            "_view_module": "@jupyter-widgets/base",
            "_view_module_version": "1.2.0",
            "_view_name": "StyleView",
            "description_width": ""
          }
        },
        "f55974b36bc94f4ba843eca4ef7d37e1": {
          "model_module": "@jupyter-widgets/base",
          "model_name": "LayoutModel",
          "model_module_version": "1.2.0",
          "state": {
            "_model_module": "@jupyter-widgets/base",
            "_model_module_version": "1.2.0",
            "_model_name": "LayoutModel",
            "_view_count": null,
            "_view_module": "@jupyter-widgets/base",
            "_view_module_version": "1.2.0",
            "_view_name": "LayoutView",
            "align_content": null,
            "align_items": null,
            "align_self": null,
            "border": null,
            "bottom": null,
            "display": null,
            "flex": null,
            "flex_flow": null,
            "grid_area": null,
            "grid_auto_columns": null,
            "grid_auto_flow": null,
            "grid_auto_rows": null,
            "grid_column": null,
            "grid_gap": null,
            "grid_row": null,
            "grid_template_areas": null,
            "grid_template_columns": null,
            "grid_template_rows": null,
            "height": null,
            "justify_content": null,
            "justify_items": null,
            "left": null,
            "margin": null,
            "max_height": null,
            "max_width": null,
            "min_height": null,
            "min_width": null,
            "object_fit": null,
            "object_position": null,
            "order": null,
            "overflow": null,
            "overflow_x": null,
            "overflow_y": null,
            "padding": null,
            "right": null,
            "top": null,
            "visibility": null,
            "width": null
          }
        },
        "46d67c3c6f344055ba4a4d3ddc781583": {
          "model_module": "@jupyter-widgets/controls",
          "model_name": "ProgressStyleModel",
          "model_module_version": "1.5.0",
          "state": {
            "_model_module": "@jupyter-widgets/controls",
            "_model_module_version": "1.5.0",
            "_model_name": "ProgressStyleModel",
            "_view_count": null,
            "_view_module": "@jupyter-widgets/base",
            "_view_module_version": "1.2.0",
            "_view_name": "StyleView",
            "bar_color": null,
            "description_width": ""
          }
        },
        "156d36bdf98c4963864620ca6ef0e950": {
          "model_module": "@jupyter-widgets/base",
          "model_name": "LayoutModel",
          "model_module_version": "1.2.0",
          "state": {
            "_model_module": "@jupyter-widgets/base",
            "_model_module_version": "1.2.0",
            "_model_name": "LayoutModel",
            "_view_count": null,
            "_view_module": "@jupyter-widgets/base",
            "_view_module_version": "1.2.0",
            "_view_name": "LayoutView",
            "align_content": null,
            "align_items": null,
            "align_self": null,
            "border": null,
            "bottom": null,
            "display": null,
            "flex": null,
            "flex_flow": null,
            "grid_area": null,
            "grid_auto_columns": null,
            "grid_auto_flow": null,
            "grid_auto_rows": null,
            "grid_column": null,
            "grid_gap": null,
            "grid_row": null,
            "grid_template_areas": null,
            "grid_template_columns": null,
            "grid_template_rows": null,
            "height": null,
            "justify_content": null,
            "justify_items": null,
            "left": null,
            "margin": null,
            "max_height": null,
            "max_width": null,
            "min_height": null,
            "min_width": null,
            "object_fit": null,
            "object_position": null,
            "order": null,
            "overflow": null,
            "overflow_x": null,
            "overflow_y": null,
            "padding": null,
            "right": null,
            "top": null,
            "visibility": null,
            "width": null
          }
        },
        "e5eb6640a30d49c5be6b895f701d239d": {
          "model_module": "@jupyter-widgets/controls",
          "model_name": "DescriptionStyleModel",
          "model_module_version": "1.5.0",
          "state": {
            "_model_module": "@jupyter-widgets/controls",
            "_model_module_version": "1.5.0",
            "_model_name": "DescriptionStyleModel",
            "_view_count": null,
            "_view_module": "@jupyter-widgets/base",
            "_view_module_version": "1.2.0",
            "_view_name": "StyleView",
            "description_width": ""
          }
        },
        "056b3fa0539a42e1b3e5e2c4feada114": {
          "model_module": "@jupyter-widgets/controls",
          "model_name": "HBoxModel",
          "model_module_version": "1.5.0",
          "state": {
            "_dom_classes": [],
            "_model_module": "@jupyter-widgets/controls",
            "_model_module_version": "1.5.0",
            "_model_name": "HBoxModel",
            "_view_count": null,
            "_view_module": "@jupyter-widgets/controls",
            "_view_module_version": "1.5.0",
            "_view_name": "HBoxView",
            "box_style": "",
            "children": [
              "IPY_MODEL_2bfd43e668bf4e06bb1d67e52f6bad1a",
              "IPY_MODEL_311c82529f614699b7f222adbc93a6d2",
              "IPY_MODEL_d571393ff8734bc8850826d1e0ab02d9"
            ],
            "layout": "IPY_MODEL_1647234085c340a4a591a7e40574d910"
          }
        },
        "2bfd43e668bf4e06bb1d67e52f6bad1a": {
          "model_module": "@jupyter-widgets/controls",
          "model_name": "HTMLModel",
          "model_module_version": "1.5.0",
          "state": {
            "_dom_classes": [],
            "_model_module": "@jupyter-widgets/controls",
            "_model_module_version": "1.5.0",
            "_model_name": "HTMLModel",
            "_view_count": null,
            "_view_module": "@jupyter-widgets/controls",
            "_view_module_version": "1.5.0",
            "_view_name": "HTMLView",
            "description": "",
            "description_tooltip": null,
            "layout": "IPY_MODEL_b880c07b453d454babc273469d908637",
            "placeholder": "​",
            "style": "IPY_MODEL_07c42d5a70ed4eb29f8bc8c26ff4dfdc",
            "value": "Downloading (…)olve/main/target.spm: 100%"
          }
        },
        "311c82529f614699b7f222adbc93a6d2": {
          "model_module": "@jupyter-widgets/controls",
          "model_name": "FloatProgressModel",
          "model_module_version": "1.5.0",
          "state": {
            "_dom_classes": [],
            "_model_module": "@jupyter-widgets/controls",
            "_model_module_version": "1.5.0",
            "_model_name": "FloatProgressModel",
            "_view_count": null,
            "_view_module": "@jupyter-widgets/controls",
            "_view_module_version": "1.5.0",
            "_view_name": "ProgressView",
            "bar_style": "success",
            "description": "",
            "description_tooltip": null,
            "layout": "IPY_MODEL_69dde04d452c4ddb91422142d911293b",
            "max": 801636,
            "min": 0,
            "orientation": "horizontal",
            "style": "IPY_MODEL_ccc650ef24d04493a9ca916b3ea957cf",
            "value": 801636
          }
        },
        "d571393ff8734bc8850826d1e0ab02d9": {
          "model_module": "@jupyter-widgets/controls",
          "model_name": "HTMLModel",
          "model_module_version": "1.5.0",
          "state": {
            "_dom_classes": [],
            "_model_module": "@jupyter-widgets/controls",
            "_model_module_version": "1.5.0",
            "_model_name": "HTMLModel",
            "_view_count": null,
            "_view_module": "@jupyter-widgets/controls",
            "_view_module_version": "1.5.0",
            "_view_name": "HTMLView",
            "description": "",
            "description_tooltip": null,
            "layout": "IPY_MODEL_2feb27177a8f489c9b4ed2df02b2012b",
            "placeholder": "​",
            "style": "IPY_MODEL_a52f7ab8e21942cfb18d5e9f3cfd6728",
            "value": " 802k/802k [00:00&lt;00:00, 4.87MB/s]"
          }
        },
        "1647234085c340a4a591a7e40574d910": {
          "model_module": "@jupyter-widgets/base",
          "model_name": "LayoutModel",
          "model_module_version": "1.2.0",
          "state": {
            "_model_module": "@jupyter-widgets/base",
            "_model_module_version": "1.2.0",
            "_model_name": "LayoutModel",
            "_view_count": null,
            "_view_module": "@jupyter-widgets/base",
            "_view_module_version": "1.2.0",
            "_view_name": "LayoutView",
            "align_content": null,
            "align_items": null,
            "align_self": null,
            "border": null,
            "bottom": null,
            "display": null,
            "flex": null,
            "flex_flow": null,
            "grid_area": null,
            "grid_auto_columns": null,
            "grid_auto_flow": null,
            "grid_auto_rows": null,
            "grid_column": null,
            "grid_gap": null,
            "grid_row": null,
            "grid_template_areas": null,
            "grid_template_columns": null,
            "grid_template_rows": null,
            "height": null,
            "justify_content": null,
            "justify_items": null,
            "left": null,
            "margin": null,
            "max_height": null,
            "max_width": null,
            "min_height": null,
            "min_width": null,
            "object_fit": null,
            "object_position": null,
            "order": null,
            "overflow": null,
            "overflow_x": null,
            "overflow_y": null,
            "padding": null,
            "right": null,
            "top": null,
            "visibility": null,
            "width": null
          }
        },
        "b880c07b453d454babc273469d908637": {
          "model_module": "@jupyter-widgets/base",
          "model_name": "LayoutModel",
          "model_module_version": "1.2.0",
          "state": {
            "_model_module": "@jupyter-widgets/base",
            "_model_module_version": "1.2.0",
            "_model_name": "LayoutModel",
            "_view_count": null,
            "_view_module": "@jupyter-widgets/base",
            "_view_module_version": "1.2.0",
            "_view_name": "LayoutView",
            "align_content": null,
            "align_items": null,
            "align_self": null,
            "border": null,
            "bottom": null,
            "display": null,
            "flex": null,
            "flex_flow": null,
            "grid_area": null,
            "grid_auto_columns": null,
            "grid_auto_flow": null,
            "grid_auto_rows": null,
            "grid_column": null,
            "grid_gap": null,
            "grid_row": null,
            "grid_template_areas": null,
            "grid_template_columns": null,
            "grid_template_rows": null,
            "height": null,
            "justify_content": null,
            "justify_items": null,
            "left": null,
            "margin": null,
            "max_height": null,
            "max_width": null,
            "min_height": null,
            "min_width": null,
            "object_fit": null,
            "object_position": null,
            "order": null,
            "overflow": null,
            "overflow_x": null,
            "overflow_y": null,
            "padding": null,
            "right": null,
            "top": null,
            "visibility": null,
            "width": null
          }
        },
        "07c42d5a70ed4eb29f8bc8c26ff4dfdc": {
          "model_module": "@jupyter-widgets/controls",
          "model_name": "DescriptionStyleModel",
          "model_module_version": "1.5.0",
          "state": {
            "_model_module": "@jupyter-widgets/controls",
            "_model_module_version": "1.5.0",
            "_model_name": "DescriptionStyleModel",
            "_view_count": null,
            "_view_module": "@jupyter-widgets/base",
            "_view_module_version": "1.2.0",
            "_view_name": "StyleView",
            "description_width": ""
          }
        },
        "69dde04d452c4ddb91422142d911293b": {
          "model_module": "@jupyter-widgets/base",
          "model_name": "LayoutModel",
          "model_module_version": "1.2.0",
          "state": {
            "_model_module": "@jupyter-widgets/base",
            "_model_module_version": "1.2.0",
            "_model_name": "LayoutModel",
            "_view_count": null,
            "_view_module": "@jupyter-widgets/base",
            "_view_module_version": "1.2.0",
            "_view_name": "LayoutView",
            "align_content": null,
            "align_items": null,
            "align_self": null,
            "border": null,
            "bottom": null,
            "display": null,
            "flex": null,
            "flex_flow": null,
            "grid_area": null,
            "grid_auto_columns": null,
            "grid_auto_flow": null,
            "grid_auto_rows": null,
            "grid_column": null,
            "grid_gap": null,
            "grid_row": null,
            "grid_template_areas": null,
            "grid_template_columns": null,
            "grid_template_rows": null,
            "height": null,
            "justify_content": null,
            "justify_items": null,
            "left": null,
            "margin": null,
            "max_height": null,
            "max_width": null,
            "min_height": null,
            "min_width": null,
            "object_fit": null,
            "object_position": null,
            "order": null,
            "overflow": null,
            "overflow_x": null,
            "overflow_y": null,
            "padding": null,
            "right": null,
            "top": null,
            "visibility": null,
            "width": null
          }
        },
        "ccc650ef24d04493a9ca916b3ea957cf": {
          "model_module": "@jupyter-widgets/controls",
          "model_name": "ProgressStyleModel",
          "model_module_version": "1.5.0",
          "state": {
            "_model_module": "@jupyter-widgets/controls",
            "_model_module_version": "1.5.0",
            "_model_name": "ProgressStyleModel",
            "_view_count": null,
            "_view_module": "@jupyter-widgets/base",
            "_view_module_version": "1.2.0",
            "_view_name": "StyleView",
            "bar_color": null,
            "description_width": ""
          }
        },
        "2feb27177a8f489c9b4ed2df02b2012b": {
          "model_module": "@jupyter-widgets/base",
          "model_name": "LayoutModel",
          "model_module_version": "1.2.0",
          "state": {
            "_model_module": "@jupyter-widgets/base",
            "_model_module_version": "1.2.0",
            "_model_name": "LayoutModel",
            "_view_count": null,
            "_view_module": "@jupyter-widgets/base",
            "_view_module_version": "1.2.0",
            "_view_name": "LayoutView",
            "align_content": null,
            "align_items": null,
            "align_self": null,
            "border": null,
            "bottom": null,
            "display": null,
            "flex": null,
            "flex_flow": null,
            "grid_area": null,
            "grid_auto_columns": null,
            "grid_auto_flow": null,
            "grid_auto_rows": null,
            "grid_column": null,
            "grid_gap": null,
            "grid_row": null,
            "grid_template_areas": null,
            "grid_template_columns": null,
            "grid_template_rows": null,
            "height": null,
            "justify_content": null,
            "justify_items": null,
            "left": null,
            "margin": null,
            "max_height": null,
            "max_width": null,
            "min_height": null,
            "min_width": null,
            "object_fit": null,
            "object_position": null,
            "order": null,
            "overflow": null,
            "overflow_x": null,
            "overflow_y": null,
            "padding": null,
            "right": null,
            "top": null,
            "visibility": null,
            "width": null
          }
        },
        "a52f7ab8e21942cfb18d5e9f3cfd6728": {
          "model_module": "@jupyter-widgets/controls",
          "model_name": "DescriptionStyleModel",
          "model_module_version": "1.5.0",
          "state": {
            "_model_module": "@jupyter-widgets/controls",
            "_model_module_version": "1.5.0",
            "_model_name": "DescriptionStyleModel",
            "_view_count": null,
            "_view_module": "@jupyter-widgets/base",
            "_view_module_version": "1.2.0",
            "_view_name": "StyleView",
            "description_width": ""
          }
        },
        "d0ea2e489f5541ca89138b44d75e64cd": {
          "model_module": "@jupyter-widgets/controls",
          "model_name": "HBoxModel",
          "model_module_version": "1.5.0",
          "state": {
            "_dom_classes": [],
            "_model_module": "@jupyter-widgets/controls",
            "_model_module_version": "1.5.0",
            "_model_name": "HBoxModel",
            "_view_count": null,
            "_view_module": "@jupyter-widgets/controls",
            "_view_module_version": "1.5.0",
            "_view_name": "HBoxView",
            "box_style": "",
            "children": [
              "IPY_MODEL_ea389d4ac085416585a6443cb7867403",
              "IPY_MODEL_6e8928ad58e7472ebdbf2372ed8d7ef4",
              "IPY_MODEL_62ca090a856c4c459a0bc0104309bee8"
            ],
            "layout": "IPY_MODEL_b4f44db7efb84c86a9deb8fae98deb1d"
          }
        },
        "ea389d4ac085416585a6443cb7867403": {
          "model_module": "@jupyter-widgets/controls",
          "model_name": "HTMLModel",
          "model_module_version": "1.5.0",
          "state": {
            "_dom_classes": [],
            "_model_module": "@jupyter-widgets/controls",
            "_model_module_version": "1.5.0",
            "_model_name": "HTMLModel",
            "_view_count": null,
            "_view_module": "@jupyter-widgets/controls",
            "_view_module_version": "1.5.0",
            "_view_name": "HTMLView",
            "description": "",
            "description_tooltip": null,
            "layout": "IPY_MODEL_a53dc987e7624582ae5ebe946add13ac",
            "placeholder": "​",
            "style": "IPY_MODEL_841bf478526f45299ee29f479d0a167a",
            "value": "Downloading (…)olve/main/vocab.json: 100%"
          }
        },
        "6e8928ad58e7472ebdbf2372ed8d7ef4": {
          "model_module": "@jupyter-widgets/controls",
          "model_name": "FloatProgressModel",
          "model_module_version": "1.5.0",
          "state": {
            "_dom_classes": [],
            "_model_module": "@jupyter-widgets/controls",
            "_model_module_version": "1.5.0",
            "_model_name": "FloatProgressModel",
            "_view_count": null,
            "_view_module": "@jupyter-widgets/controls",
            "_view_module_version": "1.5.0",
            "_view_name": "ProgressView",
            "bar_style": "success",
            "description": "",
            "description_tooltip": null,
            "layout": "IPY_MODEL_695f9740752249e6a1a433fe694390d6",
            "max": 1590040,
            "min": 0,
            "orientation": "horizontal",
            "style": "IPY_MODEL_503b5d0cf47f44eb9e29bc32fdc00076",
            "value": 1590040
          }
        },
        "62ca090a856c4c459a0bc0104309bee8": {
          "model_module": "@jupyter-widgets/controls",
          "model_name": "HTMLModel",
          "model_module_version": "1.5.0",
          "state": {
            "_dom_classes": [],
            "_model_module": "@jupyter-widgets/controls",
            "_model_module_version": "1.5.0",
            "_model_name": "HTMLModel",
            "_view_count": null,
            "_view_module": "@jupyter-widgets/controls",
            "_view_module_version": "1.5.0",
            "_view_name": "HTMLView",
            "description": "",
            "description_tooltip": null,
            "layout": "IPY_MODEL_b029792bc8934e8a89f719a87c62d5af",
            "placeholder": "​",
            "style": "IPY_MODEL_90ab80443d044573b80b3691be264f50",
            "value": " 1.59M/1.59M [00:00&lt;00:00, 8.11MB/s]"
          }
        },
        "b4f44db7efb84c86a9deb8fae98deb1d": {
          "model_module": "@jupyter-widgets/base",
          "model_name": "LayoutModel",
          "model_module_version": "1.2.0",
          "state": {
            "_model_module": "@jupyter-widgets/base",
            "_model_module_version": "1.2.0",
            "_model_name": "LayoutModel",
            "_view_count": null,
            "_view_module": "@jupyter-widgets/base",
            "_view_module_version": "1.2.0",
            "_view_name": "LayoutView",
            "align_content": null,
            "align_items": null,
            "align_self": null,
            "border": null,
            "bottom": null,
            "display": null,
            "flex": null,
            "flex_flow": null,
            "grid_area": null,
            "grid_auto_columns": null,
            "grid_auto_flow": null,
            "grid_auto_rows": null,
            "grid_column": null,
            "grid_gap": null,
            "grid_row": null,
            "grid_template_areas": null,
            "grid_template_columns": null,
            "grid_template_rows": null,
            "height": null,
            "justify_content": null,
            "justify_items": null,
            "left": null,
            "margin": null,
            "max_height": null,
            "max_width": null,
            "min_height": null,
            "min_width": null,
            "object_fit": null,
            "object_position": null,
            "order": null,
            "overflow": null,
            "overflow_x": null,
            "overflow_y": null,
            "padding": null,
            "right": null,
            "top": null,
            "visibility": null,
            "width": null
          }
        },
        "a53dc987e7624582ae5ebe946add13ac": {
          "model_module": "@jupyter-widgets/base",
          "model_name": "LayoutModel",
          "model_module_version": "1.2.0",
          "state": {
            "_model_module": "@jupyter-widgets/base",
            "_model_module_version": "1.2.0",
            "_model_name": "LayoutModel",
            "_view_count": null,
            "_view_module": "@jupyter-widgets/base",
            "_view_module_version": "1.2.0",
            "_view_name": "LayoutView",
            "align_content": null,
            "align_items": null,
            "align_self": null,
            "border": null,
            "bottom": null,
            "display": null,
            "flex": null,
            "flex_flow": null,
            "grid_area": null,
            "grid_auto_columns": null,
            "grid_auto_flow": null,
            "grid_auto_rows": null,
            "grid_column": null,
            "grid_gap": null,
            "grid_row": null,
            "grid_template_areas": null,
            "grid_template_columns": null,
            "grid_template_rows": null,
            "height": null,
            "justify_content": null,
            "justify_items": null,
            "left": null,
            "margin": null,
            "max_height": null,
            "max_width": null,
            "min_height": null,
            "min_width": null,
            "object_fit": null,
            "object_position": null,
            "order": null,
            "overflow": null,
            "overflow_x": null,
            "overflow_y": null,
            "padding": null,
            "right": null,
            "top": null,
            "visibility": null,
            "width": null
          }
        },
        "841bf478526f45299ee29f479d0a167a": {
          "model_module": "@jupyter-widgets/controls",
          "model_name": "DescriptionStyleModel",
          "model_module_version": "1.5.0",
          "state": {
            "_model_module": "@jupyter-widgets/controls",
            "_model_module_version": "1.5.0",
            "_model_name": "DescriptionStyleModel",
            "_view_count": null,
            "_view_module": "@jupyter-widgets/base",
            "_view_module_version": "1.2.0",
            "_view_name": "StyleView",
            "description_width": ""
          }
        },
        "695f9740752249e6a1a433fe694390d6": {
          "model_module": "@jupyter-widgets/base",
          "model_name": "LayoutModel",
          "model_module_version": "1.2.0",
          "state": {
            "_model_module": "@jupyter-widgets/base",
            "_model_module_version": "1.2.0",
            "_model_name": "LayoutModel",
            "_view_count": null,
            "_view_module": "@jupyter-widgets/base",
            "_view_module_version": "1.2.0",
            "_view_name": "LayoutView",
            "align_content": null,
            "align_items": null,
            "align_self": null,
            "border": null,
            "bottom": null,
            "display": null,
            "flex": null,
            "flex_flow": null,
            "grid_area": null,
            "grid_auto_columns": null,
            "grid_auto_flow": null,
            "grid_auto_rows": null,
            "grid_column": null,
            "grid_gap": null,
            "grid_row": null,
            "grid_template_areas": null,
            "grid_template_columns": null,
            "grid_template_rows": null,
            "height": null,
            "justify_content": null,
            "justify_items": null,
            "left": null,
            "margin": null,
            "max_height": null,
            "max_width": null,
            "min_height": null,
            "min_width": null,
            "object_fit": null,
            "object_position": null,
            "order": null,
            "overflow": null,
            "overflow_x": null,
            "overflow_y": null,
            "padding": null,
            "right": null,
            "top": null,
            "visibility": null,
            "width": null
          }
        },
        "503b5d0cf47f44eb9e29bc32fdc00076": {
          "model_module": "@jupyter-widgets/controls",
          "model_name": "ProgressStyleModel",
          "model_module_version": "1.5.0",
          "state": {
            "_model_module": "@jupyter-widgets/controls",
            "_model_module_version": "1.5.0",
            "_model_name": "ProgressStyleModel",
            "_view_count": null,
            "_view_module": "@jupyter-widgets/base",
            "_view_module_version": "1.2.0",
            "_view_name": "StyleView",
            "bar_color": null,
            "description_width": ""
          }
        },
        "b029792bc8934e8a89f719a87c62d5af": {
          "model_module": "@jupyter-widgets/base",
          "model_name": "LayoutModel",
          "model_module_version": "1.2.0",
          "state": {
            "_model_module": "@jupyter-widgets/base",
            "_model_module_version": "1.2.0",
            "_model_name": "LayoutModel",
            "_view_count": null,
            "_view_module": "@jupyter-widgets/base",
            "_view_module_version": "1.2.0",
            "_view_name": "LayoutView",
            "align_content": null,
            "align_items": null,
            "align_self": null,
            "border": null,
            "bottom": null,
            "display": null,
            "flex": null,
            "flex_flow": null,
            "grid_area": null,
            "grid_auto_columns": null,
            "grid_auto_flow": null,
            "grid_auto_rows": null,
            "grid_column": null,
            "grid_gap": null,
            "grid_row": null,
            "grid_template_areas": null,
            "grid_template_columns": null,
            "grid_template_rows": null,
            "height": null,
            "justify_content": null,
            "justify_items": null,
            "left": null,
            "margin": null,
            "max_height": null,
            "max_width": null,
            "min_height": null,
            "min_width": null,
            "object_fit": null,
            "object_position": null,
            "order": null,
            "overflow": null,
            "overflow_x": null,
            "overflow_y": null,
            "padding": null,
            "right": null,
            "top": null,
            "visibility": null,
            "width": null
          }
        },
        "90ab80443d044573b80b3691be264f50": {
          "model_module": "@jupyter-widgets/controls",
          "model_name": "DescriptionStyleModel",
          "model_module_version": "1.5.0",
          "state": {
            "_model_module": "@jupyter-widgets/controls",
            "_model_module_version": "1.5.0",
            "_model_name": "DescriptionStyleModel",
            "_view_count": null,
            "_view_module": "@jupyter-widgets/base",
            "_view_module_version": "1.2.0",
            "_view_name": "StyleView",
            "description_width": ""
          }
        }
      }
    }
  },
  "cells": [
    {
      "cell_type": "markdown",
      "metadata": {
        "id": "view-in-github",
        "colab_type": "text"
      },
      "source": [
        "<a href=\"https://colab.research.google.com/github/tanoManzo/hesso/blob/main/EmoMap_dataset_translation_detection.ipynb\" target=\"_parent\"><img src=\"https://colab.research.google.com/assets/colab-badge.svg\" alt=\"Open In Colab\"/></a>"
      ]
    },
    {
      "cell_type": "markdown",
      "source": [
        "## Translation Spanish-English"
      ],
      "metadata": {
        "id": "meEIWsM97Vp5"
      }
    },
    {
      "cell_type": "markdown",
      "source": [
        "install libraries"
      ],
      "metadata": {
        "id": "jV4ecUaj7j29"
      }
    },
    {
      "cell_type": "code",
      "execution_count": 1,
      "metadata": {
        "id": "6ViglwwWJgpV",
        "colab": {
          "base_uri": "https://localhost:8080/"
        },
        "outputId": "8c16c58e-9d96-46df-afa7-0a162f0e9857"
      },
      "outputs": [
        {
          "output_type": "stream",
          "name": "stdout",
          "text": [
            "\u001b[2K     \u001b[90m━━━━━━━━━━━━━━━━━━━━━━━━━━━━━━━━━━━━━━━━\u001b[0m \u001b[32m7.6/7.6 MB\u001b[0m \u001b[31m16.3 MB/s\u001b[0m eta \u001b[36m0:00:00\u001b[0m\n",
            "\u001b[2K     \u001b[90m━━━━━━━━━━━━━━━━━━━━━━━━━━━━━━━━━━━━━━\u001b[0m \u001b[32m294.9/294.9 kB\u001b[0m \u001b[31m11.2 MB/s\u001b[0m eta \u001b[36m0:00:00\u001b[0m\n",
            "\u001b[2K     \u001b[90m━━━━━━━━━━━━━━━━━━━━━━━━━━━━━━━━━━━━━━━━\u001b[0m \u001b[32m7.8/7.8 MB\u001b[0m \u001b[31m38.9 MB/s\u001b[0m eta \u001b[36m0:00:00\u001b[0m\n",
            "\u001b[2K     \u001b[90m━━━━━━━━━━━━━━━━━━━━━━━━━━━━━━━━━━━━━━━━\u001b[0m \u001b[32m1.3/1.3 MB\u001b[0m \u001b[31m47.0 MB/s\u001b[0m eta \u001b[36m0:00:00\u001b[0m\n",
            "\u001b[2K     \u001b[90m━━━━━━━━━━━━━━━━━━━━━━━━━━━━━━━━━━━━━━━━\u001b[0m \u001b[32m1.3/1.3 MB\u001b[0m \u001b[31m10.4 MB/s\u001b[0m eta \u001b[36m0:00:00\u001b[0m\n",
            "\u001b[?25h"
          ]
        }
      ],
      "source": [
        "! pip install transformers -q\n",
        "! pip install sentencepiece -q"
      ]
    },
    {
      "cell_type": "markdown",
      "source": [
        "load libraries"
      ],
      "metadata": {
        "id": "E8YZh0-W7lx4"
      }
    },
    {
      "cell_type": "code",
      "source": [
        "from transformers import pipeline\n",
        "pipe_translation = pipeline(\"translation\", model=\"Helsinki-NLP/opus-mt-es-en\")\n",
        "print(pipe_translation([\"Hola\",\"es un placer\"]))"
      ],
      "metadata": {
        "colab": {
          "base_uri": "https://localhost:8080/",
          "height": 296,
          "referenced_widgets": [
            "5801828037ce4bbaa3499a9825d690b0",
            "b16200f8a43640b98d5a69d6bb65874e",
            "33b1af1b117244d1876971e64ec9363d",
            "0694632180c9456facb23110df80634f",
            "8f5e6f2f46b749139bb5df407fc313ac",
            "83e7792136b04884a49c7f333bc1aa0f",
            "1dd525f196b3485597cd79d2bff67696",
            "5f7923861d2245cabc8fcbc02ac32218",
            "feb60f714e584913a797e1c5aa71c475",
            "6c1cd79292b94295b445128fb22187fd",
            "c0f77c663cdd4e20996e76592dddcceb",
            "03eb9db884da4c579c8b30d35cd9697e",
            "196283964eac46a7b961966c9b4f4359",
            "803ac69095f445ee8527cfa8b7419716",
            "5b00c5a3b55a4261b2cd99b3db4d1496",
            "bb2dd35fcc324f71b95917ca425f5deb",
            "6f3c57f4130f40808f9484c242bf1844",
            "86ed85ca153e476499865c54d7d2e146",
            "e64321fe7e2b412fa093434d60a3a224",
            "106e45bd836948929b9ca9b5e58bd9ed",
            "038e9256fdf14a2f8c505559760f5ff5",
            "7199d570073a429689425e539636bb70",
            "f3e6db725ce44f57aa985773ec3e5218",
            "3b4c741251c14ce08dc8019b138fe870",
            "93d87bd787174c97abd6915d43d379df",
            "8eab42eff8464694a5128cff0b9129a0",
            "863b3f9c8d5b479e8f496ccbe1029b40",
            "e261ddbd56974d1e9b4e3feab83345e8",
            "6b936581760845f98edce1fe968df9d7",
            "037f4458d7e54fb4b3018b23612c5416",
            "51f459d6dd7d441b909705c6595f0903",
            "0ed463d50b484a1abf2fe30ffa1098c1",
            "ee2fa1ae0314443fa561414a96ab5ccb",
            "5a1668f4377a49fcbc3b85119c55a672",
            "b022b4fb80c040dea5e7dc8400e57396",
            "ea2f6a689fa842b084a40aa982720b06",
            "d5d92dc944b947229c1ffef3ceff7872",
            "340a28bc93d348a9ad4241fdc936a32b",
            "4b1611e16b8a478b9fe0673cc3cd0fc8",
            "9fc4153533e04bd8af90fe3e024fdc47",
            "83c5d40c6a7e41d98d9a051ae7959896",
            "c5a55c042a734a988fa3c6c7bb38579a",
            "c8c85a8230af4cfca1ce8aa91d6d5f7f",
            "4efe7688905142ccb8616c14e406faa8",
            "7791a9078d5343d1bafeba0c6d13abbb",
            "2bc00760f24949ce8fa3605ceefc1c8b",
            "8052dec6448443d9bd818a48bbe48785",
            "b0a5517a89854142b75b79bfbaea6b93",
            "cbef7a13ec4d4c0ea5706ccd9f581ec4",
            "a2469549649746f4a21f40bfd06e0199",
            "abc5bb836f6e42b0bb1081e46e856f9d",
            "f55974b36bc94f4ba843eca4ef7d37e1",
            "46d67c3c6f344055ba4a4d3ddc781583",
            "156d36bdf98c4963864620ca6ef0e950",
            "e5eb6640a30d49c5be6b895f701d239d",
            "056b3fa0539a42e1b3e5e2c4feada114",
            "2bfd43e668bf4e06bb1d67e52f6bad1a",
            "311c82529f614699b7f222adbc93a6d2",
            "d571393ff8734bc8850826d1e0ab02d9",
            "1647234085c340a4a591a7e40574d910",
            "b880c07b453d454babc273469d908637",
            "07c42d5a70ed4eb29f8bc8c26ff4dfdc",
            "69dde04d452c4ddb91422142d911293b",
            "ccc650ef24d04493a9ca916b3ea957cf",
            "2feb27177a8f489c9b4ed2df02b2012b",
            "a52f7ab8e21942cfb18d5e9f3cfd6728",
            "d0ea2e489f5541ca89138b44d75e64cd",
            "ea389d4ac085416585a6443cb7867403",
            "6e8928ad58e7472ebdbf2372ed8d7ef4",
            "62ca090a856c4c459a0bc0104309bee8",
            "b4f44db7efb84c86a9deb8fae98deb1d",
            "a53dc987e7624582ae5ebe946add13ac",
            "841bf478526f45299ee29f479d0a167a",
            "695f9740752249e6a1a433fe694390d6",
            "503b5d0cf47f44eb9e29bc32fdc00076",
            "b029792bc8934e8a89f719a87c62d5af",
            "90ab80443d044573b80b3691be264f50"
          ]
        },
        "id": "4NRGQNroMajM",
        "outputId": "66e76e43-672d-45ee-bc5e-17a922fd6da9"
      },
      "execution_count": 2,
      "outputs": [
        {
          "output_type": "display_data",
          "data": {
            "text/plain": [
              "Downloading (…)lve/main/config.json:   0%|          | 0.00/1.44k [00:00<?, ?B/s]"
            ],
            "application/vnd.jupyter.widget-view+json": {
              "version_major": 2,
              "version_minor": 0,
              "model_id": "5801828037ce4bbaa3499a9825d690b0"
            }
          },
          "metadata": {}
        },
        {
          "output_type": "display_data",
          "data": {
            "text/plain": [
              "Downloading pytorch_model.bin:   0%|          | 0.00/312M [00:00<?, ?B/s]"
            ],
            "application/vnd.jupyter.widget-view+json": {
              "version_major": 2,
              "version_minor": 0,
              "model_id": "03eb9db884da4c579c8b30d35cd9697e"
            }
          },
          "metadata": {}
        },
        {
          "output_type": "display_data",
          "data": {
            "text/plain": [
              "Downloading (…)neration_config.json:   0%|          | 0.00/293 [00:00<?, ?B/s]"
            ],
            "application/vnd.jupyter.widget-view+json": {
              "version_major": 2,
              "version_minor": 0,
              "model_id": "f3e6db725ce44f57aa985773ec3e5218"
            }
          },
          "metadata": {}
        },
        {
          "output_type": "display_data",
          "data": {
            "text/plain": [
              "Downloading (…)okenizer_config.json:   0%|          | 0.00/44.0 [00:00<?, ?B/s]"
            ],
            "application/vnd.jupyter.widget-view+json": {
              "version_major": 2,
              "version_minor": 0,
              "model_id": "5a1668f4377a49fcbc3b85119c55a672"
            }
          },
          "metadata": {}
        },
        {
          "output_type": "display_data",
          "data": {
            "text/plain": [
              "Downloading (…)olve/main/source.spm:   0%|          | 0.00/826k [00:00<?, ?B/s]"
            ],
            "application/vnd.jupyter.widget-view+json": {
              "version_major": 2,
              "version_minor": 0,
              "model_id": "7791a9078d5343d1bafeba0c6d13abbb"
            }
          },
          "metadata": {}
        },
        {
          "output_type": "display_data",
          "data": {
            "text/plain": [
              "Downloading (…)olve/main/target.spm:   0%|          | 0.00/802k [00:00<?, ?B/s]"
            ],
            "application/vnd.jupyter.widget-view+json": {
              "version_major": 2,
              "version_minor": 0,
              "model_id": "056b3fa0539a42e1b3e5e2c4feada114"
            }
          },
          "metadata": {}
        },
        {
          "output_type": "display_data",
          "data": {
            "text/plain": [
              "Downloading (…)olve/main/vocab.json:   0%|          | 0.00/1.59M [00:00<?, ?B/s]"
            ],
            "application/vnd.jupyter.widget-view+json": {
              "version_major": 2,
              "version_minor": 0,
              "model_id": "d0ea2e489f5541ca89138b44d75e64cd"
            }
          },
          "metadata": {}
        },
        {
          "output_type": "stream",
          "name": "stderr",
          "text": [
            "/usr/local/lib/python3.10/dist-packages/transformers/models/marian/tokenization_marian.py:194: UserWarning: Recommended: pip install sacremoses.\n",
            "  warnings.warn(\"Recommended: pip install sacremoses.\")\n"
          ]
        },
        {
          "output_type": "stream",
          "name": "stdout",
          "text": [
            "[{'translation_text': 'Hello.'}, {'translation_text': \"It's a pleasure.\"}]\n"
          ]
        }
      ]
    },
    {
      "cell_type": "markdown",
      "source": [
        "## Model for emotion detection"
      ],
      "metadata": {
        "id": "43yQz2jW6rXN"
      }
    },
    {
      "cell_type": "markdown",
      "source": [
        "possible dataset for fine-tuning"
      ],
      "metadata": {
        "id": "__SglByv7ucr"
      }
    },
    {
      "cell_type": "code",
      "source": [
        "import pandas as pd\n",
        "df = pd.read_csv('/content/drive/MyDrive/HESSO/EmoMap/primary-plutchik-wheel-DFE.csv')\n",
        "df.info()"
      ],
      "metadata": {
        "id": "JK3hWR21sAVF",
        "colab": {
          "base_uri": "https://localhost:8080/"
        },
        "outputId": "c0ee383e-f8f4-451d-e210-ec913caba0f6"
      },
      "execution_count": 3,
      "outputs": [
        {
          "output_type": "stream",
          "name": "stdout",
          "text": [
            "<class 'pandas.core.frame.DataFrame'>\n",
            "RangeIndex: 2524 entries, 0 to 2523\n",
            "Data columns (total 11 columns):\n",
            " #   Column              Non-Null Count  Dtype  \n",
            "---  ------              --------------  -----  \n",
            " 0   _unit_id            2524 non-null   int64  \n",
            " 1   _golden             2524 non-null   bool   \n",
            " 2   _unit_state         2524 non-null   object \n",
            " 3   _trusted_judgments  2524 non-null   int64  \n",
            " 4   _last_judgment_at   2500 non-null   object \n",
            " 5   emotion             2524 non-null   object \n",
            " 6   emotion:confidence  2524 non-null   float64\n",
            " 7   emotion_gold        54 non-null     object \n",
            " 8   id                  2524 non-null   int64  \n",
            " 9   idiom_id            2524 non-null   int64  \n",
            " 10  sentence            2524 non-null   object \n",
            "dtypes: bool(1), float64(1), int64(4), object(5)\n",
            "memory usage: 199.8+ KB\n"
          ]
        }
      ]
    },
    {
      "cell_type": "markdown",
      "source": [
        "load libraries and models"
      ],
      "metadata": {
        "id": "6VXr98AQ6wXu"
      }
    },
    {
      "cell_type": "code",
      "source": [
        "import torch\n",
        "from torch.utils.data import Dataset\n",
        "from transformers import DistilBertTokenizerFast\n",
        "from transformers import DistilBertForSequenceClassification\n",
        "from transformers import Trainer, TrainingArguments\n",
        "from transformers.models.realm.retrieval_realm import AutoTokenizer\n",
        "model_ckpt = \"JuliusAlphonso/distilbert-plutchik\""
      ],
      "metadata": {
        "id": "wMAeerPowmHS"
      },
      "execution_count": 4,
      "outputs": []
    },
    {
      "cell_type": "markdown",
      "source": [
        "create pipe for emotions detection"
      ],
      "metadata": {
        "id": "ywu9wdSl6zL_"
      }
    },
    {
      "cell_type": "code",
      "source": [
        "pipe_emotion = pipeline(\"text-classification\",model=model_ckpt, top_k=None, max_length=512)\n",
        "print(pipe_emotion('Hey how is it going? I hope you are doing just fine!'))"
      ],
      "metadata": {
        "colab": {
          "base_uri": "https://localhost:8080/"
        },
        "id": "THyotq1PwaIr",
        "outputId": "7da0fbcf-3f3a-42fc-8e8a-82fe92cc3c66"
      },
      "execution_count": 44,
      "outputs": [
        {
          "output_type": "stream",
          "name": "stderr",
          "text": [
            "Truncation was not explicitly activated but `max_length` is provided a specific value, please use `truncation=True` to explicitly truncate examples to max length. Defaulting to 'longest_first' truncation strategy. If you encode pairs of sequences (GLUE-style) with the tokenizer you can select this strategy more precisely by providing a specific strategy to `truncation`.\n"
          ]
        },
        {
          "output_type": "stream",
          "name": "stdout",
          "text": [
            "[[{'label': 'joy', 'score': 0.4039621353149414}, {'label': 'anticipation', 'score': 0.37908849120140076}, {'label': 'trust', 'score': 0.2882962226867676}, {'label': 'anger', 'score': 0.0560523197054863}, {'label': 'surprise', 'score': 0.043713636696338654}, {'label': 'fear', 'score': 0.042806610465049744}, {'label': 'neutral', 'score': 0.021466493606567383}, {'label': 'disgust', 'score': 0.014209728688001633}, {'label': 'sadness', 'score': 0.009838580153882504}]]\n"
          ]
        }
      ]
    },
    {
      "cell_type": "markdown",
      "source": [
        "full pipe sample"
      ],
      "metadata": {
        "id": "6A8ZKhIw-QKd"
      }
    },
    {
      "cell_type": "code",
      "source": [
        "res = pipe_translation(\"Con cada gesto cariñoso, Laura demostraba su amor hacia su familia.\")"
      ],
      "metadata": {
        "id": "jKedbxwcCePv"
      },
      "execution_count": 45,
      "outputs": []
    },
    {
      "cell_type": "code",
      "source": [
        "res[0]['translation_text']"
      ],
      "metadata": {
        "colab": {
          "base_uri": "https://localhost:8080/",
          "height": 36
        },
        "id": "ZJMquO5KC2Ce",
        "outputId": "2da21d66-ed5d-4f6c-9bfc-fba1799dc230"
      },
      "execution_count": 46,
      "outputs": [
        {
          "output_type": "execute_result",
          "data": {
            "text/plain": [
              "'With every loving gesture, Laura showed her love for her family.'"
            ],
            "application/vnd.google.colaboratory.intrinsic+json": {
              "type": "string"
            }
          },
          "metadata": {},
          "execution_count": 46
        }
      ]
    },
    {
      "cell_type": "code",
      "source": [
        "pipe_emotion(res[0]['translation_text'])"
      ],
      "metadata": {
        "colab": {
          "base_uri": "https://localhost:8080/"
        },
        "id": "T4PyyTK1CyB3",
        "outputId": "6e696a39-d7de-49b0-e6b3-6a7f6ad8a426"
      },
      "execution_count": 47,
      "outputs": [
        {
          "output_type": "execute_result",
          "data": {
            "text/plain": [
              "[[{'label': 'joy', 'score': 0.9037294983863831},\n",
              "  {'label': 'trust', 'score': 0.30874553322792053},\n",
              "  {'label': 'anticipation', 'score': 0.05344287306070328},\n",
              "  {'label': 'surprise', 'score': 0.025506330654025078},\n",
              "  {'label': 'sadness', 'score': 0.022251101210713387},\n",
              "  {'label': 'anger', 'score': 0.009547067806124687},\n",
              "  {'label': 'disgust', 'score': 0.009355872869491577},\n",
              "  {'label': 'fear', 'score': 0.0074730827473104},\n",
              "  {'label': 'neutral', 'score': 0.0050794826820492744}]]"
            ]
          },
          "metadata": {},
          "execution_count": 47
        }
      ]
    },
    {
      "cell_type": "code",
      "source": [
        "sample = [\n",
        "    \"María se puso muy feliz cuando recibió la noticia de que había sido aceptada en la universidad.\",\n",
        "    \"Después de ver la película, Juan lloró debido a la emotiva historia.\",\n",
        "    \"Carlos se enojó mucho cuando su hermano rompió su juguete favorito.\",\n",
        "    \"Con cada gesto cariñoso, Laura demostraba su amor hacia su familia.\",\n",
        "    \"Ana sintió miedo cuando escuchó ruidos extraños en la casa durante la noche.\",\n",
        "    \"¡Qué sorpresa tan agradable fue ver a mi mejor amiga después de tanto tiempo sin vernos!\",\n",
        "    \"La madre mostró preocupación por la salud de su hijo enfermo.\",\n",
        "    \"Agradezco enormemente tu ayuda, sin ti no habría podido hacerlo.\",\n",
        "    \"Los aficionados celebraron con euforia la victoria de su equipo en el campeonato.\",\n",
        "    \" 'Porque eran las tierras que estaban en las orillas del río de la Magdalena y donde habían labranzas, donde habían cultivos de PANCOGER, donde habían cultivos de cacao, o donde habían cultivos donde la comunidad se empeñaba, perfectamente tenía su capacidad productiva, su sostenimiento, su pancoger, tenía su ganadería pero ocurre que esas tierras que eran las más productivas del departamento, se inundaron y al inundarse, pues dejaron una estela de tragedia, dejaron una estela de inconformidad, una estela que hoy ha generado un estigma para el departamento del Huila, un estigma que no hemos podido superar, prueba de ello es que hoy aproximadamente veinte mil personas están siendo afectadas, no solamente desde el punto de vista económico, sino desde el punto de vista psicológico, de la unidad familiar, porque lo que pasó con este proceso, fue un proceso de desplazamiento forzado como lo ha dicho la agencia mundial de represas, que todo proyecto hidroeléctrico en el mundo genera automáticamente un proceso de desplazamiento forzado que fue lo que sucedió aquí, uno escucha historias de personas que la familia eran siete, ocho integrantes, hoy no hay uno con uno, es decir, la familia, la unidad familiar se desintegró en su totalidad, la expectativa del departamento del huila como ente territorial, para efectos de la licencia y uno de los puntos que nosotros estamos tratando de recuperar, por decirlo así, desafortunadamente en una lucha solitaria, porque el gobierno nacional prácticamente nos ha dejado huérfanos, el gobierno nacional en este concepto de estado neoliberal pues prácticamente lo que le interesa es generar energía, no importa a cuantas violaciones de derechos humanos haya, no importa qué suceda con la población, no importa qué suceda con el territorio, lo que le interesa es avasallar, represar para un privado el recurso hídrico y entregarle tal vez el bien, un bien que constitucionalmente es de la nación, que es el agua y entregárselo para que genere capital, ¿genere capital cómo?',\"\n",
        "]\n",
        "\n",
        "translations = [item['translation_text'] for item in pipe_translation(sample)]\n",
        "emotions = pipe_emotion(translations)\n",
        "emotions"
      ],
      "metadata": {
        "colab": {
          "base_uri": "https://localhost:8080/"
        },
        "id": "F4EWOJ-H9KtF",
        "outputId": "75fabc97-86f1-41bc-f53d-af7ff7fa7094"
      },
      "execution_count": 48,
      "outputs": [
        {
          "output_type": "execute_result",
          "data": {
            "text/plain": [
              "[[{'label': 'joy', 'score': 0.9097594618797302},\n",
              "  {'label': 'trust', 'score': 0.06380993872880936},\n",
              "  {'label': 'anticipation', 'score': 0.06207909435033798},\n",
              "  {'label': 'surprise', 'score': 0.05384444445371628},\n",
              "  {'label': 'neutral', 'score': 0.027514411136507988},\n",
              "  {'label': 'sadness', 'score': 0.016786852851510048},\n",
              "  {'label': 'disgust', 'score': 0.00892258808016777},\n",
              "  {'label': 'anger', 'score': 0.007471565622836351},\n",
              "  {'label': 'fear', 'score': 0.0068083410151302814}],\n",
              " [{'label': 'sadness', 'score': 0.8681671619415283},\n",
              "  {'label': 'joy', 'score': 0.19633173942565918},\n",
              "  {'label': 'fear', 'score': 0.051393210887908936},\n",
              "  {'label': 'disgust', 'score': 0.05115249380469322},\n",
              "  {'label': 'trust', 'score': 0.0496169775724411},\n",
              "  {'label': 'anger', 'score': 0.03727302700281143},\n",
              "  {'label': 'anticipation', 'score': 0.02554301545023918},\n",
              "  {'label': 'surprise', 'score': 0.023895014077425003},\n",
              "  {'label': 'neutral', 'score': 0.016677796840667725}],\n",
              " [{'label': 'anger', 'score': 0.3637503981590271},\n",
              "  {'label': 'sadness', 'score': 0.3540056645870209},\n",
              "  {'label': 'disgust', 'score': 0.3039877712726593},\n",
              "  {'label': 'fear', 'score': 0.07092046737670898},\n",
              "  {'label': 'surprise', 'score': 0.033800505101680756},\n",
              "  {'label': 'neutral', 'score': 0.01810566708445549},\n",
              "  {'label': 'anticipation', 'score': 0.008305969648063183},\n",
              "  {'label': 'trust', 'score': 0.005210487637668848},\n",
              "  {'label': 'joy', 'score': 0.0041679204441607}],\n",
              " [{'label': 'joy', 'score': 0.9037294983863831},\n",
              "  {'label': 'trust', 'score': 0.30874553322792053},\n",
              "  {'label': 'anticipation', 'score': 0.05344287306070328},\n",
              "  {'label': 'surprise', 'score': 0.025506330654025078},\n",
              "  {'label': 'sadness', 'score': 0.022251101210713387},\n",
              "  {'label': 'anger', 'score': 0.009547067806124687},\n",
              "  {'label': 'disgust', 'score': 0.009355872869491577},\n",
              "  {'label': 'fear', 'score': 0.0074730827473104},\n",
              "  {'label': 'neutral', 'score': 0.0050794826820492744}],\n",
              " [{'label': 'fear', 'score': 0.5637708306312561},\n",
              "  {'label': 'sadness', 'score': 0.2792663872241974},\n",
              "  {'label': 'neutral', 'score': 0.07616915553808212},\n",
              "  {'label': 'surprise', 'score': 0.060463517904281616},\n",
              "  {'label': 'disgust', 'score': 0.042848989367485046},\n",
              "  {'label': 'anger', 'score': 0.04170242324471474},\n",
              "  {'label': 'anticipation', 'score': 0.02118568867444992},\n",
              "  {'label': 'trust', 'score': 0.010825799778103828},\n",
              "  {'label': 'joy', 'score': 0.009992401115596294}],\n",
              " [{'label': 'surprise', 'score': 0.7374725937843323},\n",
              "  {'label': 'joy', 'score': 0.13097751140594482},\n",
              "  {'label': 'fear', 'score': 0.07251778990030289},\n",
              "  {'label': 'anger', 'score': 0.0703776553273201},\n",
              "  {'label': 'anticipation', 'score': 0.06887798756361008},\n",
              "  {'label': 'sadness', 'score': 0.06364209949970245},\n",
              "  {'label': 'disgust', 'score': 0.054460685700178146},\n",
              "  {'label': 'trust', 'score': 0.020492756739258766},\n",
              "  {'label': 'neutral', 'score': 0.0162824559956789}],\n",
              " [{'label': 'sadness', 'score': 0.7497912645339966},\n",
              "  {'label': 'fear', 'score': 0.242847740650177},\n",
              "  {'label': 'disgust', 'score': 0.07236126065254211},\n",
              "  {'label': 'anger', 'score': 0.0609435960650444},\n",
              "  {'label': 'surprise', 'score': 0.029790882021188736},\n",
              "  {'label': 'neutral', 'score': 0.028162971138954163},\n",
              "  {'label': 'trust', 'score': 0.017581429332494736},\n",
              "  {'label': 'anticipation', 'score': 0.016186051070690155},\n",
              "  {'label': 'joy', 'score': 0.014678110368549824}],\n",
              " [{'label': 'trust', 'score': 0.6208903789520264},\n",
              "  {'label': 'sadness', 'score': 0.32288816571235657},\n",
              "  {'label': 'joy', 'score': 0.16805782914161682},\n",
              "  {'label': 'fear', 'score': 0.06014282628893852},\n",
              "  {'label': 'anger', 'score': 0.046997468918561935},\n",
              "  {'label': 'anticipation', 'score': 0.04526064544916153},\n",
              "  {'label': 'disgust', 'score': 0.01676809787750244},\n",
              "  {'label': 'surprise', 'score': 0.015414737164974213},\n",
              "  {'label': 'neutral', 'score': 0.0025223202537745237}],\n",
              " [{'label': 'joy', 'score': 0.8778924345970154},\n",
              "  {'label': 'anticipation', 'score': 0.15481632947921753},\n",
              "  {'label': 'trust', 'score': 0.13822872936725616},\n",
              "  {'label': 'neutral', 'score': 0.04900779947638512},\n",
              "  {'label': 'surprise', 'score': 0.04226149618625641},\n",
              "  {'label': 'disgust', 'score': 0.019882431253790855},\n",
              "  {'label': 'anger', 'score': 0.016632789745926857},\n",
              "  {'label': 'sadness', 'score': 0.009931180626153946},\n",
              "  {'label': 'fear', 'score': 0.008488565683364868}],\n",
              " [{'label': 'sadness', 'score': 0.4668271839618683},\n",
              "  {'label': 'anger', 'score': 0.29902493953704834},\n",
              "  {'label': 'fear', 'score': 0.26565149426460266},\n",
              "  {'label': 'disgust', 'score': 0.22516216337680817},\n",
              "  {'label': 'anticipation', 'score': 0.09475741535425186},\n",
              "  {'label': 'trust', 'score': 0.07144134491682053},\n",
              "  {'label': 'surprise', 'score': 0.06088591367006302},\n",
              "  {'label': 'joy', 'score': 0.0424039363861084},\n",
              "  {'label': 'neutral', 'score': 0.013627064414322376}]]"
            ]
          },
          "metadata": {},
          "execution_count": 48
        }
      ]
    },
    {
      "cell_type": "code",
      "source": [
        "from nltk.tokenize import word_tokenize\n",
        "\n",
        "text = 'Porque eran las tierras que estaban en las orillas del río de la Magdalena y donde habían labranzas, donde habían cultivos de PANCOGER, donde habían cultivos de cacao, o donde habían cultivos donde la comunidad se empeñaba, perfectamente tenía su capacidad productiva, su sostenimiento, su pancoger, tenía su ganadería pero ocurre que esas tierras que eran las más productivas del departamento, se inundaron y al inundarse, pues dejaron una estela de tragedia, dejaron una estela de inconformidad, una estela que hoy ha generado un estigma para el departamento del Huila, un estigma que no hemos podido superar, prueba de ello es que hoy aproximadamente veinte mil personas están siendo afectadas, no solamente desde el punto de vista económico, sino desde el punto de vista psicológico, de la unidad familiar, porque lo que pasó con este proceso, fue un proceso de desplazamiento forzado como lo ha dicho la agencia mundial de represas, que todo proyecto hidroeléctrico en el mundo genera automáticamente un proceso de desplazamiento forzado que fue lo que sucedió aquí, uno escucha historias de personas que la familia eran siete, ocho integrantes, hoy no hay uno con uno, es decir, la familia, la unidad familiar se desintegró en su totalidad, la expectativa del departamento del huila como ente territorial, para efectos de la licencia y uno de los puntos que nosotros estamos tratando de recuperar, por decirlo así, desafortunadamente en una lucha solitaria, porque el gobierno nacional prácticamente nos ha dejado huérfanos, el gobierno nacional en este concepto de estado neoliberal pues prácticamente lo que le interesa es generar energía, no importa a cuantas violaciones de derechos humanos haya, no importa qué suceda con la población, no importa qué suceda con el territorio, lo que le interesa es avasallar, represar para un privado el recurso hídrico y entregarle tal vez el bien, un bien que constitucionalmente es de la nación, que es el agua y entregárselo para que genere capital, ¿genere capital cómo?'\n",
        "\n",
        "len(word_tokenize(text))"
      ],
      "metadata": {
        "colab": {
          "base_uri": "https://localhost:8080/"
        },
        "id": "k8v_uG85F0cD",
        "outputId": "45377506-7713-4d9c-e487-03a65d089f08"
      },
      "execution_count": 43,
      "outputs": [
        {
          "output_type": "execute_result",
          "data": {
            "text/plain": [
              "364"
            ]
          },
          "metadata": {},
          "execution_count": 43
        }
      ]
    },
    {
      "cell_type": "markdown",
      "source": [
        "## Plots"
      ],
      "metadata": {
        "id": "MOK1ecvw-XJm"
      }
    },
    {
      "cell_type": "markdown",
      "source": [
        "change format for plot"
      ],
      "metadata": {
        "id": "LSeXFgXVGZuR"
      }
    },
    {
      "cell_type": "code",
      "source": [
        "labels = [item['label'] for item in emotions[0]]\n",
        "dict_emo = {}\n",
        "\n",
        "for key in ['sentence']+labels:\n",
        "  dict_emo[key]=[]\n",
        "\n",
        "for sent, emos in zip(translations,emotions):\n",
        "  dict_emo['sentence'].append(sent)\n",
        "\n",
        "  for emo in emos:\n",
        "    dict_emo[emo['label']].append(emo['score'])\n",
        "\n",
        "dict_emo"
      ],
      "metadata": {
        "colab": {
          "base_uri": "https://localhost:8080/"
        },
        "id": "ZDdX3W01DFyH",
        "outputId": "73f27261-a7d0-4d4e-da21-c39e99e77143"
      },
      "execution_count": null,
      "outputs": [
        {
          "output_type": "execute_result",
          "data": {
            "text/plain": [
              "{'sentence': ['Mary was very happy when she received the news that she had been accepted into college.',\n",
              "  'After watching the film, John wept because of the emotional story.',\n",
              "  'Carlos got very angry when his brother broke his favorite toy.',\n",
              "  'With every loving gesture, Laura showed her love for her family.',\n",
              "  'Ana was afraid when she heard strange noises in the house during the night.',\n",
              "  'What a pleasant surprise to see my best friend after so long without seeing us!',\n",
              "  'The mother showed concern for the health of her sick child.',\n",
              "  \"I'm so grateful for your help, I couldn't have done it without you.\",\n",
              "  'Fans celebrated with euphoria the victory of their team in the championship.',\n",
              "  'Despite the difficulties, he always kept the hope of a better future.'],\n",
              " 'joy': [0.9097594618797302,\n",
              "  0.19633173942565918,\n",
              "  0.0041679204441607,\n",
              "  0.9037294983863831,\n",
              "  0.009992401115596294,\n",
              "  0.13097751140594482,\n",
              "  0.014678110368549824,\n",
              "  0.16805782914161682,\n",
              "  0.8778924345970154,\n",
              "  0.2173711359500885],\n",
              " 'trust': [0.06380993872880936,\n",
              "  0.0496169775724411,\n",
              "  0.005210487637668848,\n",
              "  0.30874553322792053,\n",
              "  0.010825799778103828,\n",
              "  0.020492756739258766,\n",
              "  0.017581429332494736,\n",
              "  0.6208903789520264,\n",
              "  0.13822872936725616,\n",
              "  0.5036780834197998],\n",
              " 'anticipation': [0.06207909435033798,\n",
              "  0.02554301545023918,\n",
              "  0.008305969648063183,\n",
              "  0.05344287306070328,\n",
              "  0.02118568867444992,\n",
              "  0.06887798756361008,\n",
              "  0.016186051070690155,\n",
              "  0.04526064544916153,\n",
              "  0.15481632947921753,\n",
              "  0.19240739941596985],\n",
              " 'surprise': [0.05384444445371628,\n",
              "  0.023895014077425003,\n",
              "  0.033800505101680756,\n",
              "  0.025506330654025078,\n",
              "  0.060463517904281616,\n",
              "  0.7374725937843323,\n",
              "  0.029790882021188736,\n",
              "  0.015414737164974213,\n",
              "  0.04226149618625641,\n",
              "  0.015620017424225807],\n",
              " 'neutral': [0.027514411136507988,\n",
              "  0.016677796840667725,\n",
              "  0.01810566708445549,\n",
              "  0.0050794826820492744,\n",
              "  0.07616915553808212,\n",
              "  0.0162824559956789,\n",
              "  0.028162971138954163,\n",
              "  0.0025223202537745237,\n",
              "  0.04900779947638512,\n",
              "  0.003935924731194973],\n",
              " 'sadness': [0.016786852851510048,\n",
              "  0.8681671619415283,\n",
              "  0.3540056645870209,\n",
              "  0.022251101210713387,\n",
              "  0.2792663872241974,\n",
              "  0.06364209949970245,\n",
              "  0.7497912645339966,\n",
              "  0.32288816571235657,\n",
              "  0.009931180626153946,\n",
              "  0.19032496213912964],\n",
              " 'disgust': [0.00892258808016777,\n",
              "  0.05115249380469322,\n",
              "  0.3039877712726593,\n",
              "  0.009355872869491577,\n",
              "  0.042848989367485046,\n",
              "  0.054460685700178146,\n",
              "  0.07236126065254211,\n",
              "  0.01676809787750244,\n",
              "  0.019882431253790855,\n",
              "  0.013372891582548618],\n",
              " 'anger': [0.007471565622836351,\n",
              "  0.03727302700281143,\n",
              "  0.3637503981590271,\n",
              "  0.009547067806124687,\n",
              "  0.04170242324471474,\n",
              "  0.0703776553273201,\n",
              "  0.0609435960650444,\n",
              "  0.046997468918561935,\n",
              "  0.016632789745926857,\n",
              "  0.03469175472855568],\n",
              " 'fear': [0.0068083410151302814,\n",
              "  0.051393210887908936,\n",
              "  0.07092046737670898,\n",
              "  0.0074730827473104,\n",
              "  0.5637708306312561,\n",
              "  0.07251778990030289,\n",
              "  0.242847740650177,\n",
              "  0.06014282628893852,\n",
              "  0.008488565683364868,\n",
              "  0.048541922122240067]}"
            ]
          },
          "metadata": {},
          "execution_count": 10
        }
      ]
    },
    {
      "cell_type": "markdown",
      "source": [
        "animate plot"
      ],
      "metadata": {
        "id": "o0jqIlftJLC3"
      }
    },
    {
      "cell_type": "code",
      "source": [
        "df = pd.DataFrame(dict_emo)\n",
        "plot_data = pd.melt(df, id_vars='sentence', var_name='attribute', value_name='attribute_value')"
      ],
      "metadata": {
        "id": "MbgIIbzelapP"
      },
      "execution_count": null,
      "outputs": []
    },
    {
      "cell_type": "code",
      "source": [
        "import plotly.express as px\n",
        "\n",
        "fig = px.line_polar(plot_data,\n",
        "                    r='attribute_value',\n",
        "                    theta='attribute',\n",
        "                    line_close=True,\n",
        "                    animation_frame = 'sentence',\n",
        "                    title='Transcription',\n",
        "                    template = 'ggplot2'\n",
        "             )\n",
        "fig.update_layout(\n",
        "    autosize=False,\n",
        "    height=600,\n",
        "    width=1000\n",
        ")\n",
        "\n",
        "fig.layout.updatemenus[0].buttons[0].args[1][\"frame\"][\"duration\"] = 2000\n",
        "\n",
        "fig.show()"
      ],
      "metadata": {
        "colab": {
          "base_uri": "https://localhost:8080/",
          "height": 617
        },
        "id": "lfPvUXoIlseL",
        "outputId": "45ff69f5-b088-4e08-ec57-b9b4eb911566"
      },
      "execution_count": null,
      "outputs": [
        {
          "output_type": "display_data",
          "data": {
            "text/html": [
              "<html>\n",
              "<head><meta charset=\"utf-8\" /></head>\n",
              "<body>\n",
              "    <div>            <script src=\"https://cdnjs.cloudflare.com/ajax/libs/mathjax/2.7.5/MathJax.js?config=TeX-AMS-MML_SVG\"></script><script type=\"text/javascript\">if (window.MathJax && window.MathJax.Hub && window.MathJax.Hub.Config) {window.MathJax.Hub.Config({SVG: {font: \"STIX-Web\"}});}</script>                <script type=\"text/javascript\">window.PlotlyConfig = {MathJaxConfig: 'local'};</script>\n",
              "        <script charset=\"utf-8\" src=\"https://cdn.plot.ly/plotly-2.24.1.min.js\"></script>                <div id=\"f2d261c5-7841-495d-ae08-fd7d380d246d\" class=\"plotly-graph-div\" style=\"height:600px; width:1000px;\"></div>            <script type=\"text/javascript\">                                    window.PLOTLYENV=window.PLOTLYENV || {};                                    if (document.getElementById(\"f2d261c5-7841-495d-ae08-fd7d380d246d\")) {                    Plotly.newPlot(                        \"f2d261c5-7841-495d-ae08-fd7d380d246d\",                        [{\"hovertemplate\":\"sentence=Mary was very happy when she received the news that she had been accepted into college.\\u003cbr\\u003eattribute_value=%{r}\\u003cbr\\u003eattribute=%{theta}\\u003cextra\\u003e\\u003c\\u002fextra\\u003e\",\"legendgroup\":\"\",\"line\":{\"color\":\"#F8766D\",\"dash\":\"solid\"},\"marker\":{\"symbol\":\"circle\"},\"mode\":\"lines\",\"name\":\"\",\"r\":[0.9097594618797302,0.06380993872880936,0.06207909435033798,0.05384444445371628,0.027514411136507988,0.016786852851510048,0.00892258808016777,0.007471565622836351,0.0068083410151302814,0.9097594618797302],\"showlegend\":false,\"subplot\":\"polar\",\"theta\":[\"joy\",\"trust\",\"anticipation\",\"surprise\",\"neutral\",\"sadness\",\"disgust\",\"anger\",\"fear\",\"joy\"],\"type\":\"scatterpolar\"}],                        {\"template\":{\"data\":{\"barpolar\":[{\"marker\":{\"line\":{\"color\":\"rgb(237,237,237)\",\"width\":0.5},\"pattern\":{\"fillmode\":\"overlay\",\"size\":10,\"solidity\":0.2}},\"type\":\"barpolar\"}],\"bar\":[{\"error_x\":{\"color\":\"rgb(51,51,51)\"},\"error_y\":{\"color\":\"rgb(51,51,51)\"},\"marker\":{\"line\":{\"color\":\"rgb(237,237,237)\",\"width\":0.5},\"pattern\":{\"fillmode\":\"overlay\",\"size\":10,\"solidity\":0.2}},\"type\":\"bar\"}],\"carpet\":[{\"aaxis\":{\"endlinecolor\":\"rgb(51,51,51)\",\"gridcolor\":\"white\",\"linecolor\":\"white\",\"minorgridcolor\":\"white\",\"startlinecolor\":\"rgb(51,51,51)\"},\"baxis\":{\"endlinecolor\":\"rgb(51,51,51)\",\"gridcolor\":\"white\",\"linecolor\":\"white\",\"minorgridcolor\":\"white\",\"startlinecolor\":\"rgb(51,51,51)\"},\"type\":\"carpet\"}],\"choropleth\":[{\"colorbar\":{\"outlinewidth\":0,\"tickcolor\":\"rgb(237,237,237)\",\"ticklen\":6,\"ticks\":\"inside\"},\"type\":\"choropleth\"}],\"contourcarpet\":[{\"colorbar\":{\"outlinewidth\":0,\"tickcolor\":\"rgb(237,237,237)\",\"ticklen\":6,\"ticks\":\"inside\"},\"type\":\"contourcarpet\"}],\"contour\":[{\"colorbar\":{\"outlinewidth\":0,\"tickcolor\":\"rgb(237,237,237)\",\"ticklen\":6,\"ticks\":\"inside\"},\"colorscale\":[[0,\"rgb(20,44,66)\"],[1,\"rgb(90,179,244)\"]],\"type\":\"contour\"}],\"heatmapgl\":[{\"colorbar\":{\"outlinewidth\":0,\"tickcolor\":\"rgb(237,237,237)\",\"ticklen\":6,\"ticks\":\"inside\"},\"colorscale\":[[0,\"rgb(20,44,66)\"],[1,\"rgb(90,179,244)\"]],\"type\":\"heatmapgl\"}],\"heatmap\":[{\"colorbar\":{\"outlinewidth\":0,\"tickcolor\":\"rgb(237,237,237)\",\"ticklen\":6,\"ticks\":\"inside\"},\"colorscale\":[[0,\"rgb(20,44,66)\"],[1,\"rgb(90,179,244)\"]],\"type\":\"heatmap\"}],\"histogram2dcontour\":[{\"colorbar\":{\"outlinewidth\":0,\"tickcolor\":\"rgb(237,237,237)\",\"ticklen\":6,\"ticks\":\"inside\"},\"colorscale\":[[0,\"rgb(20,44,66)\"],[1,\"rgb(90,179,244)\"]],\"type\":\"histogram2dcontour\"}],\"histogram2d\":[{\"colorbar\":{\"outlinewidth\":0,\"tickcolor\":\"rgb(237,237,237)\",\"ticklen\":6,\"ticks\":\"inside\"},\"colorscale\":[[0,\"rgb(20,44,66)\"],[1,\"rgb(90,179,244)\"]],\"type\":\"histogram2d\"}],\"histogram\":[{\"marker\":{\"pattern\":{\"fillmode\":\"overlay\",\"size\":10,\"solidity\":0.2}},\"type\":\"histogram\"}],\"mesh3d\":[{\"colorbar\":{\"outlinewidth\":0,\"tickcolor\":\"rgb(237,237,237)\",\"ticklen\":6,\"ticks\":\"inside\"},\"type\":\"mesh3d\"}],\"parcoords\":[{\"line\":{\"colorbar\":{\"outlinewidth\":0,\"tickcolor\":\"rgb(237,237,237)\",\"ticklen\":6,\"ticks\":\"inside\"}},\"type\":\"parcoords\"}],\"pie\":[{\"automargin\":true,\"type\":\"pie\"}],\"scatter3d\":[{\"line\":{\"colorbar\":{\"outlinewidth\":0,\"tickcolor\":\"rgb(237,237,237)\",\"ticklen\":6,\"ticks\":\"inside\"}},\"marker\":{\"colorbar\":{\"outlinewidth\":0,\"tickcolor\":\"rgb(237,237,237)\",\"ticklen\":6,\"ticks\":\"inside\"}},\"type\":\"scatter3d\"}],\"scattercarpet\":[{\"marker\":{\"colorbar\":{\"outlinewidth\":0,\"tickcolor\":\"rgb(237,237,237)\",\"ticklen\":6,\"ticks\":\"inside\"}},\"type\":\"scattercarpet\"}],\"scattergeo\":[{\"marker\":{\"colorbar\":{\"outlinewidth\":0,\"tickcolor\":\"rgb(237,237,237)\",\"ticklen\":6,\"ticks\":\"inside\"}},\"type\":\"scattergeo\"}],\"scattergl\":[{\"marker\":{\"colorbar\":{\"outlinewidth\":0,\"tickcolor\":\"rgb(237,237,237)\",\"ticklen\":6,\"ticks\":\"inside\"}},\"type\":\"scattergl\"}],\"scattermapbox\":[{\"marker\":{\"colorbar\":{\"outlinewidth\":0,\"tickcolor\":\"rgb(237,237,237)\",\"ticklen\":6,\"ticks\":\"inside\"}},\"type\":\"scattermapbox\"}],\"scatterpolargl\":[{\"marker\":{\"colorbar\":{\"outlinewidth\":0,\"tickcolor\":\"rgb(237,237,237)\",\"ticklen\":6,\"ticks\":\"inside\"}},\"type\":\"scatterpolargl\"}],\"scatterpolar\":[{\"marker\":{\"colorbar\":{\"outlinewidth\":0,\"tickcolor\":\"rgb(237,237,237)\",\"ticklen\":6,\"ticks\":\"inside\"}},\"type\":\"scatterpolar\"}],\"scatter\":[{\"fillpattern\":{\"fillmode\":\"overlay\",\"size\":10,\"solidity\":0.2},\"type\":\"scatter\"}],\"scatterternary\":[{\"marker\":{\"colorbar\":{\"outlinewidth\":0,\"tickcolor\":\"rgb(237,237,237)\",\"ticklen\":6,\"ticks\":\"inside\"}},\"type\":\"scatterternary\"}],\"surface\":[{\"colorbar\":{\"outlinewidth\":0,\"tickcolor\":\"rgb(237,237,237)\",\"ticklen\":6,\"ticks\":\"inside\"},\"colorscale\":[[0,\"rgb(20,44,66)\"],[1,\"rgb(90,179,244)\"]],\"type\":\"surface\"}],\"table\":[{\"cells\":{\"fill\":{\"color\":\"rgb(237,237,237)\"},\"line\":{\"color\":\"white\"}},\"header\":{\"fill\":{\"color\":\"rgb(217,217,217)\"},\"line\":{\"color\":\"white\"}},\"type\":\"table\"}]},\"layout\":{\"annotationdefaults\":{\"arrowhead\":0,\"arrowwidth\":1},\"autotypenumbers\":\"strict\",\"coloraxis\":{\"colorbar\":{\"outlinewidth\":0,\"tickcolor\":\"rgb(237,237,237)\",\"ticklen\":6,\"ticks\":\"inside\"}},\"colorscale\":{\"sequential\":[[0,\"rgb(20,44,66)\"],[1,\"rgb(90,179,244)\"]],\"sequentialminus\":[[0,\"rgb(20,44,66)\"],[1,\"rgb(90,179,244)\"]]},\"colorway\":[\"#F8766D\",\"#A3A500\",\"#00BF7D\",\"#00B0F6\",\"#E76BF3\"],\"font\":{\"color\":\"rgb(51,51,51)\"},\"geo\":{\"bgcolor\":\"white\",\"lakecolor\":\"white\",\"landcolor\":\"rgb(237,237,237)\",\"showlakes\":true,\"showland\":true,\"subunitcolor\":\"white\"},\"hoverlabel\":{\"align\":\"left\"},\"hovermode\":\"closest\",\"paper_bgcolor\":\"white\",\"plot_bgcolor\":\"rgb(237,237,237)\",\"polar\":{\"angularaxis\":{\"gridcolor\":\"white\",\"linecolor\":\"white\",\"showgrid\":true,\"tickcolor\":\"rgb(51,51,51)\",\"ticks\":\"outside\"},\"bgcolor\":\"rgb(237,237,237)\",\"radialaxis\":{\"gridcolor\":\"white\",\"linecolor\":\"white\",\"showgrid\":true,\"tickcolor\":\"rgb(51,51,51)\",\"ticks\":\"outside\"}},\"scene\":{\"xaxis\":{\"backgroundcolor\":\"rgb(237,237,237)\",\"gridcolor\":\"white\",\"gridwidth\":2,\"linecolor\":\"white\",\"showbackground\":true,\"showgrid\":true,\"tickcolor\":\"rgb(51,51,51)\",\"ticks\":\"outside\",\"zerolinecolor\":\"white\"},\"yaxis\":{\"backgroundcolor\":\"rgb(237,237,237)\",\"gridcolor\":\"white\",\"gridwidth\":2,\"linecolor\":\"white\",\"showbackground\":true,\"showgrid\":true,\"tickcolor\":\"rgb(51,51,51)\",\"ticks\":\"outside\",\"zerolinecolor\":\"white\"},\"zaxis\":{\"backgroundcolor\":\"rgb(237,237,237)\",\"gridcolor\":\"white\",\"gridwidth\":2,\"linecolor\":\"white\",\"showbackground\":true,\"showgrid\":true,\"tickcolor\":\"rgb(51,51,51)\",\"ticks\":\"outside\",\"zerolinecolor\":\"white\"}},\"shapedefaults\":{\"fillcolor\":\"black\",\"line\":{\"width\":0},\"opacity\":0.3},\"ternary\":{\"aaxis\":{\"gridcolor\":\"white\",\"linecolor\":\"white\",\"showgrid\":true,\"tickcolor\":\"rgb(51,51,51)\",\"ticks\":\"outside\"},\"baxis\":{\"gridcolor\":\"white\",\"linecolor\":\"white\",\"showgrid\":true,\"tickcolor\":\"rgb(51,51,51)\",\"ticks\":\"outside\"},\"bgcolor\":\"rgb(237,237,237)\",\"caxis\":{\"gridcolor\":\"white\",\"linecolor\":\"white\",\"showgrid\":true,\"tickcolor\":\"rgb(51,51,51)\",\"ticks\":\"outside\"}},\"xaxis\":{\"automargin\":true,\"gridcolor\":\"white\",\"linecolor\":\"white\",\"showgrid\":true,\"tickcolor\":\"rgb(51,51,51)\",\"ticks\":\"outside\",\"title\":{\"standoff\":15},\"zerolinecolor\":\"white\"},\"yaxis\":{\"automargin\":true,\"gridcolor\":\"white\",\"linecolor\":\"white\",\"showgrid\":true,\"tickcolor\":\"rgb(51,51,51)\",\"ticks\":\"outside\",\"title\":{\"standoff\":15},\"zerolinecolor\":\"white\"}}},\"polar\":{\"domain\":{\"x\":[0.0,1.0],\"y\":[0.0,1.0]},\"angularaxis\":{\"direction\":\"clockwise\",\"rotation\":90}},\"legend\":{\"tracegroupgap\":0},\"title\":{\"text\":\"Transcription\"},\"updatemenus\":[{\"buttons\":[{\"args\":[null,{\"frame\":{\"duration\":2000,\"redraw\":true},\"mode\":\"immediate\",\"fromcurrent\":true,\"transition\":{\"duration\":500,\"easing\":\"linear\"}}],\"label\":\"&#9654;\",\"method\":\"animate\"},{\"args\":[[null],{\"frame\":{\"duration\":0,\"redraw\":true},\"mode\":\"immediate\",\"fromcurrent\":true,\"transition\":{\"duration\":0,\"easing\":\"linear\"}}],\"label\":\"&#9724;\",\"method\":\"animate\"}],\"direction\":\"left\",\"pad\":{\"r\":10,\"t\":70},\"showactive\":false,\"type\":\"buttons\",\"x\":0.1,\"xanchor\":\"right\",\"y\":0,\"yanchor\":\"top\"}],\"sliders\":[{\"active\":0,\"currentvalue\":{\"prefix\":\"sentence=\"},\"len\":0.9,\"pad\":{\"b\":10,\"t\":60},\"steps\":[{\"args\":[[\"Mary was very happy when she received the news that she had been accepted into college.\"],{\"frame\":{\"duration\":0,\"redraw\":true},\"mode\":\"immediate\",\"fromcurrent\":true,\"transition\":{\"duration\":0,\"easing\":\"linear\"}}],\"label\":\"Mary was very happy when she received the news that she had been accepted into college.\",\"method\":\"animate\"},{\"args\":[[\"After watching the film, John wept because of the emotional story.\"],{\"frame\":{\"duration\":0,\"redraw\":true},\"mode\":\"immediate\",\"fromcurrent\":true,\"transition\":{\"duration\":0,\"easing\":\"linear\"}}],\"label\":\"After watching the film, John wept because of the emotional story.\",\"method\":\"animate\"},{\"args\":[[\"Carlos got very angry when his brother broke his favorite toy.\"],{\"frame\":{\"duration\":0,\"redraw\":true},\"mode\":\"immediate\",\"fromcurrent\":true,\"transition\":{\"duration\":0,\"easing\":\"linear\"}}],\"label\":\"Carlos got very angry when his brother broke his favorite toy.\",\"method\":\"animate\"},{\"args\":[[\"With every loving gesture, Laura showed her love for her family.\"],{\"frame\":{\"duration\":0,\"redraw\":true},\"mode\":\"immediate\",\"fromcurrent\":true,\"transition\":{\"duration\":0,\"easing\":\"linear\"}}],\"label\":\"With every loving gesture, Laura showed her love for her family.\",\"method\":\"animate\"},{\"args\":[[\"Ana was afraid when she heard strange noises in the house during the night.\"],{\"frame\":{\"duration\":0,\"redraw\":true},\"mode\":\"immediate\",\"fromcurrent\":true,\"transition\":{\"duration\":0,\"easing\":\"linear\"}}],\"label\":\"Ana was afraid when she heard strange noises in the house during the night.\",\"method\":\"animate\"},{\"args\":[[\"What a pleasant surprise to see my best friend after so long without seeing us!\"],{\"frame\":{\"duration\":0,\"redraw\":true},\"mode\":\"immediate\",\"fromcurrent\":true,\"transition\":{\"duration\":0,\"easing\":\"linear\"}}],\"label\":\"What a pleasant surprise to see my best friend after so long without seeing us!\",\"method\":\"animate\"},{\"args\":[[\"The mother showed concern for the health of her sick child.\"],{\"frame\":{\"duration\":0,\"redraw\":true},\"mode\":\"immediate\",\"fromcurrent\":true,\"transition\":{\"duration\":0,\"easing\":\"linear\"}}],\"label\":\"The mother showed concern for the health of her sick child.\",\"method\":\"animate\"},{\"args\":[[\"I'm so grateful for your help, I couldn't have done it without you.\"],{\"frame\":{\"duration\":0,\"redraw\":true},\"mode\":\"immediate\",\"fromcurrent\":true,\"transition\":{\"duration\":0,\"easing\":\"linear\"}}],\"label\":\"I'm so grateful for your help, I couldn't have done it without you.\",\"method\":\"animate\"},{\"args\":[[\"Fans celebrated with euphoria the victory of their team in the championship.\"],{\"frame\":{\"duration\":0,\"redraw\":true},\"mode\":\"immediate\",\"fromcurrent\":true,\"transition\":{\"duration\":0,\"easing\":\"linear\"}}],\"label\":\"Fans celebrated with euphoria the victory of their team in the championship.\",\"method\":\"animate\"},{\"args\":[[\"Despite the difficulties, he always kept the hope of a better future.\"],{\"frame\":{\"duration\":0,\"redraw\":true},\"mode\":\"immediate\",\"fromcurrent\":true,\"transition\":{\"duration\":0,\"easing\":\"linear\"}}],\"label\":\"Despite the difficulties, he always kept the hope of a better future.\",\"method\":\"animate\"}],\"x\":0.1,\"xanchor\":\"left\",\"y\":0,\"yanchor\":\"top\"}],\"autosize\":false,\"height\":600,\"width\":1000},                        {\"responsive\": true}                    ).then(function(){\n",
              "                            Plotly.addFrames('f2d261c5-7841-495d-ae08-fd7d380d246d', [{\"data\":[{\"hovertemplate\":\"sentence=Mary was very happy when she received the news that she had been accepted into college.\\u003cbr\\u003eattribute_value=%{r}\\u003cbr\\u003eattribute=%{theta}\\u003cextra\\u003e\\u003c\\u002fextra\\u003e\",\"legendgroup\":\"\",\"line\":{\"color\":\"#F8766D\",\"dash\":\"solid\"},\"marker\":{\"symbol\":\"circle\"},\"mode\":\"lines\",\"name\":\"\",\"r\":[0.9097594618797302,0.06380993872880936,0.06207909435033798,0.05384444445371628,0.027514411136507988,0.016786852851510048,0.00892258808016777,0.007471565622836351,0.0068083410151302814,0.9097594618797302],\"showlegend\":false,\"subplot\":\"polar\",\"theta\":[\"joy\",\"trust\",\"anticipation\",\"surprise\",\"neutral\",\"sadness\",\"disgust\",\"anger\",\"fear\",\"joy\"],\"type\":\"scatterpolar\"}],\"name\":\"Mary was very happy when she received the news that she had been accepted into college.\"},{\"data\":[{\"hovertemplate\":\"sentence=After watching the film, John wept because of the emotional story.\\u003cbr\\u003eattribute_value=%{r}\\u003cbr\\u003eattribute=%{theta}\\u003cextra\\u003e\\u003c\\u002fextra\\u003e\",\"legendgroup\":\"\",\"line\":{\"color\":\"#F8766D\",\"dash\":\"solid\"},\"marker\":{\"symbol\":\"circle\"},\"mode\":\"lines\",\"name\":\"\",\"r\":[0.19633173942565918,0.0496169775724411,0.02554301545023918,0.023895014077425003,0.016677796840667725,0.8681671619415283,0.05115249380469322,0.03727302700281143,0.051393210887908936,0.19633173942565918],\"showlegend\":false,\"subplot\":\"polar\",\"theta\":[\"joy\",\"trust\",\"anticipation\",\"surprise\",\"neutral\",\"sadness\",\"disgust\",\"anger\",\"fear\",\"joy\"],\"type\":\"scatterpolar\"}],\"name\":\"After watching the film, John wept because of the emotional story.\"},{\"data\":[{\"hovertemplate\":\"sentence=Carlos got very angry when his brother broke his favorite toy.\\u003cbr\\u003eattribute_value=%{r}\\u003cbr\\u003eattribute=%{theta}\\u003cextra\\u003e\\u003c\\u002fextra\\u003e\",\"legendgroup\":\"\",\"line\":{\"color\":\"#F8766D\",\"dash\":\"solid\"},\"marker\":{\"symbol\":\"circle\"},\"mode\":\"lines\",\"name\":\"\",\"r\":[0.0041679204441607,0.005210487637668848,0.008305969648063183,0.033800505101680756,0.01810566708445549,0.3540056645870209,0.3039877712726593,0.3637503981590271,0.07092046737670898,0.0041679204441607],\"showlegend\":false,\"subplot\":\"polar\",\"theta\":[\"joy\",\"trust\",\"anticipation\",\"surprise\",\"neutral\",\"sadness\",\"disgust\",\"anger\",\"fear\",\"joy\"],\"type\":\"scatterpolar\"}],\"name\":\"Carlos got very angry when his brother broke his favorite toy.\"},{\"data\":[{\"hovertemplate\":\"sentence=With every loving gesture, Laura showed her love for her family.\\u003cbr\\u003eattribute_value=%{r}\\u003cbr\\u003eattribute=%{theta}\\u003cextra\\u003e\\u003c\\u002fextra\\u003e\",\"legendgroup\":\"\",\"line\":{\"color\":\"#F8766D\",\"dash\":\"solid\"},\"marker\":{\"symbol\":\"circle\"},\"mode\":\"lines\",\"name\":\"\",\"r\":[0.9037294983863831,0.30874553322792053,0.05344287306070328,0.025506330654025078,0.0050794826820492744,0.022251101210713387,0.009355872869491577,0.009547067806124687,0.0074730827473104,0.9037294983863831],\"showlegend\":false,\"subplot\":\"polar\",\"theta\":[\"joy\",\"trust\",\"anticipation\",\"surprise\",\"neutral\",\"sadness\",\"disgust\",\"anger\",\"fear\",\"joy\"],\"type\":\"scatterpolar\"}],\"name\":\"With every loving gesture, Laura showed her love for her family.\"},{\"data\":[{\"hovertemplate\":\"sentence=Ana was afraid when she heard strange noises in the house during the night.\\u003cbr\\u003eattribute_value=%{r}\\u003cbr\\u003eattribute=%{theta}\\u003cextra\\u003e\\u003c\\u002fextra\\u003e\",\"legendgroup\":\"\",\"line\":{\"color\":\"#F8766D\",\"dash\":\"solid\"},\"marker\":{\"symbol\":\"circle\"},\"mode\":\"lines\",\"name\":\"\",\"r\":[0.009992401115596294,0.010825799778103828,0.02118568867444992,0.060463517904281616,0.07616915553808212,0.2792663872241974,0.042848989367485046,0.04170242324471474,0.5637708306312561,0.009992401115596294],\"showlegend\":false,\"subplot\":\"polar\",\"theta\":[\"joy\",\"trust\",\"anticipation\",\"surprise\",\"neutral\",\"sadness\",\"disgust\",\"anger\",\"fear\",\"joy\"],\"type\":\"scatterpolar\"}],\"name\":\"Ana was afraid when she heard strange noises in the house during the night.\"},{\"data\":[{\"hovertemplate\":\"sentence=What a pleasant surprise to see my best friend after so long without seeing us!\\u003cbr\\u003eattribute_value=%{r}\\u003cbr\\u003eattribute=%{theta}\\u003cextra\\u003e\\u003c\\u002fextra\\u003e\",\"legendgroup\":\"\",\"line\":{\"color\":\"#F8766D\",\"dash\":\"solid\"},\"marker\":{\"symbol\":\"circle\"},\"mode\":\"lines\",\"name\":\"\",\"r\":[0.13097751140594482,0.020492756739258766,0.06887798756361008,0.7374725937843323,0.0162824559956789,0.06364209949970245,0.054460685700178146,0.0703776553273201,0.07251778990030289,0.13097751140594482],\"showlegend\":false,\"subplot\":\"polar\",\"theta\":[\"joy\",\"trust\",\"anticipation\",\"surprise\",\"neutral\",\"sadness\",\"disgust\",\"anger\",\"fear\",\"joy\"],\"type\":\"scatterpolar\"}],\"name\":\"What a pleasant surprise to see my best friend after so long without seeing us!\"},{\"data\":[{\"hovertemplate\":\"sentence=The mother showed concern for the health of her sick child.\\u003cbr\\u003eattribute_value=%{r}\\u003cbr\\u003eattribute=%{theta}\\u003cextra\\u003e\\u003c\\u002fextra\\u003e\",\"legendgroup\":\"\",\"line\":{\"color\":\"#F8766D\",\"dash\":\"solid\"},\"marker\":{\"symbol\":\"circle\"},\"mode\":\"lines\",\"name\":\"\",\"r\":[0.014678110368549824,0.017581429332494736,0.016186051070690155,0.029790882021188736,0.028162971138954163,0.7497912645339966,0.07236126065254211,0.0609435960650444,0.242847740650177,0.014678110368549824],\"showlegend\":false,\"subplot\":\"polar\",\"theta\":[\"joy\",\"trust\",\"anticipation\",\"surprise\",\"neutral\",\"sadness\",\"disgust\",\"anger\",\"fear\",\"joy\"],\"type\":\"scatterpolar\"}],\"name\":\"The mother showed concern for the health of her sick child.\"},{\"data\":[{\"hovertemplate\":\"sentence=I'm so grateful for your help, I couldn't have done it without you.\\u003cbr\\u003eattribute_value=%{r}\\u003cbr\\u003eattribute=%{theta}\\u003cextra\\u003e\\u003c\\u002fextra\\u003e\",\"legendgroup\":\"\",\"line\":{\"color\":\"#F8766D\",\"dash\":\"solid\"},\"marker\":{\"symbol\":\"circle\"},\"mode\":\"lines\",\"name\":\"\",\"r\":[0.16805782914161682,0.6208903789520264,0.04526064544916153,0.015414737164974213,0.0025223202537745237,0.32288816571235657,0.01676809787750244,0.046997468918561935,0.06014282628893852,0.16805782914161682],\"showlegend\":false,\"subplot\":\"polar\",\"theta\":[\"joy\",\"trust\",\"anticipation\",\"surprise\",\"neutral\",\"sadness\",\"disgust\",\"anger\",\"fear\",\"joy\"],\"type\":\"scatterpolar\"}],\"name\":\"I'm so grateful for your help, I couldn't have done it without you.\"},{\"data\":[{\"hovertemplate\":\"sentence=Fans celebrated with euphoria the victory of their team in the championship.\\u003cbr\\u003eattribute_value=%{r}\\u003cbr\\u003eattribute=%{theta}\\u003cextra\\u003e\\u003c\\u002fextra\\u003e\",\"legendgroup\":\"\",\"line\":{\"color\":\"#F8766D\",\"dash\":\"solid\"},\"marker\":{\"symbol\":\"circle\"},\"mode\":\"lines\",\"name\":\"\",\"r\":[0.8778924345970154,0.13822872936725616,0.15481632947921753,0.04226149618625641,0.04900779947638512,0.009931180626153946,0.019882431253790855,0.016632789745926857,0.008488565683364868,0.8778924345970154],\"showlegend\":false,\"subplot\":\"polar\",\"theta\":[\"joy\",\"trust\",\"anticipation\",\"surprise\",\"neutral\",\"sadness\",\"disgust\",\"anger\",\"fear\",\"joy\"],\"type\":\"scatterpolar\"}],\"name\":\"Fans celebrated with euphoria the victory of their team in the championship.\"},{\"data\":[{\"hovertemplate\":\"sentence=Despite the difficulties, he always kept the hope of a better future.\\u003cbr\\u003eattribute_value=%{r}\\u003cbr\\u003eattribute=%{theta}\\u003cextra\\u003e\\u003c\\u002fextra\\u003e\",\"legendgroup\":\"\",\"line\":{\"color\":\"#F8766D\",\"dash\":\"solid\"},\"marker\":{\"symbol\":\"circle\"},\"mode\":\"lines\",\"name\":\"\",\"r\":[0.2173711359500885,0.5036780834197998,0.19240739941596985,0.015620017424225807,0.003935924731194973,0.19032496213912964,0.013372891582548618,0.03469175472855568,0.048541922122240067,0.2173711359500885],\"showlegend\":false,\"subplot\":\"polar\",\"theta\":[\"joy\",\"trust\",\"anticipation\",\"surprise\",\"neutral\",\"sadness\",\"disgust\",\"anger\",\"fear\",\"joy\"],\"type\":\"scatterpolar\"}],\"name\":\"Despite the difficulties, he always kept the hope of a better future.\"}]);\n",
              "                        }).then(function(){\n",
              "                            \n",
              "var gd = document.getElementById('f2d261c5-7841-495d-ae08-fd7d380d246d');\n",
              "var x = new MutationObserver(function (mutations, observer) {{\n",
              "        var display = window.getComputedStyle(gd).display;\n",
              "        if (!display || display === 'none') {{\n",
              "            console.log([gd, 'removed!']);\n",
              "            Plotly.purge(gd);\n",
              "            observer.disconnect();\n",
              "        }}\n",
              "}});\n",
              "\n",
              "// Listen for the removal of the full notebook cells\n",
              "var notebookContainer = gd.closest('#notebook-container');\n",
              "if (notebookContainer) {{\n",
              "    x.observe(notebookContainer, {childList: true});\n",
              "}}\n",
              "\n",
              "// Listen for the clearing of the current output cell\n",
              "var outputEl = gd.closest('.output');\n",
              "if (outputEl) {{\n",
              "    x.observe(outputEl, {childList: true});\n",
              "}}\n",
              "\n",
              "                        })                };                            </script>        </div>\n",
              "</body>\n",
              "</html>"
            ]
          },
          "metadata": {}
        }
      ]
    },
    {
      "cell_type": "markdown",
      "source": [
        "average plot"
      ],
      "metadata": {
        "id": "g3MYnjbAJM0a"
      }
    },
    {
      "cell_type": "code",
      "source": [
        "import plotly.graph_objects as go\n",
        "\n",
        "categories = ['anticipation','joy','trust', 'surprise',\n",
        "              'fear', 'anger', 'sadness', 'disgust', 'neutral']\n",
        "\n",
        "fig = go.Figure()\n",
        "\n",
        "fig.add_trace(go.Scatterpolar(\n",
        "      r=[.054, .903, .3087, .205, .007, .007, .02, .009, .005],\n",
        "      theta=categories,\n",
        "      fill='toself',\n",
        "      name='Product A'\n",
        "))\n",
        "\n",
        "\n",
        "fig.update_layout(\n",
        "  polar=dict(\n",
        "    radialaxis=dict(\n",
        "      visible=True,\n",
        "      range=[0, 1]\n",
        "    )),\n",
        "  showlegend=False\n",
        ")\n",
        "\n",
        "fig.show()"
      ],
      "metadata": {
        "colab": {
          "base_uri": "https://localhost:8080/",
          "height": 542
        },
        "id": "3smhH49V-Zqu",
        "outputId": "c574973a-00b0-428c-ea7b-345fa3486350"
      },
      "execution_count": null,
      "outputs": [
        {
          "output_type": "display_data",
          "data": {
            "text/html": [
              "<html>\n",
              "<head><meta charset=\"utf-8\" /></head>\n",
              "<body>\n",
              "    <div>            <script src=\"https://cdnjs.cloudflare.com/ajax/libs/mathjax/2.7.5/MathJax.js?config=TeX-AMS-MML_SVG\"></script><script type=\"text/javascript\">if (window.MathJax && window.MathJax.Hub && window.MathJax.Hub.Config) {window.MathJax.Hub.Config({SVG: {font: \"STIX-Web\"}});}</script>                <script type=\"text/javascript\">window.PlotlyConfig = {MathJaxConfig: 'local'};</script>\n",
              "        <script charset=\"utf-8\" src=\"https://cdn.plot.ly/plotly-2.24.1.min.js\"></script>                <div id=\"8a8e3f43-f137-42e4-8a15-943d39a8c796\" class=\"plotly-graph-div\" style=\"height:525px; width:100%;\"></div>            <script type=\"text/javascript\">                                    window.PLOTLYENV=window.PLOTLYENV || {};                                    if (document.getElementById(\"8a8e3f43-f137-42e4-8a15-943d39a8c796\")) {                    Plotly.newPlot(                        \"8a8e3f43-f137-42e4-8a15-943d39a8c796\",                        [{\"fill\":\"toself\",\"name\":\"Product A\",\"r\":[0.054,0.903,0.3087,0.205,0.007,0.007,0.02,0.009,0.005],\"theta\":[\"anticipation\",\"joy\",\"trust\",\"surprise\",\"fear\",\"anger\",\"sadness\",\"disgust\",\"neutral\"],\"type\":\"scatterpolar\"}],                        {\"template\":{\"data\":{\"histogram2dcontour\":[{\"type\":\"histogram2dcontour\",\"colorbar\":{\"outlinewidth\":0,\"ticks\":\"\"},\"colorscale\":[[0.0,\"#0d0887\"],[0.1111111111111111,\"#46039f\"],[0.2222222222222222,\"#7201a8\"],[0.3333333333333333,\"#9c179e\"],[0.4444444444444444,\"#bd3786\"],[0.5555555555555556,\"#d8576b\"],[0.6666666666666666,\"#ed7953\"],[0.7777777777777778,\"#fb9f3a\"],[0.8888888888888888,\"#fdca26\"],[1.0,\"#f0f921\"]]}],\"choropleth\":[{\"type\":\"choropleth\",\"colorbar\":{\"outlinewidth\":0,\"ticks\":\"\"}}],\"histogram2d\":[{\"type\":\"histogram2d\",\"colorbar\":{\"outlinewidth\":0,\"ticks\":\"\"},\"colorscale\":[[0.0,\"#0d0887\"],[0.1111111111111111,\"#46039f\"],[0.2222222222222222,\"#7201a8\"],[0.3333333333333333,\"#9c179e\"],[0.4444444444444444,\"#bd3786\"],[0.5555555555555556,\"#d8576b\"],[0.6666666666666666,\"#ed7953\"],[0.7777777777777778,\"#fb9f3a\"],[0.8888888888888888,\"#fdca26\"],[1.0,\"#f0f921\"]]}],\"heatmap\":[{\"type\":\"heatmap\",\"colorbar\":{\"outlinewidth\":0,\"ticks\":\"\"},\"colorscale\":[[0.0,\"#0d0887\"],[0.1111111111111111,\"#46039f\"],[0.2222222222222222,\"#7201a8\"],[0.3333333333333333,\"#9c179e\"],[0.4444444444444444,\"#bd3786\"],[0.5555555555555556,\"#d8576b\"],[0.6666666666666666,\"#ed7953\"],[0.7777777777777778,\"#fb9f3a\"],[0.8888888888888888,\"#fdca26\"],[1.0,\"#f0f921\"]]}],\"heatmapgl\":[{\"type\":\"heatmapgl\",\"colorbar\":{\"outlinewidth\":0,\"ticks\":\"\"},\"colorscale\":[[0.0,\"#0d0887\"],[0.1111111111111111,\"#46039f\"],[0.2222222222222222,\"#7201a8\"],[0.3333333333333333,\"#9c179e\"],[0.4444444444444444,\"#bd3786\"],[0.5555555555555556,\"#d8576b\"],[0.6666666666666666,\"#ed7953\"],[0.7777777777777778,\"#fb9f3a\"],[0.8888888888888888,\"#fdca26\"],[1.0,\"#f0f921\"]]}],\"contourcarpet\":[{\"type\":\"contourcarpet\",\"colorbar\":{\"outlinewidth\":0,\"ticks\":\"\"}}],\"contour\":[{\"type\":\"contour\",\"colorbar\":{\"outlinewidth\":0,\"ticks\":\"\"},\"colorscale\":[[0.0,\"#0d0887\"],[0.1111111111111111,\"#46039f\"],[0.2222222222222222,\"#7201a8\"],[0.3333333333333333,\"#9c179e\"],[0.4444444444444444,\"#bd3786\"],[0.5555555555555556,\"#d8576b\"],[0.6666666666666666,\"#ed7953\"],[0.7777777777777778,\"#fb9f3a\"],[0.8888888888888888,\"#fdca26\"],[1.0,\"#f0f921\"]]}],\"surface\":[{\"type\":\"surface\",\"colorbar\":{\"outlinewidth\":0,\"ticks\":\"\"},\"colorscale\":[[0.0,\"#0d0887\"],[0.1111111111111111,\"#46039f\"],[0.2222222222222222,\"#7201a8\"],[0.3333333333333333,\"#9c179e\"],[0.4444444444444444,\"#bd3786\"],[0.5555555555555556,\"#d8576b\"],[0.6666666666666666,\"#ed7953\"],[0.7777777777777778,\"#fb9f3a\"],[0.8888888888888888,\"#fdca26\"],[1.0,\"#f0f921\"]]}],\"mesh3d\":[{\"type\":\"mesh3d\",\"colorbar\":{\"outlinewidth\":0,\"ticks\":\"\"}}],\"scatter\":[{\"fillpattern\":{\"fillmode\":\"overlay\",\"size\":10,\"solidity\":0.2},\"type\":\"scatter\"}],\"parcoords\":[{\"type\":\"parcoords\",\"line\":{\"colorbar\":{\"outlinewidth\":0,\"ticks\":\"\"}}}],\"scatterpolargl\":[{\"type\":\"scatterpolargl\",\"marker\":{\"colorbar\":{\"outlinewidth\":0,\"ticks\":\"\"}}}],\"bar\":[{\"error_x\":{\"color\":\"#2a3f5f\"},\"error_y\":{\"color\":\"#2a3f5f\"},\"marker\":{\"line\":{\"color\":\"#E5ECF6\",\"width\":0.5},\"pattern\":{\"fillmode\":\"overlay\",\"size\":10,\"solidity\":0.2}},\"type\":\"bar\"}],\"scattergeo\":[{\"type\":\"scattergeo\",\"marker\":{\"colorbar\":{\"outlinewidth\":0,\"ticks\":\"\"}}}],\"scatterpolar\":[{\"type\":\"scatterpolar\",\"marker\":{\"colorbar\":{\"outlinewidth\":0,\"ticks\":\"\"}}}],\"histogram\":[{\"marker\":{\"pattern\":{\"fillmode\":\"overlay\",\"size\":10,\"solidity\":0.2}},\"type\":\"histogram\"}],\"scattergl\":[{\"type\":\"scattergl\",\"marker\":{\"colorbar\":{\"outlinewidth\":0,\"ticks\":\"\"}}}],\"scatter3d\":[{\"type\":\"scatter3d\",\"line\":{\"colorbar\":{\"outlinewidth\":0,\"ticks\":\"\"}},\"marker\":{\"colorbar\":{\"outlinewidth\":0,\"ticks\":\"\"}}}],\"scattermapbox\":[{\"type\":\"scattermapbox\",\"marker\":{\"colorbar\":{\"outlinewidth\":0,\"ticks\":\"\"}}}],\"scatterternary\":[{\"type\":\"scatterternary\",\"marker\":{\"colorbar\":{\"outlinewidth\":0,\"ticks\":\"\"}}}],\"scattercarpet\":[{\"type\":\"scattercarpet\",\"marker\":{\"colorbar\":{\"outlinewidth\":0,\"ticks\":\"\"}}}],\"carpet\":[{\"aaxis\":{\"endlinecolor\":\"#2a3f5f\",\"gridcolor\":\"white\",\"linecolor\":\"white\",\"minorgridcolor\":\"white\",\"startlinecolor\":\"#2a3f5f\"},\"baxis\":{\"endlinecolor\":\"#2a3f5f\",\"gridcolor\":\"white\",\"linecolor\":\"white\",\"minorgridcolor\":\"white\",\"startlinecolor\":\"#2a3f5f\"},\"type\":\"carpet\"}],\"table\":[{\"cells\":{\"fill\":{\"color\":\"#EBF0F8\"},\"line\":{\"color\":\"white\"}},\"header\":{\"fill\":{\"color\":\"#C8D4E3\"},\"line\":{\"color\":\"white\"}},\"type\":\"table\"}],\"barpolar\":[{\"marker\":{\"line\":{\"color\":\"#E5ECF6\",\"width\":0.5},\"pattern\":{\"fillmode\":\"overlay\",\"size\":10,\"solidity\":0.2}},\"type\":\"barpolar\"}],\"pie\":[{\"automargin\":true,\"type\":\"pie\"}]},\"layout\":{\"autotypenumbers\":\"strict\",\"colorway\":[\"#636efa\",\"#EF553B\",\"#00cc96\",\"#ab63fa\",\"#FFA15A\",\"#19d3f3\",\"#FF6692\",\"#B6E880\",\"#FF97FF\",\"#FECB52\"],\"font\":{\"color\":\"#2a3f5f\"},\"hovermode\":\"closest\",\"hoverlabel\":{\"align\":\"left\"},\"paper_bgcolor\":\"white\",\"plot_bgcolor\":\"#E5ECF6\",\"polar\":{\"bgcolor\":\"#E5ECF6\",\"angularaxis\":{\"gridcolor\":\"white\",\"linecolor\":\"white\",\"ticks\":\"\"},\"radialaxis\":{\"gridcolor\":\"white\",\"linecolor\":\"white\",\"ticks\":\"\"}},\"ternary\":{\"bgcolor\":\"#E5ECF6\",\"aaxis\":{\"gridcolor\":\"white\",\"linecolor\":\"white\",\"ticks\":\"\"},\"baxis\":{\"gridcolor\":\"white\",\"linecolor\":\"white\",\"ticks\":\"\"},\"caxis\":{\"gridcolor\":\"white\",\"linecolor\":\"white\",\"ticks\":\"\"}},\"coloraxis\":{\"colorbar\":{\"outlinewidth\":0,\"ticks\":\"\"}},\"colorscale\":{\"sequential\":[[0.0,\"#0d0887\"],[0.1111111111111111,\"#46039f\"],[0.2222222222222222,\"#7201a8\"],[0.3333333333333333,\"#9c179e\"],[0.4444444444444444,\"#bd3786\"],[0.5555555555555556,\"#d8576b\"],[0.6666666666666666,\"#ed7953\"],[0.7777777777777778,\"#fb9f3a\"],[0.8888888888888888,\"#fdca26\"],[1.0,\"#f0f921\"]],\"sequentialminus\":[[0.0,\"#0d0887\"],[0.1111111111111111,\"#46039f\"],[0.2222222222222222,\"#7201a8\"],[0.3333333333333333,\"#9c179e\"],[0.4444444444444444,\"#bd3786\"],[0.5555555555555556,\"#d8576b\"],[0.6666666666666666,\"#ed7953\"],[0.7777777777777778,\"#fb9f3a\"],[0.8888888888888888,\"#fdca26\"],[1.0,\"#f0f921\"]],\"diverging\":[[0,\"#8e0152\"],[0.1,\"#c51b7d\"],[0.2,\"#de77ae\"],[0.3,\"#f1b6da\"],[0.4,\"#fde0ef\"],[0.5,\"#f7f7f7\"],[0.6,\"#e6f5d0\"],[0.7,\"#b8e186\"],[0.8,\"#7fbc41\"],[0.9,\"#4d9221\"],[1,\"#276419\"]]},\"xaxis\":{\"gridcolor\":\"white\",\"linecolor\":\"white\",\"ticks\":\"\",\"title\":{\"standoff\":15},\"zerolinecolor\":\"white\",\"automargin\":true,\"zerolinewidth\":2},\"yaxis\":{\"gridcolor\":\"white\",\"linecolor\":\"white\",\"ticks\":\"\",\"title\":{\"standoff\":15},\"zerolinecolor\":\"white\",\"automargin\":true,\"zerolinewidth\":2},\"scene\":{\"xaxis\":{\"backgroundcolor\":\"#E5ECF6\",\"gridcolor\":\"white\",\"linecolor\":\"white\",\"showbackground\":true,\"ticks\":\"\",\"zerolinecolor\":\"white\",\"gridwidth\":2},\"yaxis\":{\"backgroundcolor\":\"#E5ECF6\",\"gridcolor\":\"white\",\"linecolor\":\"white\",\"showbackground\":true,\"ticks\":\"\",\"zerolinecolor\":\"white\",\"gridwidth\":2},\"zaxis\":{\"backgroundcolor\":\"#E5ECF6\",\"gridcolor\":\"white\",\"linecolor\":\"white\",\"showbackground\":true,\"ticks\":\"\",\"zerolinecolor\":\"white\",\"gridwidth\":2}},\"shapedefaults\":{\"line\":{\"color\":\"#2a3f5f\"}},\"annotationdefaults\":{\"arrowcolor\":\"#2a3f5f\",\"arrowhead\":0,\"arrowwidth\":1},\"geo\":{\"bgcolor\":\"white\",\"landcolor\":\"#E5ECF6\",\"subunitcolor\":\"white\",\"showland\":true,\"showlakes\":true,\"lakecolor\":\"white\"},\"title\":{\"x\":0.05},\"mapbox\":{\"style\":\"light\"}}},\"polar\":{\"radialaxis\":{\"visible\":true,\"range\":[0,1]}},\"showlegend\":false},                        {\"responsive\": true}                    ).then(function(){\n",
              "                            \n",
              "var gd = document.getElementById('8a8e3f43-f137-42e4-8a15-943d39a8c796');\n",
              "var x = new MutationObserver(function (mutations, observer) {{\n",
              "        var display = window.getComputedStyle(gd).display;\n",
              "        if (!display || display === 'none') {{\n",
              "            console.log([gd, 'removed!']);\n",
              "            Plotly.purge(gd);\n",
              "            observer.disconnect();\n",
              "        }}\n",
              "}});\n",
              "\n",
              "// Listen for the removal of the full notebook cells\n",
              "var notebookContainer = gd.closest('#notebook-container');\n",
              "if (notebookContainer) {{\n",
              "    x.observe(notebookContainer, {childList: true});\n",
              "}}\n",
              "\n",
              "// Listen for the clearing of the current output cell\n",
              "var outputEl = gd.closest('.output');\n",
              "if (outputEl) {{\n",
              "    x.observe(outputEl, {childList: true});\n",
              "}}\n",
              "\n",
              "                        })                };                            </script>        </div>\n",
              "</body>\n",
              "</html>"
            ]
          },
          "metadata": {}
        }
      ]
    },
    {
      "cell_type": "markdown",
      "source": [
        "## Import transcription"
      ],
      "metadata": {
        "id": "0ZA6OpcnJOvU"
      }
    },
    {
      "cell_type": "code",
      "source": [
        "!pip install python-docx"
      ],
      "metadata": {
        "colab": {
          "base_uri": "https://localhost:8080/"
        },
        "id": "3AsTrpqg9egg",
        "outputId": "12c75b5a-f181-426e-cfac-9364b4b8c6ff"
      },
      "execution_count": 10,
      "outputs": [
        {
          "output_type": "stream",
          "name": "stdout",
          "text": [
            "Collecting python-docx\n",
            "  Downloading python-docx-0.8.11.tar.gz (5.6 MB)\n",
            "\u001b[2K     \u001b[90m━━━━━━━━━━━━━━━━━━━━━━━━━━━━━━━━━━━━━━━━\u001b[0m \u001b[32m5.6/5.6 MB\u001b[0m \u001b[31m15.1 MB/s\u001b[0m eta \u001b[36m0:00:00\u001b[0m\n",
            "\u001b[?25h  Preparing metadata (setup.py) ... \u001b[?25l\u001b[?25hdone\n",
            "Requirement already satisfied: lxml>=2.3.2 in /usr/local/lib/python3.10/dist-packages (from python-docx) (4.9.3)\n",
            "Building wheels for collected packages: python-docx\n",
            "  Building wheel for python-docx (setup.py) ... \u001b[?25l\u001b[?25hdone\n",
            "  Created wheel for python-docx: filename=python_docx-0.8.11-py3-none-any.whl size=184487 sha256=7b9d17fcd39f5de2f54426890b9ec2d42c9d201857630707dd62f38054d50193\n",
            "  Stored in directory: /root/.cache/pip/wheels/80/27/06/837436d4c3bd989b957a91679966f207bfd71d358d63a8194d\n",
            "Successfully built python-docx\n",
            "Installing collected packages: python-docx\n",
            "Successfully installed python-docx-0.8.11\n"
          ]
        }
      ]
    },
    {
      "cell_type": "code",
      "source": [
        "from docx import Document\n",
        "\n",
        "file_name = \"/content/drive/MyDrive/HESSO/EmoMap/transcripts/TRANSCRIPCIÓN JAVIER ROA.docx\"\n",
        "\n",
        "\n",
        "def getText(filename):\n",
        "    doc = Document(filename)\n",
        "    fullText = []\n",
        "    for para in doc.paragraphs:\n",
        "        fullText.append(para.text)\n",
        "    return '\\n'.join(fullText)\n",
        "\n"
      ],
      "metadata": {
        "id": "lxPRs8GE8ETy"
      },
      "execution_count": 11,
      "outputs": []
    },
    {
      "cell_type": "code",
      "source": [
        "import re\n",
        "import nltk\n",
        "nltk.download('punkt')\n",
        "from nltk.tokenize import sent_tokenize\n",
        "\n",
        "transcription = getText(file_name).split('\\n')\n",
        "list_parag_transcriptio = []\n",
        "\n",
        "for parag in transcription:\n",
        "  sentences = sent_tokenize(parag)\n",
        "  list_parag_transcriptio.extend(sentences)"
      ],
      "metadata": {
        "id": "L6D2ep6F-hOO"
      },
      "execution_count": 49,
      "outputs": []
    },
    {
      "cell_type": "markdown",
      "source": [
        "### testing"
      ],
      "metadata": {
        "id": "uUvfB6ALMN2N"
      }
    },
    {
      "cell_type": "code",
      "source": [
        "translations = [item['translation_text'] for item in pipe_translation(list_parag_transcriptio[0:6])]\n",
        "print(f'translation: {translations}')\n",
        "\n",
        "emotions = pipe_emotion(translations)\n",
        "print(f'emotion: {emotions}')"
      ],
      "metadata": {
        "id": "2CRRyc7xAkUN",
        "colab": {
          "base_uri": "https://localhost:8080/"
        },
        "outputId": "188d4f01-5bc5-4db0-957e-9bbb5c408241"
      },
      "execution_count": 90,
      "outputs": [
        {
          "output_type": "stream",
          "name": "stdout",
          "text": [
            "translation: ['TRANSCRIPTION JAVIER ROA INTERVIEW JANUARY', 'T: The first question is that you present yourself and present the place or territory you are going to tell us about.', 'J: Okay', 'T: And what is your relationship with this territory?', 'J: Okay, my name is Javier Roa Salazar, I am a lawyer, environmentalist, I was a councillor of the city of Neiva on two occasions at this time I have been performing for six years as a mining-energy advisor to the secretariat of agriculture of the department of the Huila and within these issues, I have to address the issues of the hydroelectric project of the Quimbo, the context of the image of a macro image of the hydroelectric project of the Quimbo would be many edges, but basically focusing on the interests of the department would be timely loss of the productive capacity of the center of the department, because with the flood of the eight thousand six hundred hectares, the productive activity of the best lands of the department of Huila was lost, better lands why?', \"Because they were the lands that were on the banks of the Magdalena river and where there were farmlands, where there were crops of PANCOGER, where there were cocoa crops, or where there were crops where the community was pawned, perfectly had its productive capacity, its support, its pancoger, had its livestock but it happens that those lands that were the most productive of the department, were flooded and when it was flooded, because they left a wake of tragedy, they left a trail of inconformity, a trail that today has generated a stigma for the department of Huila, a stigma that we have not been able to overcome, proof of this is that today approximately twenty thousand people are being affected, not only from the economic point of view, but from the psychological point of view, of the family unity, because what happened with this process, was a process of forced displacement as the world agency of dams, that the family unit has left in the whole, that every hydroelectric project in the world automatically generates a process of forced displacement that happened here, one hears stories of people that the family was seven, eight members, today there is not one with one, that we are, that is, that the family, that we have left with one, that the family, that we have left the family, that the family unit in the entire, that we did not in the territorial department, that we did not, that we didn's, that we didn's\"]\n",
            "emotion: [[{'label': 'neutral', 'score': 0.6200298070907593}, {'label': 'anticipation', 'score': 0.18269789218902588}, {'label': 'surprise', 'score': 0.1056005209684372}, {'label': 'anger', 'score': 0.09050929546356201}, {'label': 'sadness', 'score': 0.08281014859676361}, {'label': 'joy', 'score': 0.06753797084093094}, {'label': 'fear', 'score': 0.050304584205150604}, {'label': 'disgust', 'score': 0.04428638145327568}, {'label': 'trust', 'score': 0.03344128653407097}], [{'label': 'anticipation', 'score': 0.38728559017181396}, {'label': 'anger', 'score': 0.2910275161266327}, {'label': 'trust', 'score': 0.19662272930145264}, {'label': 'disgust', 'score': 0.11407854408025742}, {'label': 'neutral', 'score': 0.10991762578487396}, {'label': 'fear', 'score': 0.09144838154315948}, {'label': 'surprise', 'score': 0.07867687195539474}, {'label': 'sadness', 'score': 0.026047253981232643}, {'label': 'joy', 'score': 0.020080508664250374}], [{'label': 'neutral', 'score': 0.8851895928382874}, {'label': 'joy', 'score': 0.05861089006066322}, {'label': 'anticipation', 'score': 0.04754314199090004}, {'label': 'trust', 'score': 0.03757737949490547}, {'label': 'anger', 'score': 0.028646966442465782}, {'label': 'surprise', 'score': 0.019009018316864967}, {'label': 'sadness', 'score': 0.016139723360538483}, {'label': 'disgust', 'score': 0.014859572984278202}, {'label': 'fear', 'score': 0.014797629788517952}], [{'label': 'anger', 'score': 0.51987224817276}, {'label': 'disgust', 'score': 0.19185970723628998}, {'label': 'anticipation', 'score': 0.17154139280319214}, {'label': 'surprise', 'score': 0.14187836647033691}, {'label': 'fear', 'score': 0.10722649097442627}, {'label': 'neutral', 'score': 0.049131833016872406}, {'label': 'trust', 'score': 0.035168591886758804}, {'label': 'sadness', 'score': 0.026366638019680977}, {'label': 'joy', 'score': 0.008342544548213482}], [{'label': 'anger', 'score': 0.3386401832103729}, {'label': 'sadness', 'score': 0.33699947595596313}, {'label': 'fear', 'score': 0.28787437081336975}, {'label': 'anticipation', 'score': 0.20442847907543182}, {'label': 'disgust', 'score': 0.13998869061470032}, {'label': 'trust', 'score': 0.07523424178361893}, {'label': 'surprise', 'score': 0.06729596108198166}, {'label': 'joy', 'score': 0.04021928459405899}, {'label': 'neutral', 'score': 0.0241341944783926}], [{'label': 'sadness', 'score': 0.6668273210525513}, {'label': 'anger', 'score': 0.2473931759595871}, {'label': 'fear', 'score': 0.22274036705493927}, {'label': 'disgust', 'score': 0.1857137382030487}, {'label': 'surprise', 'score': 0.0515081025660038}, {'label': 'anticipation', 'score': 0.051411841064691544}, {'label': 'trust', 'score': 0.035461973398923874}, {'label': 'joy', 'score': 0.023223577067255974}, {'label': 'neutral', 'score': 0.008375453762710094}]]\n"
          ]
        }
      ]
    },
    {
      "cell_type": "code",
      "source": [
        "from collections import defaultdict\n",
        "\n",
        "\n",
        "def mean_emotions(list_emotions):\n",
        "    dict_emo = defaultdict(list)\n",
        "\n",
        "\n",
        "    for l_emo in list_emotions:\n",
        "      for item in l_emo:\n",
        "        if item['score'] > 0.2:\n",
        "          dict_emo[item['label']].append(item['score'])\n",
        "\n",
        "\n",
        "    return dict_emo\n",
        "mean_emotions(emotions)"
      ],
      "metadata": {
        "colab": {
          "base_uri": "https://localhost:8080/"
        },
        "id": "s9EZNjnUJ2vO",
        "outputId": "ca85806f-2bee-4b66-d064-8d279c8bdea5"
      },
      "execution_count": 91,
      "outputs": [
        {
          "output_type": "execute_result",
          "data": {
            "text/plain": [
              "defaultdict(list,\n",
              "            {'neutral': [0.6200298070907593, 0.8851895928382874],\n",
              "             'anticipation': [0.38728559017181396, 0.20442847907543182],\n",
              "             'anger': [0.2910275161266327,\n",
              "              0.51987224817276,\n",
              "              0.3386401832103729,\n",
              "              0.2473931759595871],\n",
              "             'sadness': [0.33699947595596313, 0.6668273210525513],\n",
              "             'fear': [0.28787437081336975, 0.22274036705493927]})"
            ]
          },
          "metadata": {},
          "execution_count": 91
        }
      ]
    },
    {
      "cell_type": "code",
      "source": [
        "keys = mean_emotions(emotions).keys()\n",
        "\n",
        "list_val = []\n",
        "list_keys = []\n",
        "for k in keys:\n",
        "  emo_dict = mean_emotions(emotions)\n",
        "  if k in emo_dict:\n",
        "    list_val.append(max(mean_emotions(emotions)[k]))\n",
        "    list_keys.append(k)"
      ],
      "metadata": {
        "id": "dlI7Fqr4K9xB"
      },
      "execution_count": 97,
      "outputs": []
    },
    {
      "cell_type": "code",
      "source": [
        "import plotly.graph_objects as go\n",
        "\n",
        "categories = list_keys\n",
        "\n",
        "fig = go.Figure()\n",
        "\n",
        "fig.add_trace(go.Scatterpolar(\n",
        "      r=list_val,\n",
        "      theta=categories,\n",
        "      fill='toself',\n",
        "      name='Product A'\n",
        "))\n",
        "\n",
        "\n",
        "fig.update_layout(\n",
        "  polar=dict(\n",
        "    radialaxis=dict(\n",
        "      visible=True,\n",
        "      range=[0, 1]\n",
        "    )),\n",
        "  showlegend=False\n",
        ")\n",
        "\n",
        "fig.show()"
      ],
      "metadata": {
        "colab": {
          "base_uri": "https://localhost:8080/",
          "height": 542
        },
        "id": "PSBMVFY1ItB0",
        "outputId": "0482d5be-381e-4e42-ee35-9faf81e1cd0b"
      },
      "execution_count": 98,
      "outputs": [
        {
          "output_type": "display_data",
          "data": {
            "text/html": [
              "<html>\n",
              "<head><meta charset=\"utf-8\" /></head>\n",
              "<body>\n",
              "    <div>            <script src=\"https://cdnjs.cloudflare.com/ajax/libs/mathjax/2.7.5/MathJax.js?config=TeX-AMS-MML_SVG\"></script><script type=\"text/javascript\">if (window.MathJax && window.MathJax.Hub && window.MathJax.Hub.Config) {window.MathJax.Hub.Config({SVG: {font: \"STIX-Web\"}});}</script>                <script type=\"text/javascript\">window.PlotlyConfig = {MathJaxConfig: 'local'};</script>\n",
              "        <script charset=\"utf-8\" src=\"https://cdn.plot.ly/plotly-2.24.1.min.js\"></script>                <div id=\"6c918605-e86b-4a67-9f0d-6202fcfff23c\" class=\"plotly-graph-div\" style=\"height:525px; width:100%;\"></div>            <script type=\"text/javascript\">                                    window.PLOTLYENV=window.PLOTLYENV || {};                                    if (document.getElementById(\"6c918605-e86b-4a67-9f0d-6202fcfff23c\")) {                    Plotly.newPlot(                        \"6c918605-e86b-4a67-9f0d-6202fcfff23c\",                        [{\"fill\":\"toself\",\"name\":\"Product A\",\"r\":[0.8851895928382874,0.38728559017181396,0.51987224817276,0.6668273210525513,0.28787437081336975],\"theta\":[\"neutral\",\"anticipation\",\"anger\",\"sadness\",\"fear\"],\"type\":\"scatterpolar\"}],                        {\"template\":{\"data\":{\"histogram2dcontour\":[{\"type\":\"histogram2dcontour\",\"colorbar\":{\"outlinewidth\":0,\"ticks\":\"\"},\"colorscale\":[[0.0,\"#0d0887\"],[0.1111111111111111,\"#46039f\"],[0.2222222222222222,\"#7201a8\"],[0.3333333333333333,\"#9c179e\"],[0.4444444444444444,\"#bd3786\"],[0.5555555555555556,\"#d8576b\"],[0.6666666666666666,\"#ed7953\"],[0.7777777777777778,\"#fb9f3a\"],[0.8888888888888888,\"#fdca26\"],[1.0,\"#f0f921\"]]}],\"choropleth\":[{\"type\":\"choropleth\",\"colorbar\":{\"outlinewidth\":0,\"ticks\":\"\"}}],\"histogram2d\":[{\"type\":\"histogram2d\",\"colorbar\":{\"outlinewidth\":0,\"ticks\":\"\"},\"colorscale\":[[0.0,\"#0d0887\"],[0.1111111111111111,\"#46039f\"],[0.2222222222222222,\"#7201a8\"],[0.3333333333333333,\"#9c179e\"],[0.4444444444444444,\"#bd3786\"],[0.5555555555555556,\"#d8576b\"],[0.6666666666666666,\"#ed7953\"],[0.7777777777777778,\"#fb9f3a\"],[0.8888888888888888,\"#fdca26\"],[1.0,\"#f0f921\"]]}],\"heatmap\":[{\"type\":\"heatmap\",\"colorbar\":{\"outlinewidth\":0,\"ticks\":\"\"},\"colorscale\":[[0.0,\"#0d0887\"],[0.1111111111111111,\"#46039f\"],[0.2222222222222222,\"#7201a8\"],[0.3333333333333333,\"#9c179e\"],[0.4444444444444444,\"#bd3786\"],[0.5555555555555556,\"#d8576b\"],[0.6666666666666666,\"#ed7953\"],[0.7777777777777778,\"#fb9f3a\"],[0.8888888888888888,\"#fdca26\"],[1.0,\"#f0f921\"]]}],\"heatmapgl\":[{\"type\":\"heatmapgl\",\"colorbar\":{\"outlinewidth\":0,\"ticks\":\"\"},\"colorscale\":[[0.0,\"#0d0887\"],[0.1111111111111111,\"#46039f\"],[0.2222222222222222,\"#7201a8\"],[0.3333333333333333,\"#9c179e\"],[0.4444444444444444,\"#bd3786\"],[0.5555555555555556,\"#d8576b\"],[0.6666666666666666,\"#ed7953\"],[0.7777777777777778,\"#fb9f3a\"],[0.8888888888888888,\"#fdca26\"],[1.0,\"#f0f921\"]]}],\"contourcarpet\":[{\"type\":\"contourcarpet\",\"colorbar\":{\"outlinewidth\":0,\"ticks\":\"\"}}],\"contour\":[{\"type\":\"contour\",\"colorbar\":{\"outlinewidth\":0,\"ticks\":\"\"},\"colorscale\":[[0.0,\"#0d0887\"],[0.1111111111111111,\"#46039f\"],[0.2222222222222222,\"#7201a8\"],[0.3333333333333333,\"#9c179e\"],[0.4444444444444444,\"#bd3786\"],[0.5555555555555556,\"#d8576b\"],[0.6666666666666666,\"#ed7953\"],[0.7777777777777778,\"#fb9f3a\"],[0.8888888888888888,\"#fdca26\"],[1.0,\"#f0f921\"]]}],\"surface\":[{\"type\":\"surface\",\"colorbar\":{\"outlinewidth\":0,\"ticks\":\"\"},\"colorscale\":[[0.0,\"#0d0887\"],[0.1111111111111111,\"#46039f\"],[0.2222222222222222,\"#7201a8\"],[0.3333333333333333,\"#9c179e\"],[0.4444444444444444,\"#bd3786\"],[0.5555555555555556,\"#d8576b\"],[0.6666666666666666,\"#ed7953\"],[0.7777777777777778,\"#fb9f3a\"],[0.8888888888888888,\"#fdca26\"],[1.0,\"#f0f921\"]]}],\"mesh3d\":[{\"type\":\"mesh3d\",\"colorbar\":{\"outlinewidth\":0,\"ticks\":\"\"}}],\"scatter\":[{\"fillpattern\":{\"fillmode\":\"overlay\",\"size\":10,\"solidity\":0.2},\"type\":\"scatter\"}],\"parcoords\":[{\"type\":\"parcoords\",\"line\":{\"colorbar\":{\"outlinewidth\":0,\"ticks\":\"\"}}}],\"scatterpolargl\":[{\"type\":\"scatterpolargl\",\"marker\":{\"colorbar\":{\"outlinewidth\":0,\"ticks\":\"\"}}}],\"bar\":[{\"error_x\":{\"color\":\"#2a3f5f\"},\"error_y\":{\"color\":\"#2a3f5f\"},\"marker\":{\"line\":{\"color\":\"#E5ECF6\",\"width\":0.5},\"pattern\":{\"fillmode\":\"overlay\",\"size\":10,\"solidity\":0.2}},\"type\":\"bar\"}],\"scattergeo\":[{\"type\":\"scattergeo\",\"marker\":{\"colorbar\":{\"outlinewidth\":0,\"ticks\":\"\"}}}],\"scatterpolar\":[{\"type\":\"scatterpolar\",\"marker\":{\"colorbar\":{\"outlinewidth\":0,\"ticks\":\"\"}}}],\"histogram\":[{\"marker\":{\"pattern\":{\"fillmode\":\"overlay\",\"size\":10,\"solidity\":0.2}},\"type\":\"histogram\"}],\"scattergl\":[{\"type\":\"scattergl\",\"marker\":{\"colorbar\":{\"outlinewidth\":0,\"ticks\":\"\"}}}],\"scatter3d\":[{\"type\":\"scatter3d\",\"line\":{\"colorbar\":{\"outlinewidth\":0,\"ticks\":\"\"}},\"marker\":{\"colorbar\":{\"outlinewidth\":0,\"ticks\":\"\"}}}],\"scattermapbox\":[{\"type\":\"scattermapbox\",\"marker\":{\"colorbar\":{\"outlinewidth\":0,\"ticks\":\"\"}}}],\"scatterternary\":[{\"type\":\"scatterternary\",\"marker\":{\"colorbar\":{\"outlinewidth\":0,\"ticks\":\"\"}}}],\"scattercarpet\":[{\"type\":\"scattercarpet\",\"marker\":{\"colorbar\":{\"outlinewidth\":0,\"ticks\":\"\"}}}],\"carpet\":[{\"aaxis\":{\"endlinecolor\":\"#2a3f5f\",\"gridcolor\":\"white\",\"linecolor\":\"white\",\"minorgridcolor\":\"white\",\"startlinecolor\":\"#2a3f5f\"},\"baxis\":{\"endlinecolor\":\"#2a3f5f\",\"gridcolor\":\"white\",\"linecolor\":\"white\",\"minorgridcolor\":\"white\",\"startlinecolor\":\"#2a3f5f\"},\"type\":\"carpet\"}],\"table\":[{\"cells\":{\"fill\":{\"color\":\"#EBF0F8\"},\"line\":{\"color\":\"white\"}},\"header\":{\"fill\":{\"color\":\"#C8D4E3\"},\"line\":{\"color\":\"white\"}},\"type\":\"table\"}],\"barpolar\":[{\"marker\":{\"line\":{\"color\":\"#E5ECF6\",\"width\":0.5},\"pattern\":{\"fillmode\":\"overlay\",\"size\":10,\"solidity\":0.2}},\"type\":\"barpolar\"}],\"pie\":[{\"automargin\":true,\"type\":\"pie\"}]},\"layout\":{\"autotypenumbers\":\"strict\",\"colorway\":[\"#636efa\",\"#EF553B\",\"#00cc96\",\"#ab63fa\",\"#FFA15A\",\"#19d3f3\",\"#FF6692\",\"#B6E880\",\"#FF97FF\",\"#FECB52\"],\"font\":{\"color\":\"#2a3f5f\"},\"hovermode\":\"closest\",\"hoverlabel\":{\"align\":\"left\"},\"paper_bgcolor\":\"white\",\"plot_bgcolor\":\"#E5ECF6\",\"polar\":{\"bgcolor\":\"#E5ECF6\",\"angularaxis\":{\"gridcolor\":\"white\",\"linecolor\":\"white\",\"ticks\":\"\"},\"radialaxis\":{\"gridcolor\":\"white\",\"linecolor\":\"white\",\"ticks\":\"\"}},\"ternary\":{\"bgcolor\":\"#E5ECF6\",\"aaxis\":{\"gridcolor\":\"white\",\"linecolor\":\"white\",\"ticks\":\"\"},\"baxis\":{\"gridcolor\":\"white\",\"linecolor\":\"white\",\"ticks\":\"\"},\"caxis\":{\"gridcolor\":\"white\",\"linecolor\":\"white\",\"ticks\":\"\"}},\"coloraxis\":{\"colorbar\":{\"outlinewidth\":0,\"ticks\":\"\"}},\"colorscale\":{\"sequential\":[[0.0,\"#0d0887\"],[0.1111111111111111,\"#46039f\"],[0.2222222222222222,\"#7201a8\"],[0.3333333333333333,\"#9c179e\"],[0.4444444444444444,\"#bd3786\"],[0.5555555555555556,\"#d8576b\"],[0.6666666666666666,\"#ed7953\"],[0.7777777777777778,\"#fb9f3a\"],[0.8888888888888888,\"#fdca26\"],[1.0,\"#f0f921\"]],\"sequentialminus\":[[0.0,\"#0d0887\"],[0.1111111111111111,\"#46039f\"],[0.2222222222222222,\"#7201a8\"],[0.3333333333333333,\"#9c179e\"],[0.4444444444444444,\"#bd3786\"],[0.5555555555555556,\"#d8576b\"],[0.6666666666666666,\"#ed7953\"],[0.7777777777777778,\"#fb9f3a\"],[0.8888888888888888,\"#fdca26\"],[1.0,\"#f0f921\"]],\"diverging\":[[0,\"#8e0152\"],[0.1,\"#c51b7d\"],[0.2,\"#de77ae\"],[0.3,\"#f1b6da\"],[0.4,\"#fde0ef\"],[0.5,\"#f7f7f7\"],[0.6,\"#e6f5d0\"],[0.7,\"#b8e186\"],[0.8,\"#7fbc41\"],[0.9,\"#4d9221\"],[1,\"#276419\"]]},\"xaxis\":{\"gridcolor\":\"white\",\"linecolor\":\"white\",\"ticks\":\"\",\"title\":{\"standoff\":15},\"zerolinecolor\":\"white\",\"automargin\":true,\"zerolinewidth\":2},\"yaxis\":{\"gridcolor\":\"white\",\"linecolor\":\"white\",\"ticks\":\"\",\"title\":{\"standoff\":15},\"zerolinecolor\":\"white\",\"automargin\":true,\"zerolinewidth\":2},\"scene\":{\"xaxis\":{\"backgroundcolor\":\"#E5ECF6\",\"gridcolor\":\"white\",\"linecolor\":\"white\",\"showbackground\":true,\"ticks\":\"\",\"zerolinecolor\":\"white\",\"gridwidth\":2},\"yaxis\":{\"backgroundcolor\":\"#E5ECF6\",\"gridcolor\":\"white\",\"linecolor\":\"white\",\"showbackground\":true,\"ticks\":\"\",\"zerolinecolor\":\"white\",\"gridwidth\":2},\"zaxis\":{\"backgroundcolor\":\"#E5ECF6\",\"gridcolor\":\"white\",\"linecolor\":\"white\",\"showbackground\":true,\"ticks\":\"\",\"zerolinecolor\":\"white\",\"gridwidth\":2}},\"shapedefaults\":{\"line\":{\"color\":\"#2a3f5f\"}},\"annotationdefaults\":{\"arrowcolor\":\"#2a3f5f\",\"arrowhead\":0,\"arrowwidth\":1},\"geo\":{\"bgcolor\":\"white\",\"landcolor\":\"#E5ECF6\",\"subunitcolor\":\"white\",\"showland\":true,\"showlakes\":true,\"lakecolor\":\"white\"},\"title\":{\"x\":0.05},\"mapbox\":{\"style\":\"light\"}}},\"polar\":{\"radialaxis\":{\"visible\":true,\"range\":[0,1]}},\"showlegend\":false},                        {\"responsive\": true}                    ).then(function(){\n",
              "                            \n",
              "var gd = document.getElementById('6c918605-e86b-4a67-9f0d-6202fcfff23c');\n",
              "var x = new MutationObserver(function (mutations, observer) {{\n",
              "        var display = window.getComputedStyle(gd).display;\n",
              "        if (!display || display === 'none') {{\n",
              "            console.log([gd, 'removed!']);\n",
              "            Plotly.purge(gd);\n",
              "            observer.disconnect();\n",
              "        }}\n",
              "}});\n",
              "\n",
              "// Listen for the removal of the full notebook cells\n",
              "var notebookContainer = gd.closest('#notebook-container');\n",
              "if (notebookContainer) {{\n",
              "    x.observe(notebookContainer, {childList: true});\n",
              "}}\n",
              "\n",
              "// Listen for the clearing of the current output cell\n",
              "var outputEl = gd.closest('.output');\n",
              "if (outputEl) {{\n",
              "    x.observe(outputEl, {childList: true});\n",
              "}}\n",
              "\n",
              "                        })                };                            </script>        </div>\n",
              "</body>\n",
              "</html>"
            ]
          },
          "metadata": {}
        }
      ]
    },
    {
      "cell_type": "markdown",
      "source": [
        "## END"
      ],
      "metadata": {
        "id": "uREH2E8qJG5T"
      }
    },
    {
      "cell_type": "code",
      "source": [
        "import pandas as pd\n",
        "df = pd.read_csv('/content/drive/MyDrive/HESSO/EmoMap/primary-plutchik-wheel-DFE.csv')\n",
        "df['emotion'].value_counts()"
      ],
      "metadata": {
        "id": "xqcMcGky8DxM",
        "colab": {
          "base_uri": "https://localhost:8080/"
        },
        "outputId": "85940a69-f71c-460e-c3bd-553339e8a3ac"
      },
      "execution_count": null,
      "outputs": [
        {
          "output_type": "execute_result",
          "data": {
            "text/plain": [
              "Neutral         534\n",
              "Disapproval     323\n",
              "Optimism        269\n",
              "Joy             187\n",
              "Anticipation    175\n",
              "Anger           169\n",
              "Fear            124\n",
              "Sadness         116\n",
              "Surprise        102\n",
              "Ambiguous       100\n",
              "Contempt         83\n",
              "Submission       79\n",
              "Love             67\n",
              "Remorse          44\n",
              "Aggression       44\n",
              "Disgust          43\n",
              "Trust            33\n",
              "Awe              32\n",
              "Name: emotion, dtype: int64"
            ]
          },
          "metadata": {},
          "execution_count": 20
        }
      ]
    }
  ]
}