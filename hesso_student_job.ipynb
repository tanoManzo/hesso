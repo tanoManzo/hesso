{
  "nbformat": 4,
  "nbformat_minor": 0,
  "metadata": {
    "colab": {
      "provenance": [],
      "mount_file_id": "1IRxfSDr-9Wfd3j0vXl8kgC7rg3B875N9",
      "authorship_tag": "ABX9TyOb8AUtyYondJTlKJTNMYJd",
      "include_colab_link": true
    },
    "kernelspec": {
      "name": "python3",
      "display_name": "Python 3"
    },
    "language_info": {
      "name": "python"
    }
  },
  "cells": [
    {
      "cell_type": "markdown",
      "metadata": {
        "id": "view-in-github",
        "colab_type": "text"
      },
      "source": [
        "<a href=\"https://colab.research.google.com/github/tanoManzo/hesso/blob/main/hesso_student_job.ipynb\" target=\"_parent\"><img src=\"https://colab.research.google.com/assets/colab-badge.svg\" alt=\"Open In Colab\"/></a>"
      ]
    },
    {
      "cell_type": "markdown",
      "source": [
        "# Title"
      ],
      "metadata": {
        "id": "aul8f4HR6J5F"
      }
    },
    {
      "cell_type": "markdown",
      "source": [
        "## load data"
      ],
      "metadata": {
        "id": "CVKoUlYo6QUZ"
      }
    },
    {
      "cell_type": "code",
      "source": [
        "import pandas as pd\n",
        "\n",
        "df = pd.read_csv('/content/HESSO_student_job.csv')\n",
        "df.info()"
      ],
      "metadata": {
        "colab": {
          "base_uri": "https://localhost:8080/"
        },
        "id": "uxzDjhAe2vFq",
        "outputId": "ff7fc001-93d1-4155-c288-938888871e3a"
      },
      "execution_count": 6,
      "outputs": [
        {
          "output_type": "stream",
          "name": "stdout",
          "text": [
            "<class 'pandas.core.frame.DataFrame'>\n",
            "RangeIndex: 11 entries, 0 to 10\n",
            "Data columns (total 5 columns):\n",
            " #   Column         Non-Null Count  Dtype \n",
            "---  ------         --------------  ----- \n",
            " 0   Category       11 non-null     object\n",
            " 1   Job            11 non-null     object\n",
            " 2   Population     11 non-null     int64 \n",
            " 3   SubJob         10 non-null     object\n",
            " 4   SubPopulation  10 non-null     object\n",
            "dtypes: int64(1), object(4)\n",
            "memory usage: 568.0+ bytes\n"
          ]
        }
      ]
    },
    {
      "cell_type": "markdown",
      "source": [
        "## pre-process"
      ],
      "metadata": {
        "id": "0VFbP5HN6Rst"
      }
    },
    {
      "cell_type": "markdown",
      "source": [
        "Get Specific Job List "
      ],
      "metadata": {
        "id": "P_UV5Xmh9YCK"
      }
    },
    {
      "cell_type": "code",
      "source": [
        "df_filter = df.dropna().copy()\n",
        "df_filter['SubJobList'] = df_filter['SubJob'].apply(lambda x: str(x).split(','))"
      ],
      "metadata": {
        "id": "SUf2Z48-5NMB"
      },
      "execution_count": 7,
      "outputs": []
    },
    {
      "cell_type": "markdown",
      "source": [
        "Get specific population "
      ],
      "metadata": {
        "id": "0CcXrwO_GRip"
      }
    },
    {
      "cell_type": "code",
      "source": [
        "def split_and_convert(text):\n",
        "  return [int(item) for item in text.split(',')]\n",
        "\n",
        "\n",
        "df_filter['SubPopulationList'] = df_filter['SubPopulation'].apply(lambda x: split_and_convert(x))"
      ],
      "metadata": {
        "id": "v7FgvWL-ErPu"
      },
      "execution_count": 8,
      "outputs": []
    },
    {
      "cell_type": "markdown",
      "source": [
        "## Process"
      ],
      "metadata": {
        "id": "F_nw5QYM9Pa3"
      }
    },
    {
      "cell_type": "markdown",
      "source": [
        "Main Labels (Inner Cicle)"
      ],
      "metadata": {
        "id": "IIQ-n0eO9ESk"
      }
    },
    {
      "cell_type": "code",
      "source": [
        "labels_main  = list(set(df['Category'].tolist()))\n",
        "parents_main = [\"\" for _ in range(len(labels_main))]\n",
        "values_main  = [df.groupby('Category')['Population'].sum()[item] for item in labels_main]"
      ],
      "metadata": {
        "id": "CT7gwn_O7mSm"
      },
      "execution_count": 9,
      "outputs": []
    },
    {
      "cell_type": "markdown",
      "source": [
        "Job Labes (Second Circle)"
      ],
      "metadata": {
        "id": "cev7f9Q_AL17"
      }
    },
    {
      "cell_type": "code",
      "source": [
        "labels_second  = df['Job'].tolist()\n",
        "parents_second = df['Category'].tolist()\n",
        "values_second  = df['Population'].tolist()"
      ],
      "metadata": {
        "id": "GxhM5Q-RAQD6"
      },
      "execution_count": 10,
      "outputs": []
    },
    {
      "cell_type": "markdown",
      "source": [
        "Detailed Job Position (Outer Circle)"
      ],
      "metadata": {
        "id": "EwJ1f9zvEG_F"
      }
    },
    {
      "cell_type": "code",
      "source": [
        "labels_outer  = []\n",
        "parents_outer = []\n",
        "values_outer  = []\n",
        "\n",
        "for idx, row in df_filter.iterrows():\n",
        "  for job, pop in zip(row['SubJobList'],row['SubPopulationList']):\n",
        "    labels_outer.append(job)\n",
        "    parents_outer.append(row['Job'])\n",
        "    values_outer.append(pop)"
      ],
      "metadata": {
        "id": "v7S0i3A5Edjv"
      },
      "execution_count": 11,
      "outputs": []
    },
    {
      "cell_type": "markdown",
      "source": [
        "Merge First, Second, and Third circles"
      ],
      "metadata": {
        "id": "OwMarptCB4rB"
      }
    },
    {
      "cell_type": "code",
      "source": [
        "labels_all  = labels_main  + labels_second  + labels_outer\n",
        "parents_all = parents_main + parents_second + parents_outer\n",
        "value_all   = values_main  + values_second  + values_outer"
      ],
      "metadata": {
        "id": "bKxGByzNB_Z4"
      },
      "execution_count": 12,
      "outputs": []
    },
    {
      "cell_type": "code",
      "source": [
        "labels_with_perc = []\n",
        "tot = sum(values_main)\n",
        "\n",
        "for lab, val in zip(labels_all, value_all):\n",
        "  text = f'{lab}<br>{round(val/tot*100)}%'\n",
        "  labels_with_perc.append(text)\n"
      ],
      "metadata": {
        "id": "nXHQB42c637z"
      },
      "execution_count": 27,
      "outputs": []
    },
    {
      "cell_type": "markdown",
      "source": [
        "## Visualize"
      ],
      "metadata": {
        "id": "vhLsKEe19Mqs"
      }
    },
    {
      "cell_type": "code",
      "execution_count": 28,
      "metadata": {
        "colab": {
          "base_uri": "https://localhost:8080/",
          "height": 1000
        },
        "id": "O3AL9PkR2rto",
        "outputId": "76e019d4-cd1f-4b59-8ad3-dce54a46861f"
      },
      "outputs": [
        {
          "output_type": "display_data",
          "data": {
            "text/html": [
              "<html>\n",
              "<head><meta charset=\"utf-8\" /></head>\n",
              "<body>\n",
              "    <div>            <script src=\"https://cdnjs.cloudflare.com/ajax/libs/mathjax/2.7.5/MathJax.js?config=TeX-AMS-MML_SVG\"></script><script type=\"text/javascript\">if (window.MathJax && window.MathJax.Hub && window.MathJax.Hub.Config) {window.MathJax.Hub.Config({SVG: {font: \"STIX-Web\"}});}</script>                <script type=\"text/javascript\">window.PlotlyConfig = {MathJaxConfig: 'local'};</script>\n",
              "        <script src=\"https://cdn.plot.ly/plotly-2.18.2.min.js\"></script>                <div id=\"096f054d-aea0-4732-950a-7f7d9d5aa5a8\" class=\"plotly-graph-div\" style=\"height:1100px; width:1100px;\"></div>            <script type=\"text/javascript\">                                    window.PLOTLYENV=window.PLOTLYENV || {};                                    if (document.getElementById(\"096f054d-aea0-4732-950a-7f7d9d5aa5a8\")) {                    Plotly.newPlot(                        \"096f054d-aea0-4732-950a-7f7d9d5aa5a8\",                        [{\"branchvalues\":\"total\",\"ids\":[\"Team Management\",\"Software Development\",\"Research & Development\",\"IT Infrastructure and Support\",\"Business Analysis and Consulting\",\"Software Engineer\",\"Software Developer\",\"Data/Business Analyst\",\"IT Consultant\",\"Project manager\",\"IT Support\",\"CEO\",\"R&D\",\"Solution Architect\",\"Security Engineer\",\"UX Designer\",\"Database Administrator\",\"Performance Engineer\",\"ICT System Engineer\",\"QA Engineer\",\"Industrial IT Engineer\",\"DevOps Engineer\",\"Java Developer\",\"MIS specialist\",\"Mobile Developer\",\"System Specialist \",\"Web Developer\",\"Full Stack Developer\",\"IT Business Analyst (SAP)\",\"BI Integrator\",\"Specialist Consultant\",\"SAP Conslutant\",\"BI Consultant\",\"Data manager\",\"Head of Data Distribution\",\"IT Manager\",\"ERP Betreuer\",\"Team Leader Cloud Hosting\",\"Application manager\",\"Quality Unit IT Support Specialist\",\"Product Owner\",\" Project assistant\",\"R&D Chief\",\"R&D Engineer\",\"Full Stack Data Scientist\",\"Full Stack Data Scientist \",\"Head of Microsoft Solutions\",\"Security Delivery consultant\"],\"labels\":[\"Team Management<br>2%\",\"Software Development<br>40%\",\"Research & Development<br>9%\",\"IT Infrastructure and Support<br>10%\",\"Business Analysis and Consulting<br>39%\",\"Software Engineer<br>15%\",\"Software Developer<br>23%\",\"Data/Business Analyst<br>11%\",\"IT Consultant<br>12%\",\"Project manager<br>16%\",\"IT Support<br>3%\",\"CEO<br>2%\",\"R&D<br>9%\",\"Solution Architect<br>5%\",\"Security Engineer<br>2%\",\"UX Designer<br>2%\",\"Database Administrator<br>1%\",\"Performance Engineer<br>1%\",\"ICT System Engineer<br>1%\",\"QA Engineer<br>1%\",\"Industrial IT Engineer<br>1%\",\"DevOps Engineer<br>2%\",\"Java Developer<br>1%\",\"MIS specialist<br>1%\",\"Mobile Developer<br>1%\",\"System Specialist <br>2%\",\"Web Developer<br>3%\",\"Full Stack Developer<br>5%\",\"IT Business Analyst (SAP)<br>1%\",\"BI Integrator<br>1%\",\"Specialist Consultant<br>5%\",\"SAP Conslutant<br>3%\",\"BI Consultant<br>1%\",\"Data manager<br>1%\",\"Head of Data Distribution<br>2%\",\"IT Manager<br>4%\",\"ERP Betreuer<br>1%\",\"Team Leader Cloud Hosting<br>1%\",\"Application manager<br>1%\",\"Quality Unit IT Support Specialist<br>1%\",\"Product Owner<br>1%\",\" Project assistant<br>1%\",\"R&D Chief<br>1%\",\"R&D Engineer<br>1%\",\"Full Stack Data Scientist<br>1%\",\"Full Stack Data Scientist <br>7%\",\"Head of Microsoft Solutions<br>1%\",\"Security Delivery consultant<br>1%\"],\"parents\":[\"\",\"\",\"\",\"\",\"\",\"Software Development\",\"Software Development\",\"Business Analysis and Consulting\",\"Business Analysis and Consulting\",\"Business Analysis and Consulting\",\"IT Infrastructure and Support\",\"Team Management\",\"Research & Development\",\"IT Infrastructure and Support\",\"IT Infrastructure and Support\",\"Software Development\",\"Software Engineer\",\"Software Engineer\",\"Software Engineer\",\"Software Engineer\",\"Software Engineer\",\"Software Engineer\",\"Software Developer\",\"Software Developer\",\"Software Developer\",\"Software Developer\",\"Software Developer\",\"Software Developer\",\"Data/Business Analyst\",\"Data/Business Analyst\",\"IT Consultant\",\"IT Consultant\",\"IT Consultant\",\"Project manager\",\"Project manager\",\"Project manager\",\"Project manager\",\"Project manager\",\"Project manager\",\"IT Support\",\"CEO\",\"CEO\",\"R&D\",\"R&D\",\"R&D\",\"R&D\",\"Solution Architect\",\"Security Engineer\"],\"values\":[4,71,16,17,69,27,41,20,21,28,6,4,16,8,3,3,1,1,1,1,1,3,2,1,1,3,5,8,1,2,8,5,1,1,4,7,1,1,2,2,1,1,1,1,1,13,1,2],\"type\":\"sunburst\"}],                        {\"template\":{\"data\":{\"histogram2dcontour\":[{\"type\":\"histogram2dcontour\",\"colorbar\":{\"outlinewidth\":0,\"ticks\":\"\"},\"colorscale\":[[0.0,\"#0d0887\"],[0.1111111111111111,\"#46039f\"],[0.2222222222222222,\"#7201a8\"],[0.3333333333333333,\"#9c179e\"],[0.4444444444444444,\"#bd3786\"],[0.5555555555555556,\"#d8576b\"],[0.6666666666666666,\"#ed7953\"],[0.7777777777777778,\"#fb9f3a\"],[0.8888888888888888,\"#fdca26\"],[1.0,\"#f0f921\"]]}],\"choropleth\":[{\"type\":\"choropleth\",\"colorbar\":{\"outlinewidth\":0,\"ticks\":\"\"}}],\"histogram2d\":[{\"type\":\"histogram2d\",\"colorbar\":{\"outlinewidth\":0,\"ticks\":\"\"},\"colorscale\":[[0.0,\"#0d0887\"],[0.1111111111111111,\"#46039f\"],[0.2222222222222222,\"#7201a8\"],[0.3333333333333333,\"#9c179e\"],[0.4444444444444444,\"#bd3786\"],[0.5555555555555556,\"#d8576b\"],[0.6666666666666666,\"#ed7953\"],[0.7777777777777778,\"#fb9f3a\"],[0.8888888888888888,\"#fdca26\"],[1.0,\"#f0f921\"]]}],\"heatmap\":[{\"type\":\"heatmap\",\"colorbar\":{\"outlinewidth\":0,\"ticks\":\"\"},\"colorscale\":[[0.0,\"#0d0887\"],[0.1111111111111111,\"#46039f\"],[0.2222222222222222,\"#7201a8\"],[0.3333333333333333,\"#9c179e\"],[0.4444444444444444,\"#bd3786\"],[0.5555555555555556,\"#d8576b\"],[0.6666666666666666,\"#ed7953\"],[0.7777777777777778,\"#fb9f3a\"],[0.8888888888888888,\"#fdca26\"],[1.0,\"#f0f921\"]]}],\"heatmapgl\":[{\"type\":\"heatmapgl\",\"colorbar\":{\"outlinewidth\":0,\"ticks\":\"\"},\"colorscale\":[[0.0,\"#0d0887\"],[0.1111111111111111,\"#46039f\"],[0.2222222222222222,\"#7201a8\"],[0.3333333333333333,\"#9c179e\"],[0.4444444444444444,\"#bd3786\"],[0.5555555555555556,\"#d8576b\"],[0.6666666666666666,\"#ed7953\"],[0.7777777777777778,\"#fb9f3a\"],[0.8888888888888888,\"#fdca26\"],[1.0,\"#f0f921\"]]}],\"contourcarpet\":[{\"type\":\"contourcarpet\",\"colorbar\":{\"outlinewidth\":0,\"ticks\":\"\"}}],\"contour\":[{\"type\":\"contour\",\"colorbar\":{\"outlinewidth\":0,\"ticks\":\"\"},\"colorscale\":[[0.0,\"#0d0887\"],[0.1111111111111111,\"#46039f\"],[0.2222222222222222,\"#7201a8\"],[0.3333333333333333,\"#9c179e\"],[0.4444444444444444,\"#bd3786\"],[0.5555555555555556,\"#d8576b\"],[0.6666666666666666,\"#ed7953\"],[0.7777777777777778,\"#fb9f3a\"],[0.8888888888888888,\"#fdca26\"],[1.0,\"#f0f921\"]]}],\"surface\":[{\"type\":\"surface\",\"colorbar\":{\"outlinewidth\":0,\"ticks\":\"\"},\"colorscale\":[[0.0,\"#0d0887\"],[0.1111111111111111,\"#46039f\"],[0.2222222222222222,\"#7201a8\"],[0.3333333333333333,\"#9c179e\"],[0.4444444444444444,\"#bd3786\"],[0.5555555555555556,\"#d8576b\"],[0.6666666666666666,\"#ed7953\"],[0.7777777777777778,\"#fb9f3a\"],[0.8888888888888888,\"#fdca26\"],[1.0,\"#f0f921\"]]}],\"mesh3d\":[{\"type\":\"mesh3d\",\"colorbar\":{\"outlinewidth\":0,\"ticks\":\"\"}}],\"scatter\":[{\"fillpattern\":{\"fillmode\":\"overlay\",\"size\":10,\"solidity\":0.2},\"type\":\"scatter\"}],\"parcoords\":[{\"type\":\"parcoords\",\"line\":{\"colorbar\":{\"outlinewidth\":0,\"ticks\":\"\"}}}],\"scatterpolargl\":[{\"type\":\"scatterpolargl\",\"marker\":{\"colorbar\":{\"outlinewidth\":0,\"ticks\":\"\"}}}],\"bar\":[{\"error_x\":{\"color\":\"#2a3f5f\"},\"error_y\":{\"color\":\"#2a3f5f\"},\"marker\":{\"line\":{\"color\":\"#E5ECF6\",\"width\":0.5},\"pattern\":{\"fillmode\":\"overlay\",\"size\":10,\"solidity\":0.2}},\"type\":\"bar\"}],\"scattergeo\":[{\"type\":\"scattergeo\",\"marker\":{\"colorbar\":{\"outlinewidth\":0,\"ticks\":\"\"}}}],\"scatterpolar\":[{\"type\":\"scatterpolar\",\"marker\":{\"colorbar\":{\"outlinewidth\":0,\"ticks\":\"\"}}}],\"histogram\":[{\"marker\":{\"pattern\":{\"fillmode\":\"overlay\",\"size\":10,\"solidity\":0.2}},\"type\":\"histogram\"}],\"scattergl\":[{\"type\":\"scattergl\",\"marker\":{\"colorbar\":{\"outlinewidth\":0,\"ticks\":\"\"}}}],\"scatter3d\":[{\"type\":\"scatter3d\",\"line\":{\"colorbar\":{\"outlinewidth\":0,\"ticks\":\"\"}},\"marker\":{\"colorbar\":{\"outlinewidth\":0,\"ticks\":\"\"}}}],\"scattermapbox\":[{\"type\":\"scattermapbox\",\"marker\":{\"colorbar\":{\"outlinewidth\":0,\"ticks\":\"\"}}}],\"scatterternary\":[{\"type\":\"scatterternary\",\"marker\":{\"colorbar\":{\"outlinewidth\":0,\"ticks\":\"\"}}}],\"scattercarpet\":[{\"type\":\"scattercarpet\",\"marker\":{\"colorbar\":{\"outlinewidth\":0,\"ticks\":\"\"}}}],\"carpet\":[{\"aaxis\":{\"endlinecolor\":\"#2a3f5f\",\"gridcolor\":\"white\",\"linecolor\":\"white\",\"minorgridcolor\":\"white\",\"startlinecolor\":\"#2a3f5f\"},\"baxis\":{\"endlinecolor\":\"#2a3f5f\",\"gridcolor\":\"white\",\"linecolor\":\"white\",\"minorgridcolor\":\"white\",\"startlinecolor\":\"#2a3f5f\"},\"type\":\"carpet\"}],\"table\":[{\"cells\":{\"fill\":{\"color\":\"#EBF0F8\"},\"line\":{\"color\":\"white\"}},\"header\":{\"fill\":{\"color\":\"#C8D4E3\"},\"line\":{\"color\":\"white\"}},\"type\":\"table\"}],\"barpolar\":[{\"marker\":{\"line\":{\"color\":\"#E5ECF6\",\"width\":0.5},\"pattern\":{\"fillmode\":\"overlay\",\"size\":10,\"solidity\":0.2}},\"type\":\"barpolar\"}],\"pie\":[{\"automargin\":true,\"type\":\"pie\"}]},\"layout\":{\"autotypenumbers\":\"strict\",\"colorway\":[\"#636efa\",\"#EF553B\",\"#00cc96\",\"#ab63fa\",\"#FFA15A\",\"#19d3f3\",\"#FF6692\",\"#B6E880\",\"#FF97FF\",\"#FECB52\"],\"font\":{\"color\":\"#2a3f5f\"},\"hovermode\":\"closest\",\"hoverlabel\":{\"align\":\"left\"},\"paper_bgcolor\":\"white\",\"plot_bgcolor\":\"#E5ECF6\",\"polar\":{\"bgcolor\":\"#E5ECF6\",\"angularaxis\":{\"gridcolor\":\"white\",\"linecolor\":\"white\",\"ticks\":\"\"},\"radialaxis\":{\"gridcolor\":\"white\",\"linecolor\":\"white\",\"ticks\":\"\"}},\"ternary\":{\"bgcolor\":\"#E5ECF6\",\"aaxis\":{\"gridcolor\":\"white\",\"linecolor\":\"white\",\"ticks\":\"\"},\"baxis\":{\"gridcolor\":\"white\",\"linecolor\":\"white\",\"ticks\":\"\"},\"caxis\":{\"gridcolor\":\"white\",\"linecolor\":\"white\",\"ticks\":\"\"}},\"coloraxis\":{\"colorbar\":{\"outlinewidth\":0,\"ticks\":\"\"}},\"colorscale\":{\"sequential\":[[0.0,\"#0d0887\"],[0.1111111111111111,\"#46039f\"],[0.2222222222222222,\"#7201a8\"],[0.3333333333333333,\"#9c179e\"],[0.4444444444444444,\"#bd3786\"],[0.5555555555555556,\"#d8576b\"],[0.6666666666666666,\"#ed7953\"],[0.7777777777777778,\"#fb9f3a\"],[0.8888888888888888,\"#fdca26\"],[1.0,\"#f0f921\"]],\"sequentialminus\":[[0.0,\"#0d0887\"],[0.1111111111111111,\"#46039f\"],[0.2222222222222222,\"#7201a8\"],[0.3333333333333333,\"#9c179e\"],[0.4444444444444444,\"#bd3786\"],[0.5555555555555556,\"#d8576b\"],[0.6666666666666666,\"#ed7953\"],[0.7777777777777778,\"#fb9f3a\"],[0.8888888888888888,\"#fdca26\"],[1.0,\"#f0f921\"]],\"diverging\":[[0,\"#8e0152\"],[0.1,\"#c51b7d\"],[0.2,\"#de77ae\"],[0.3,\"#f1b6da\"],[0.4,\"#fde0ef\"],[0.5,\"#f7f7f7\"],[0.6,\"#e6f5d0\"],[0.7,\"#b8e186\"],[0.8,\"#7fbc41\"],[0.9,\"#4d9221\"],[1,\"#276419\"]]},\"xaxis\":{\"gridcolor\":\"white\",\"linecolor\":\"white\",\"ticks\":\"\",\"title\":{\"standoff\":15},\"zerolinecolor\":\"white\",\"automargin\":true,\"zerolinewidth\":2},\"yaxis\":{\"gridcolor\":\"white\",\"linecolor\":\"white\",\"ticks\":\"\",\"title\":{\"standoff\":15},\"zerolinecolor\":\"white\",\"automargin\":true,\"zerolinewidth\":2},\"scene\":{\"xaxis\":{\"backgroundcolor\":\"#E5ECF6\",\"gridcolor\":\"white\",\"linecolor\":\"white\",\"showbackground\":true,\"ticks\":\"\",\"zerolinecolor\":\"white\",\"gridwidth\":2},\"yaxis\":{\"backgroundcolor\":\"#E5ECF6\",\"gridcolor\":\"white\",\"linecolor\":\"white\",\"showbackground\":true,\"ticks\":\"\",\"zerolinecolor\":\"white\",\"gridwidth\":2},\"zaxis\":{\"backgroundcolor\":\"#E5ECF6\",\"gridcolor\":\"white\",\"linecolor\":\"white\",\"showbackground\":true,\"ticks\":\"\",\"zerolinecolor\":\"white\",\"gridwidth\":2}},\"shapedefaults\":{\"line\":{\"color\":\"#2a3f5f\"}},\"annotationdefaults\":{\"arrowcolor\":\"#2a3f5f\",\"arrowhead\":0,\"arrowwidth\":1},\"geo\":{\"bgcolor\":\"white\",\"landcolor\":\"#E5ECF6\",\"subunitcolor\":\"white\",\"showland\":true,\"showlakes\":true,\"lakecolor\":\"white\"},\"title\":{\"x\":0.05},\"mapbox\":{\"style\":\"light\"}}},\"margin\":{\"t\":0,\"b\":0,\"r\":0,\"l\":0},\"font\":{\"size\":18},\"autosize\":false,\"width\":1100,\"height\":1100},                        {\"responsive\": true}                    ).then(function(){\n",
              "                            \n",
              "var gd = document.getElementById('096f054d-aea0-4732-950a-7f7d9d5aa5a8');\n",
              "var x = new MutationObserver(function (mutations, observer) {{\n",
              "        var display = window.getComputedStyle(gd).display;\n",
              "        if (!display || display === 'none') {{\n",
              "            console.log([gd, 'removed!']);\n",
              "            Plotly.purge(gd);\n",
              "            observer.disconnect();\n",
              "        }}\n",
              "}});\n",
              "\n",
              "// Listen for the removal of the full notebook cells\n",
              "var notebookContainer = gd.closest('#notebook-container');\n",
              "if (notebookContainer) {{\n",
              "    x.observe(notebookContainer, {childList: true});\n",
              "}}\n",
              "\n",
              "// Listen for the clearing of the current output cell\n",
              "var outputEl = gd.closest('.output');\n",
              "if (outputEl) {{\n",
              "    x.observe(outputEl, {childList: true});\n",
              "}}\n",
              "\n",
              "                        })                };                            </script>        </div>\n",
              "</body>\n",
              "</html>"
            ]
          },
          "metadata": {}
        }
      ],
      "source": [
        "import plotly.graph_objects as go\n",
        "\n",
        "fig = go.Figure(go.Sunburst(\n",
        "    ids = labels_all,\n",
        "    labels=labels_with_perc,\n",
        "    parents=parents_all,\n",
        "    values=value_all,\n",
        "    branchvalues=\"total\",\n",
        "))\n",
        "fig.update_layout(\n",
        "    margin=dict(t=0, b=0, r=0, l=0),\n",
        "    autosize=False,\n",
        "    width=1100,\n",
        "    height=1100,\n",
        "    font=dict(size=18)\n",
        ")\n",
        "\n",
        "fig.show()"
      ]
    }
  ]
}